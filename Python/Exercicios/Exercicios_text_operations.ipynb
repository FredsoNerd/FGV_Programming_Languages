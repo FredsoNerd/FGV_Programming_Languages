{
 "cells": [
  {
   "cell_type": "markdown",
   "metadata": {},
   "source": [
    "#### Exercícios Python"
   ]
  },
  {
   "cell_type": "markdown",
   "metadata": {},
   "source": [
    "Primeiro Exercício"
   ]
  },
  {
   "cell_type": "code",
   "execution_count": null,
   "metadata": {},
   "outputs": [],
   "source": [
    "confortablynumb = '''\n",
    "Hello\n",
    "Is there anybody in there?\n",
    "Just nod if you can hear me\n",
    "Is there anyone at home?\n",
    "\n",
    "Come on now\n",
    "I hear you're feeling down\n",
    "Well, I can ease your pain\n",
    "And get you on your feet again\n",
    "\n",
    "Relax\n",
    "I'll need some information first\n",
    "Just the basic facts\n",
    "Can you show me where it hurts\n",
    "\n",
    "There is no pain, you are receding\n",
    "A distant ship's smoke on the horizon\n",
    "You are only coming through in waves\n",
    "Your lips move but I can't hear what you're saying\n",
    "When I was a child I had a fever\n",
    "My hands felt just like two balloons\n",
    "\n",
    "Now I've got that feeling once again\n",
    "I can't explain, you would not understand\n",
    "This is not how I am\n",
    "I have become comfortably numb\n",
    "\n",
    "I have become comfortably numb\n",
    "\n",
    "Ok\n",
    "Just a little pin prick\n",
    "There'll be no more\n",
    "Ah!\n",
    "But you might feel a little sick\n",
    "Can you stand up?\n",
    "I do belive it's working, good\n",
    "That'll keep you going, through the show\n",
    "Come on it's time to go.\n",
    "\n",
    "There is no pain you are receding\n",
    "A distant ship's smoke on the horizon\n",
    "You are only coming through in waves\n",
    "Your lips move, but I can't hear what you're saying\n",
    "When I was a child\n",
    "I caught a fleeting glimpse\n",
    "Out of the corner of my eye\n",
    "I turned to look but it was gone\n",
    "I cannot put my finger on it now\n",
    "The child is grown\n",
    "The dream is gone\n",
    "And I have become\n",
    "Comfortably num'''"
   ]
  },
  {
   "cell_type": "code",
   "execution_count": null,
   "metadata": {},
   "outputs": [],
   "source": [
    "import string\n",
    "\n",
    "palavras = [wrd.lower().strip(string.punctuation) for wrd in confortablynumb.split()]\n",
    "frequenc = {wrd:palavras.count(wrd) for wrd in set(palavras)}\n",
    "\n",
    "ordfrqcy = [(wrd, frq) for (wrd,frq) in sorted(frequenc.items(), key = lambda x: x[1])]\n",
    "ordfrqcy = ordfrqcy[-1::-1]"
   ]
  },
  {
   "cell_type": "code",
   "execution_count": null,
   "metadata": {},
   "outputs": [],
   "source": [
    "#def freqdist(texto):\n",
    "#    d = {}\n",
    "#    lista = texto.split('\\n')\n",
    "#    texto = ' '.join(lista)\n",
    "#   for palavra in lista:\n",
    "#        palavra = palavra.strip().lower()\n",
    "#        if palavra not in d:\n",
    "#            d[palavra] = 1\n",
    "#        else:\n",
    "#            d[palavra] += 1\n",
    "#    return d'''"
   ]
  },
  {
   "cell_type": "code",
   "execution_count": null,
   "metadata": {},
   "outputs": [],
   "source": [
    "#confortablynumb"
   ]
  },
  {
   "cell_type": "code",
   "execution_count": null,
   "metadata": {},
   "outputs": [],
   "source": [
    "#d = freqdist(confortablynumb)"
   ]
  },
  {
   "cell_type": "code",
   "execution_count": null,
   "metadata": {},
   "outputs": [],
   "source": [
    "#import operator\n",
    "#d2 = sorted(d.items(), key=operator.itemgetter(1), reverse=True)"
   ]
  },
  {
   "cell_type": "markdown",
   "metadata": {},
   "source": [
    "Segundo Exercício"
   ]
  },
  {
   "cell_type": "code",
   "execution_count": null,
   "metadata": {},
   "outputs": [],
   "source": [
    "#import nltk\n",
    "#sw = nltk.corpus.stopwords.words('english')"
   ]
  },
  {
   "cell_type": "code",
   "execution_count": null,
   "metadata": {},
   "outputs": [],
   "source": [
    "#d3 = d.copy()\n",
    "#for word in sw:\n",
    "#    if word in d3:\n",
    "#        print('Retirando palavra {}'.format(word))\n",
    "#        d3.pop(word)\n",
    "#d3"
   ]
  },
  {
   "cell_type": "markdown",
   "metadata": {},
   "source": [
    "Terceiro Exercício"
   ]
  },
  {
   "cell_type": "code",
   "execution_count": null,
   "metadata": {},
   "outputs": [],
   "source": [
    "import numpy as np\n",
    "import matplotlib.pyplot as plt\n",
    "%matplotlib inline"
   ]
  },
  {
   "cell_type": "code",
   "execution_count": null,
   "metadata": {},
   "outputs": [],
   "source": [
    "lista1 = [1,2,3,4,5,6]\n",
    "lista2 = [2,4,6,8,10,12]\n",
    "lista3 = [3,6,9,12,15,18]\n",
    "\n",
    "def plota_num(*listas):\n",
    "    plt.figure()\n",
    "    for lista in listas:\n",
    "        plt.plot(lista,'o')\n",
    "    plt.show()"
   ]
  },
  {
   "cell_type": "code",
   "execution_count": null,
   "metadata": {},
   "outputs": [],
   "source": [
    "plota_num(lista1,lista2,lista3)"
   ]
  },
  {
   "cell_type": "markdown",
   "metadata": {},
   "source": [
    "Quarto Exercício"
   ]
  },
  {
   "cell_type": "code",
   "execution_count": null,
   "metadata": {},
   "outputs": [],
   "source": [
    "s = 'Minha STring com Algumas Palavras começando COM maiúsculas'\n",
    "\n",
    "wrds = [wrd for wrd in s.split() if wrd.istitle()]\n",
    "wrds\n",
    "\n",
    "#l = s.split()\n",
    "#s2 = filter(lambda x:x.istitle(),l)\n",
    "#list(s2)"
   ]
  },
  {
   "cell_type": "markdown",
   "metadata": {},
   "source": [
    "Quinto Exercício"
   ]
  },
  {
   "cell_type": "code",
   "execution_count": null,
   "metadata": {},
   "outputs": [],
   "source": [
    "import requests"
   ]
  },
  {
   "cell_type": "code",
   "execution_count": null,
   "metadata": {},
   "outputs": [],
   "source": [
    "url = 'http://emap.fgv.br'\n",
    "pagina = requests.get(url)\n",
    "texto = pagina.text"
   ]
  },
  {
   "cell_type": "code",
   "execution_count": null,
   "metadata": {},
   "outputs": [],
   "source": [
    "lista_palavras = texto.split(' ')"
   ]
  },
  {
   "cell_type": "code",
   "execution_count": null,
   "metadata": {},
   "outputs": [],
   "source": [
    "links = [p.strip() for p in lista_palavras if '://' in p]\n",
    "#for link in links:\n",
    "#    print(link[link.find('http'):link.find('\"',link.find('http'))])"
   ]
  },
  {
   "cell_type": "code",
   "execution_count": null,
   "metadata": {},
   "outputs": [],
   "source": [
    "emails = [p.strip() for p in lista_palavras if '@' in p]\n",
    "emails"
   ]
  },
  {
   "cell_type": "markdown",
   "metadata": {},
   "source": [
    "Transposição de Matrizes"
   ]
  },
  {
   "cell_type": "code",
   "execution_count": null,
   "metadata": {},
   "outputs": [],
   "source": []
  },
  {
   "cell_type": "code",
   "execution_count": null,
   "metadata": {},
   "outputs": [],
   "source": []
  },
  {
   "cell_type": "code",
   "execution_count": null,
   "metadata": {},
   "outputs": [],
   "source": [
    "M = np.arange(1,17).reshape(4,4)\n",
    "N = np.empty([4,4])\n",
    "\n",
    "for i in range(M.shape[0]):\n",
    "    for j in range(M.shape[1]):\n",
    "        N[i,j] = M[j,i]\n",
    "    \n",
    "print(N.astype(int))"
   ]
  },
  {
   "cell_type": "code",
   "execution_count": 3,
   "metadata": {},
   "outputs": [
    {
     "name": "stdout",
     "output_type": "stream",
     "text": [
      "['1', '2', '3', '4', '5', '6']\n",
      "['1', '2', '3', '4', '5', '6', 10]\n"
     ]
    }
   ],
   "source": [
    "a = ['1','2','3','4','5','6']\n",
    "b = a.copy()\n",
    "b.append(10)\n",
    "\n",
    "print(a)\n",
    "print(b)"
   ]
  },
  {
   "cell_type": "code",
   "execution_count": null,
   "metadata": {},
   "outputs": [],
   "source": []
  }
 ],
 "metadata": {
  "kernelspec": {
   "display_name": "Python 3",
   "language": "python",
   "name": "python3"
  },
  "language_info": {
   "codemirror_mode": {
    "name": "ipython",
    "version": 3
   },
   "file_extension": ".py",
   "mimetype": "text/x-python",
   "name": "python",
   "nbconvert_exporter": "python",
   "pygments_lexer": "ipython3",
   "version": "3.5.2"
  }
 },
 "nbformat": 4,
 "nbformat_minor": 1
}
