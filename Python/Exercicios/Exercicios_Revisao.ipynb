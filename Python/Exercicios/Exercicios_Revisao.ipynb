{
 "cells": [
  {
   "cell_type": "markdown",
   "metadata": {},
   "source": [
    "Exercícios de Revisão\n",
    "--\n",
    "Professor: Renato Rocha Souza  \n",
    "--"
   ]
  },
  {
   "cell_type": "code",
   "execution_count": 2,
   "metadata": {},
   "outputs": [],
   "source": [
    "import itertools\n",
    "import random\n",
    "import numpy as np\n",
    "import matplotlib.pyplot as plt\n",
    "import urllib\n",
    "import pandas as pd\n",
    "import requests\n",
    "from bs4 import BeautifulSoup as bs\n",
    "import networkx as nx\n",
    "%matplotlib inline"
   ]
  },
  {
   "cell_type": "markdown",
   "metadata": {},
   "source": [
    "Em quais tipos de dados do Python (que você conhece) que se pode iterar (com o comando for, por exemplo)? Exemplifique para cada tipo."
   ]
  },
  {
   "cell_type": "markdown",
   "metadata": {
    "collapsed": true
   },
   "source": [
    "Podemos iterar sobre os tipos que contém o metodo oculto __iter__().  \n",
    "Os tipos como lista, tupla, dicionario, array, conjunto ou string sportam tais operacoes"
   ]
  },
  {
   "cell_type": "code",
   "execution_count": 3,
   "metadata": {},
   "outputs": [
    {
     "name": "stdout",
     "output_type": "stream",
     "text": [
      "lista: 1\n",
      "lista: 2\n",
      "lista: 3\n",
      "lista: 4\n",
      "\n",
      "tupla: 1\n",
      "tupla: 2\n",
      "tupla: 3\n",
      "tupla: 4\n",
      "\n",
      "dicio: (1, 'um')\n",
      "dicio: (2, 'dois')\n",
      "dicio: (3, 'tres')\n",
      "dicio: (4, 'quatro')\n",
      "\n",
      "string: u\n",
      "string: m\n",
      "string: a\n",
      "string:  \n",
      "string: S\n",
      "string: t\n",
      "string: r\n",
      "string: i\n",
      "string: n\n",
      "string: g\n",
      "string: (\n",
      "string: )\n",
      "\n",
      "Conju: 1\n",
      "Conju: 2\n",
      "Conju: 3\n",
      "Conju: 4\n",
      "\n",
      "array: 1\n",
      "array: 2\n",
      "array: 3\n",
      "array: 4\n"
     ]
    }
   ],
   "source": [
    "lista = [1, 2, 3, 4]\n",
    "tupla = (1, 2, 3, 4)\n",
    "dicio = {1:'um', 2:'dois', 3:'tres', 4:'quatro'}\n",
    "texto = 'uma String()'\n",
    "conju = {1, 2, 3, 4}\n",
    "array = np.array(np.arange(1,5))\n",
    "\n",
    "for item in lista:\n",
    "    print('lista: {}'.format(item))\n",
    "\n",
    "print()\n",
    "for item in tupla:\n",
    "    print('tupla: {}'.format(item))\n",
    "\n",
    "print()\n",
    "for item in dicio.items():\n",
    "    print('dicio: {}'.format(item))\n",
    "\n",
    "print()\n",
    "for item in texto:\n",
    "    print('string: {}'.format(item))\n",
    "\n",
    "print()\n",
    "for item in conju:\n",
    "    print('Conju: {}'.format(item))\n",
    "\n",
    "print()\n",
    "for item in array:\n",
    "    print('array: {}'.format(item))"
   ]
  },
  {
   "cell_type": "markdown",
   "metadata": {},
   "source": [
    "Escreva uma função que receba um número romano e retorne o equivalente em algarismos indo-arábicos"
   ]
  },
  {
   "cell_type": "code",
   "execution_count": 20,
   "metadata": {},
   "outputs": [
    {
     "name": "stdout",
     "output_type": "stream",
     "text": [
      "numero romano: MCDXXXVIII\n",
      "1438\n"
     ]
    }
   ],
   "source": [
    "dic = {' ':0, 'I':1, 'V':5, 'X':10, 'L':50, 'C':100, 'D':500, 'M':1000}\n",
    "\n",
    "def converte(romano):\n",
    "    romano += ' '\n",
    "    res = 0\n",
    "    for i in range(len(romano) - 1):\n",
    "        indice = romano[i]\n",
    "        proxim = romano[i+1]\n",
    "        \n",
    "        if dic[indice] < dic[proxim]: res -= dic[indice]\n",
    "        else:                 res += dic[indice]\n",
    "            \n",
    "    print(res)\n",
    "    \n",
    "converte(input('numero romano: '))"
   ]
  },
  {
   "cell_type": "markdown",
   "metadata": {},
   "source": [
    "#### Validação de CPF\n",
    "\n",
    "O CPF é formado por 11 dígitos numéricos que seguem a máscara “###.###.###-##”, a verificação do CPF acontece utilizando os 9 primeiros dígitos e, com um cálculo simples, verificando se o resultado corresponde aos dois últimos dígitos (depois do sinal “-“).\n",
    "\n",
    "Vamos usar como exemplo, um CPF fictício “529.982.247-25”.\n",
    "\n",
    "#### Validação do primeiro dígito após o \"-\"\n",
    "\n",
    "Primeiramente multiplicam-se os 9 primeiros dígitos pela sequência decrescente de números de 10 à 2 e soma os resultados. Assim:\n",
    "\n",
    "    5 * 10 + 2 * 9 + 9 * 8 + 9 * 7 + 8 * 6 + 2 * 5 + 2 * 4 + 4 * 3 + 7 * 2\n",
    "\n",
    "O resultado do nosso exemplo é: 295\n",
    "    \n",
    "O próximo passo da verificação também é simples, basta multiplicarmos esse resultado por 10 e dividirmos por 11.\n",
    "\n",
    "    295 * 10 / 11\n",
    "\n",
    "O resultado que nos interessa na verdade é o RESTO da divisão. Se ele for igual ao primeiro dígito verificador (primeiro dígito depois do ‘-‘), a primeira parte da validação está correta.\n",
    "\n",
    "Observação Importante: Se o resto da divisão for igual a 10, nós o consideramos como 0.\n",
    "\n",
    "Vamos conferir o primeiro dígito verificador do nosso exemplo. O resultado da divisão acima é ‘268’ e o RESTO é 2\n",
    "\n",
    "Isso significa que o nosso CPF exemplo passou na validação do primeiro dígito.\n",
    "\n",
    "#### Validação do segundo dígito após o \"-\"\n",
    "\n",
    "A validação do segundo dígito é semelhante à primeira, porém vamos considerar os 9 primeiros dígitos, mais o primeiro dígito verificador, e vamos multiplicar esses 10 números pela sequencia decrescente de 11 a 2. Vejamos:\n",
    "\n",
    "    5 * 11 + 2 * 10 + 9 * 9 + 9 * 8 + 8 * 7 + 2 * 6 + 2 * 5 + 4 * 4 + 7 * 3 + 2 * 2\n",
    "\n",
    "O resultado é: 347\n",
    "\n",
    "Seguindo o mesmo processo da primeira verificação, multiplicamos por 10 e dividimos por 11.\n",
    "\n",
    "    347 * 10 / 11\n",
    "\n",
    "Verificando o RESTO, como fizemos anteriormente, temos que o resultado da divisão é ‘315’ e o RESTO é 5\n",
    "\n",
    "Verificamos, se o resto corresponde ao segundo dígito verificador. Com essa verificação, constatamos que o CPF 529.982.247-25 é válido.\n",
    "\n",
    "Existe alguns casos de CPFs que passam nessa validação que expliquei, mas que ainda são inválidos. É os caso dos CPFs com dígitos repetidos (111.111.111-11, 222.222.222-22, …). Esses CPF atendem à validação, mas ainda são considerados inválidos.\n",
    "\n",
    "#### Crie uma função que receba um CPF e diga se este é válido."
   ]
  },
  {
   "cell_type": "code",
   "execution_count": 39,
   "metadata": {},
   "outputs": [
    {
     "data": {
      "text/plain": [
       "True"
      ]
     },
     "execution_count": 39,
     "metadata": {},
     "output_type": "execute_result"
    }
   ],
   "source": [
    "def valida(digs, ver):\n",
    "    \n",
    "    digs = digs[-1::-1]\n",
    "    \n",
    "    aux = 0\n",
    "    for i in range(2, 2 + len(digs)):\n",
    "        aux += int(digs[i-2])*i\n",
    "        \n",
    "    aux *= 10\n",
    "    aux %= 11\n",
    "    if aux == 10: aux = 0 \n",
    "    \n",
    "    return aux == int(ver)\n",
    "\n",
    "def funcao(cod):\n",
    "    cod = cod.replace('-','')\n",
    "    cod = cod.replace('.','')\n",
    "    \n",
    "    dig1 = valida(cod[0: 9], cod[ 9])\n",
    "    dig2 = valida(cod[0:10], cod[10])\n",
    "    \n",
    "    return (dig1 and dig2)\n",
    "    \n",
    "funcao('529.982.247-25')"
   ]
  },
  {
   "cell_type": "markdown",
   "metadata": {},
   "source": [
    "Mostre graficamente que $ \\sin ^2 x + \\cos^2 x = 1. $  \n",
    "\n",
    "Dica: para melhor visualização do gráfico, mude a escala dos eixos com $plt.axis([x_{min},x_{max},y_{min},y_{max}])$"
   ]
  },
  {
   "cell_type": "code",
   "execution_count": 6,
   "metadata": {},
   "outputs": [
    {
     "data": {
      "text/plain": [
       "[<matplotlib.lines.Line2D at 0x7efe4663e898>]"
      ]
     },
     "execution_count": 6,
     "metadata": {},
     "output_type": "execute_result"
    },
    {
     "data": {
      "image/png": "[encoded data removed]",
      "text/plain": [
       "<Figure size 432x288 with 1 Axes>"
      ]
     },
     "metadata": {},
     "output_type": "display_data"
    },
    {
     "data": {
      "image/png": "[encoded data removed]",
      "text/plain": [
       "<Figure size 432x288 with 3 Axes>"
      ]
     },
     "metadata": {},
     "output_type": "display_data"
    }
   ],
   "source": [
    "x = np.linspace(0, 2*np.pi)\n",
    "\n",
    "plt.plot(x, np.sin(x)**2)\n",
    "plt.plot(x, np.cos(x)**2)\n",
    "plt.plot(x, np.sin(x)**2 + np.cos(x)**2)\n",
    "\n",
    "f, (ax, bx, cx) = plt.subplots(1,3)\n",
    "ax.plot(x, np.sin(x)**2, 'g')\n",
    "bx.plot(x, np.cos(x)**2, 'r')\n",
    "cx.plot(x, np.cos(x)**2 + np.sin(x)**2)\n",
    "\n",
    "\n",
    "# Veja que o grafico da soma é a reta y = 1"
   ]
  },
  {
   "cell_type": "markdown",
   "metadata": {},
   "source": [
    "Vamos testar se o módulo “random” gera mesmo números aleatórios?   \n",
    "Escreva uma função que sorteie 10000 números de 1 a 10 e crie um gráfico (histograma) com a frequência de ocorrência de cada um deles.  "
   ]
  },
  {
   "cell_type": "code",
   "execution_count": 83,
   "metadata": {},
   "outputs": [
    {
     "data": {
      "image/png": "[encoded data removed]",
      "text/plain": [
       "<Figure size 432x288 with 1 Axes>"
      ]
     },
     "metadata": {},
     "output_type": "display_data"
    }
   ],
   "source": [
    "#x = np.random.randint(0,10,10000000)\n",
    "#plt.hist(x, 20, facecolor='g', alpha=0.5, histtype='stepfilled')\n",
    "#plt.show()\n",
    "\n",
    "var = np.random.randint(0, 10, 10000000)\n",
    "plt.hist(var, 20)\n",
    "plt.show()"
   ]
  },
  {
   "cell_type": "markdown",
   "metadata": {},
   "source": [
    "Crie um histograma a partir de um dicionário de frequências"
   ]
  },
  {
   "cell_type": "code",
   "execution_count": 112,
   "metadata": {},
   "outputs": [
    {
     "data": {
      "image/png": "[encoded data removed]",
      "text/plain": [
       "<Figure size 432x288 with 1 Axes>"
      ]
     },
     "metadata": {},
     "output_type": "display_data"
    }
   ],
   "source": [
    "frase = 'Uma frase qualquer em que as letras apareçam em frequências diferentes e eu possa depois criar um histograma'\n",
    "\n",
    "letras = set(frase.lower())\n",
    "letras.discard(' ')\n",
    "freque = {ltr:frase.count(ltr) for ltr in letras}\n",
    "freque = {ltr:frq for (ltr, frq) in sorted(freque.items(), key = lambda x: x[1])}\n",
    "\n",
    "plt.hist(tuple(zip(*freque.items()))[1])\n",
    "plt.show()"
   ]
  },
  {
   "cell_type": "code",
   "execution_count": 113,
   "metadata": {},
   "outputs": [
    {
     "data": {
      "text/plain": [
       "{'a': 13,\n",
       " 'c': 2,\n",
       " 'd': 2,\n",
       " 'e': 14,\n",
       " 'f': 3,\n",
       " 'g': 1,\n",
       " 'h': 1,\n",
       " 'i': 5,\n",
       " 'l': 2,\n",
       " 'm': 6,\n",
       " 'n': 2,\n",
       " 'o': 3,\n",
       " 'p': 3,\n",
       " 'q': 4,\n",
       " 'r': 9,\n",
       " 's': 9,\n",
       " 't': 3,\n",
       " 'u': 6,\n",
       " 'ç': 1,\n",
       " 'ê': 1}"
      ]
     },
     "execution_count": 113,
     "metadata": {},
     "output_type": "execute_result"
    }
   ],
   "source": [
    "freque"
   ]
  },
  {
   "cell_type": "code",
   "execution_count": 116,
   "metadata": {},
   "outputs": [
    {
     "data": {
      "text/plain": [
       "(array([ 5.,  4.,  4.,  0.,  1.,  1.,  1.,  0.,  1.,  0.,  2.,  0.,  0.,\n",
       "         0.,  0.,  0.,  1.,  1.,  0.,  1.]),\n",
       " array([  1.  ,   1.75,   2.5 ,   3.25,   4.  ,   4.75,   5.5 ,   6.25,\n",
       "          7.  ,   7.75,   8.5 ,   9.25,  10.  ,  10.75,  11.5 ,  12.25,\n",
       "         13.  ,  13.75,  14.5 ,  15.25,  16.  ]),\n",
       " <a list of 20 Patch objects>)"
      ]
     },
     "execution_count": 116,
     "metadata": {},
     "output_type": "execute_result"
    },
    {
     "data": {
      "image/png": "[encoded data removed]",
      "text/plain": [
       "<matplotlib.figure.Figure at 0x7f8d54a3e9e8>"
      ]
     },
     "metadata": {},
     "output_type": "display_data"
    }
   ],
   "source": [
    "from collections import Counter\n",
    "\n",
    "frase = '''Uma frase qualquer em que as letras apareçam\n",
    "em frequências diferentes e eu possa depois criar um histograma'''.lower()\n",
    "\n",
    "lista = list(frase)\n",
    "freqdist = Counter(lista)\n",
    "\n",
    "x,y = tuple(zip(*freqdist.items()))\n",
    "#print(x)\n",
    "#print(y)\n",
    "\n",
    "fig, ax = plt.subplots(figsize=(20,8))\n",
    "ax.hist(y, bins=20)\n",
    "\n",
    "#ax.set_xticklabels(x)"
   ]
  },
  {
   "cell_type": "code",
   "execution_count": 102,
   "metadata": {},
   "outputs": [
    {
     "data": {
      "text/plain": [
       "Counter({'\\n': 1,\n",
       "         ' ': 16,\n",
       "         'a': 13,\n",
       "         'c': 2,\n",
       "         'd': 2,\n",
       "         'e': 14,\n",
       "         'f': 3,\n",
       "         'g': 1,\n",
       "         'h': 1,\n",
       "         'i': 5,\n",
       "         'l': 2,\n",
       "         'm': 6,\n",
       "         'n': 2,\n",
       "         'o': 3,\n",
       "         'p': 3,\n",
       "         'q': 4,\n",
       "         'r': 9,\n",
       "         's': 9,\n",
       "         't': 3,\n",
       "         'u': 7,\n",
       "         'ç': 1,\n",
       "         'ê': 1})"
      ]
     },
     "execution_count": 102,
     "metadata": {},
     "output_type": "execute_result"
    }
   ],
   "source": [
    "freqdist"
   ]
  },
  {
   "cell_type": "markdown",
   "metadata": {
    "collapsed": true
   },
   "source": [
    "Escreva uma função que gere uma lista com os n primeiros números primos.    "
   ]
  },
  {
   "cell_type": "code",
   "execution_count": null,
   "metadata": {},
   "outputs": [],
   "source": [
    "lenght = int(input('Numero: '))\n",
    "\n",
    "primos = [2]\n",
    "n = 2\n",
    "while len(primos) < lenght:\n",
    "    n += 1\n",
    "    primo = 1\n",
    "    for i in primos:\n",
    "        if n%i == 0: primo = 0\n",
    "            \n",
    "    if primo: primos.append(n)\n",
    "   \n",
    "print(primos)"
   ]
  },
  {
   "cell_type": "markdown",
   "metadata": {},
   "source": [
    "Escreva uma função que gere uma lista com os n primeiros números da sequência de fibonacci  "
   ]
  },
  {
   "cell_type": "code",
   "execution_count": null,
   "metadata": {},
   "outputs": [],
   "source": [
    "fibo = [0, 1]\n",
    "n = int(input('N: '))\n",
    "\n",
    "for i in range(2, n + 1):\n",
    "    fibo.append(fibo[i-2] + fibo[i-1])\n",
    "    \n",
    "print(fibo)"
   ]
  },
  {
   "cell_type": "markdown",
   "metadata": {
    "collapsed": true
   },
   "source": [
    "Escreva uma função que receba n listas de números e “plote” estas sequências em um único gráfico."
   ]
  },
  {
   "cell_type": "code",
   "execution_count": 86,
   "metadata": {},
   "outputs": [],
   "source": [
    "seq1 = [1,2,3,4,5,6]\n",
    "seq2 = [8,6,5,2,3,1]\n",
    "seq3 = [8,3,5,2,4,1]\n",
    "seq4 = [3,7,9,2,4,8,7,5,3,7]\n",
    "\n",
    "def plot_sobre(*seqs):\n",
    "    for seq in seqs:\n",
    "        plt.plot(seq)\n",
    "def plot_lado(*seqs):\n",
    "    num = len(seqs)\n",
    "    \n",
    "    fgr, plots = plt.subplots(1, 4)\n",
    "    for i in range(num):\n",
    "        plots[i].plot(seqs[i])\n",
    "        "
   ]
  },
  {
   "cell_type": "code",
   "execution_count": 87,
   "metadata": {},
   "outputs": [
    {
     "data": {
      "image/png": "[encoded data removed]",
      "text/plain": [
       "<Figure size 432x288 with 1 Axes>"
      ]
     },
     "metadata": {},
     "output_type": "display_data"
    },
    {
     "data": {
      "image/png": "[encoded data removed]",
      "text/plain": [
       "<Figure size 432x288 with 4 Axes>"
      ]
     },
     "metadata": {},
     "output_type": "display_data"
    }
   ],
   "source": [
    "plot_sobre(seq1,seq2,seq3, seq4)\n",
    "plot_lado(seq1,seq2,seq3, seq4)"
   ]
  },
  {
   "cell_type": "markdown",
   "metadata": {},
   "source": [
    "Implemente funções em Python que tenham as mesmas funcionalidade dos comandos \"range\", \"zip\", \"map\", \"filter\" e \"reduce\""
   ]
  },
  {
   "cell_type": "code",
   "execution_count": 119,
   "metadata": {
    "collapsed": true
   },
   "outputs": [],
   "source": [
    "#reduce\n",
    "\n",
    "def my_reduce(funcao, seq):\n",
    "    resultado = None\n",
    "    while len(seq) > 1:\n",
    "        resultado = funcao(seq[0],seq[1])\n",
    "        seq = [resultado] + seq[2:]\n",
    "    print(resultado)"
   ]
  },
  {
   "cell_type": "code",
   "execution_count": 120,
   "metadata": {},
   "outputs": [
    {
     "name": "stdout",
     "output_type": "stream",
     "text": [
      "55\n"
     ]
    }
   ],
   "source": [
    "fun = lambda x,y:x+y\n",
    "seq1 = list(range(11))\n",
    "\n",
    "my_reduce(fun,seq1)"
   ]
  },
  {
   "cell_type": "markdown",
   "metadata": {},
   "source": [
    "Escreva uma função em Python que receba uma string e devolva quatro listas: uma com as palavras em minúsculas, outra com as palavras todas em maiúsculas, uma com as palavras que comecem em maiúsculas, e outra com o que não se encaixar nas listas anteriores."
   ]
  },
  {
   "cell_type": "code",
   "execution_count": 40,
   "metadata": {},
   "outputs": [
    {
     "name": "stdout",
     "output_type": "stream",
     "text": [
      "(['MEU'], ['não'], ['Nome', 'Jose', 'Berezerra'], ['eH', 'dA', 'COsta'])\n"
     ]
    }
   ],
   "source": [
    "def trata_string(texto):\n",
    "    palavras = texto.split()\n",
    "    \n",
    "    maius = [wrd for wrd in palavras if wrd.isupper()]\n",
    "    minus = [wrd for wrd in palavras if wrd.islower()]\n",
    "    titul = [wrd for wrd in palavras if wrd.istitle()]\n",
    "    demai = [wrd for wrd in palavras if wrd not in (maius + minus + titul)]\n",
    "\n",
    "    return (maius, minus, titul, demai)\n",
    "\n",
    "\n",
    "texto = ('MEU Nome não eH Jose Berezerra dA COsta')\n",
    "print(trata_string(texto))"
   ]
  },
  {
   "cell_type": "markdown",
   "metadata": {},
   "source": [
    "Escreva a sequência de comandos para extrair as palavras que se iniciem com maiúsculas de uma string utilizando no processo a função “filter”. O resultado deve ser uma lista."
   ]
  },
  {
   "cell_type": "code",
   "execution_count": 45,
   "metadata": {},
   "outputs": [
    {
     "data": {
      "text/plain": [
       "['Uma', 'Algumas', 'Maiúsculo']"
      ]
     },
     "execution_count": 45,
     "metadata": {},
     "output_type": "execute_result"
    }
   ],
   "source": [
    "string = 'Uma frase com Algumas palavras em Maiúsculo'\n",
    "string = string.split()\n",
    "\n",
    "titulo = list(filter(lambda x: x.istitle(), string))\n",
    "titulo"
   ]
  },
  {
   "cell_type": "markdown",
   "metadata": {},
   "source": [
    "Escreva uma função que receba uma lista de nomes e retorne um grafo que ligue os nomes que compartilham ao menos uma letra. Veja o código abaixo para exemplificar a geração de um grafo.\n",
    "+ Mais informação em: https://networkx.github.io/documentation/stable/tutorial.html"
   ]
  },
  {
   "cell_type": "code",
   "execution_count": 50,
   "metadata": {},
   "outputs": [
    {
     "data": {
      "image/png": "[encoded data removed]",
      "text/plain": [
       "<Figure size 432x288 with 1 Axes>"
      ]
     },
     "metadata": {},
     "output_type": "display_data"
    }
   ],
   "source": [
    "#G = nx.Graph()\n",
    "#G.add_nodes_from(['Renato','Carla','Theo','Alifer'])\n",
    "#G.add_edge('Renato','Carla')\n",
    "#nx.draw(G, with_labels=True, font_weight='bold')\n",
    "\n",
    "def grafos_de_nome(nomes):\n",
    "    '''Recebe uma lista de nomes e gera o grafo como especificado'''\n",
    "    grafo = nx.Graph()\n",
    "    grafo.add_nodes_from(nomes)\n",
    "    \n",
    "    for nome in nomes:\n",
    "        nomes.remove(nome)\n",
    "        for char in nome:\n",
    "            for item in nomes:\n",
    "                if char.lower() in item.lower():\n",
    "                    grafo.add_edge(nome, item)\n",
    "                    \n",
    "    nx.draw(grafo, with_labels=True)\n",
    "\n",
    "grafos_de_nome(['Lucas', 'Fredson', 'José', 'Kaio', 'Alana'])"
   ]
  },
  {
   "cell_type": "markdown",
   "metadata": {},
   "source": [
    "Uma das tarefas mais comuns no tratamento de dados não estruturados é a extração de informações em textos. Escreva uma função chamada “freqdist” que receba uma string e retorne um dicionário que contenha as palavras como chaves e suas frequências de ocorrência como valores. Use apenas a biblioteca padrão do Python."
   ]
  },
  {
   "cell_type": "code",
   "execution_count": 55,
   "metadata": {},
   "outputs": [],
   "source": [
    "def freqdist(arg):\n",
    "    wrds = [wrd for wrd in arg.lower().split()]\n",
    "    frqd = {wrd:wrds.count(wrd) for wrd in wrds}\n",
    "    \n",
    "    return frqd"
   ]
  },
  {
   "cell_type": "code",
   "execution_count": 59,
   "metadata": {},
   "outputs": [
    {
     "name": "stdout",
     "output_type": "stream",
     "text": [
      "{'tinha': 4, 'entrar': 1, 'nada': 1, 'uma': 1, 'ninguém': 2, 'muito': 1, 'rede': 1, 'engraçada': 1, 'porque': 2, 'dormir': 1, 'podia': 2, 'teto': 1, 'era': 1, 'na': 3, 'casa': 3, 'parede': 1, 'nela': 1, 'chão': 1, 'não': 5}\n"
     ]
    }
   ],
   "source": [
    "string  = 'Era uma casa Muito engraçada Não tinha teto Não tinha nada '\n",
    "string += 'Ninguém podia Entrar nela não Porque na casa Não tinha chão '\n",
    "string += 'Ninguém podia Dormir na rede Porque na casa Não tinha parede '\n",
    "\n",
    "print(freqdist(string))"
   ]
  },
  {
   "cell_type": "markdown",
   "metadata": {},
   "source": [
    "Uma técnica muito comum no estudo de linguagem natural é eliminar as palavras mais frequentes que não agregam muito ao texto, para \"limpar\" as análises; essas palavras são chamadas de \"stopwords\".  \n",
    "\n",
    "Crie uma função chamada “remove_stopwords”que recebe um dicionário como o retornado pela função “freqdist”e uma lista de palavras a serem removidas e retorna um novo dicionário, com as devidas palavras removidas.  \n",
    "Por exemplo:  \n",
    "\n",
    "    distribuicao_de_frequencia = {'Era': 1, 'casa': 1, 'engra\\xe7ada': 1,  'muito': 1, 'nada': 1, 'n\\xe3o': 2, 'teto': 1, 'tinha': 2, 'uma': 1}\n",
    "    stopwords = ['não', 'de', 'em', 'um', 'uma', 'para']\n",
    "    nova_freqdist = remove_stopwords(distribuicao_de_frequencia, stopwords)\n",
    "    print nova_freqdist\n",
    "    {'casa': 1, 'engra\\xe7ada': 1, 'era': 1, 'muito': 1, 'nada': 1, 'teto': 1, 'tinha': 2}\n",
    "    \n",
    "Nota: sua função não deve alterar o dicionário recebido! Ela deve retornar um novo dicionário com as palavras desejadas."
   ]
  },
  {
   "cell_type": "code",
   "execution_count": 65,
   "metadata": {},
   "outputs": [],
   "source": [
    "def remove_stopwords(freq, stopwords):\n",
    "    nwfreq = {}\n",
    "    for item in freq:\n",
    "        if not item in stopwords:\n",
    "            nwfreq[item] = freq[item]\n",
    "\n",
    "    return nwfreq\n",
    "\n",
    "nwfreq = remove_stopwords(freqdist(string),['não', 'na', 'uma'])"
   ]
  },
  {
   "cell_type": "markdown",
   "metadata": {},
   "source": [
    "Escreva uma função que extraia todos os links da url abaixo."
   ]
  },
  {
   "cell_type": "code",
   "execution_count": 66,
   "metadata": {},
   "outputs": [],
   "source": [
    "url = 'http://ppgci.eci.ufmg.br/pessoas/professores/permanentes'"
   ]
  },
  {
   "cell_type": "code",
   "execution_count": 67,
   "metadata": {},
   "outputs": [],
   "source": [
    "pagina = requests.get(url)\n",
    "texto = pagina.text\n",
    "#soup = BeautifulSoup(texto)\n",
    "#print(texto)"
   ]
  },
  {
   "cell_type": "code",
   "execution_count": 104,
   "metadata": {},
   "outputs": [
    {
     "data": {
      "text/plain": [
       "['https://fonts.googleapis.com/css?family=Open+Sans:300,400,600,700,80',\n",
       " 'http://ppgci.eci.ufmg.br/wp-content/themes/wp-cedecom/assets/css/base.css',\n",
       " 'http://ppgci.eci.ufmg.br/wp-content/themes/wp-cedecom/assets/css/calendar.css',\n",
       " 'http://ppgci.eci.ufmg.br/wp-content/themes/wp-cedecom/assets/css/bootstrap-table.css',\n",
       " 'http://ppgci.eci.ufmg.br/wp-content/themes/wp-cedecom/assets/css/contraste.cs',\n",
       " 'http://ppgci.eci.ufmg.br/wp-content/themes/wp-cedecom/assets/js/vendor/modernizr.js',\n",
       " 'http://ppgci.eci.ufmg.br/wp-content/plugins/sitepress-multilingual-cms/templates/language-switchers/legacy-dropdown-click/style.css?ver=',\n",
       " 'http://ppgci.eci.ufmg.br/wp-content/plugins/sitepress-multilingual-cms/templates/language-switchers/legacy-list-horizontal/style.css?ver=',\n",
       " 'http://ppgci.eci.ufmg.br/wp-content/plugins/locais/maps.js?ver=4.7.11',\n",
       " 'http://ppgci.eci.ufmg.br/wp-content/plugins/sitepress-multilingual-cms/templates/language-switchers/legacy-dropdown-click/script.js?ver=1',\n",
       " 'https://api.w.org',\n",
       " 'http://ppgci.eci.ufmg.br/wp-json',\n",
       " 'http://ppgci.eci.ufmg.br/xmlrpc.php?rs',\n",
       " 'http://ppgci.eci.ufmg.br/wp-includes/wlwmanifest.xm',\n",
       " 'http://schema.org/Even',\n",
       " 'https://platform.twitter.com/widgets.js',\n",
       " 'http://browsehappy.com/',\n",
       " 'http://www.google.com/chromeframe/?redirect=true',\n",
       " 'http://ppgci.eci.ufmg.br/wp-content/plugins/sitepress-multilingual-cms/res/flags/pt-br.pn',\n",
       " 'http://ppgci.eci.ufmg.br/en/',\n",
       " 'http://ppgci.eci.ufmg.br/wp-content/plugins/sitepress-multilingual-cms/res/flags/en.pn',\n",
       " 'http://ppgci.eci.ufmg.br/es/',\n",
       " 'http://ppgci.eci.ufmg.br/wp-content/plugins/sitepress-multilingual-cms/res/flags/es.pn',\n",
       " 'http://ppgci.eci.ufmg.br',\n",
       " 'http://ppgci.eci.ufmg.br/wp-content/themes/wp-cedecom/assets/img/ppgci_logo.pn',\n",
       " 'http://schema.org/Plac',\n",
       " 'http://ppgci.eci.ufmg.b',\n",
       " 'url(http://caronte.eci.ufmg.br/ppgci/wp-content/uploads/2018/02/ECI-SITE-CORTADA2.jpg',\n",
       " 'http://caronte.eci.ufmg.br/ppgci/',\n",
       " 'http://ppgci.eci.ufmg.br/sobre-o-programa/',\n",
       " 'http://ppgci.eci.ufmg.br/objetivo-geral/',\n",
       " 'http://ppgci.eci.ufmg.br/historicocronologia/',\n",
       " 'http://ppgci.eci.ufmg.br/sobre-o-programa/area-de-concentracao/',\n",
       " 'http://ppgci.eci.ufmg.br/linhas-de-pesquisa-2/',\n",
       " 'http://ppgci.eci.ufmg.br/linhas-de-pesquisa/',\n",
       " 'http://ppgci.eci.ufmg.br/insercao-social/',\n",
       " 'http://ppgci.eci.ufmg.br/avaliacao-capes/',\n",
       " 'http://ppgci.eci.ufmg.br/infraestrutura/',\n",
       " 'http://ppgci.eci.ufmg.br/coordenacao/',\n",
       " 'http://ppgci.eci.ufmg.br/colegiado/',\n",
       " 'http://ppgci.eci.ufmg.br/orientacao/',\n",
       " 'http://ppgci.eci.ufmg.br/calendario/',\n",
       " 'http://ppgci.eci.ufmg.br/pessoas/',\n",
       " 'http://ppgci.eci.ufmg.br/docentes/',\n",
       " 'http://ppgci.eci.ufmg.br/credenciamento/',\n",
       " 'http://ppgci.eci.ufmg.br/discentes/',\n",
       " 'http://ppgci.eci.ufmg.br/secretaria/',\n",
       " 'http://ppgci.eci.ufmg.br/informacoes-didaticas/',\n",
       " 'http://ppgci.eci.ufmg.br/grade-curricular/',\n",
       " 'http://ppgci.eci.ufmg.br/disciplinas/',\n",
       " 'http://ppgci.eci.ufmg.br/disciplinas-eletivas/',\n",
       " 'http://ppgci.eci.ufmg.br/disciplinas-isoladas/',\n",
       " 'http://ppgci.eci.ufmg.br/oferta-de-disciplinas-no-semestre/',\n",
       " 'http://ppgci.eci.ufmg.br/horario-das-aulas/',\n",
       " 'http://ppgci.eci.ufmg.br/grupos-de-pesquisa/',\n",
       " 'http://ppgci.eci.ufmg.br/processo-seletivo/',\n",
       " 'http://ppgci.eci.ufmg.br/mestrado-e-doutorado/',\n",
       " 'http://ppgci.eci.ufmg.br/doutorado/',\n",
       " 'http://ppgci.eci.ufmg.br/resultados-mestrado/',\n",
       " 'http://ppgci.eci.ufmg.br/resultados-doutorado/',\n",
       " 'http://ppgci.eci.ufmg.br/noticias/',\n",
       " 'http://ppgci.eci.ufmg.br/fotos/',\n",
       " 'http://ppgci.eci.ufmg.br/videos/',\n",
       " 'http://ppgci.eci.ufmg.br/eventos-chamadas-de-trabalho/',\n",
       " 'http://ppgci.eci.ufmg.br/servicos/',\n",
       " 'http://ppgci.eci.ufmg.br/matricula/',\n",
       " 'http://ppgci.eci.ufmg.br/formularios/',\n",
       " 'http://ppgci.eci.ufmg.br/declaracoes/',\n",
       " 'http://ppgci.eci.ufmg.br/pedido-de-diploma/',\n",
       " 'http://ppgci.eci.ufmg.br/modelo-de-dissertacao-e-tese/',\n",
       " 'http://ppgci.eci.ufmg.br/manual-de-normalizacao/',\n",
       " 'http://ppgci.eci.ufmg.br/submissao-de-defesa/',\n",
       " 'http://ppgci.eci.ufmg.br/trabalhos-finais/',\n",
       " 'http://ppgci.eci.ufmg.br/proximas-defesas/',\n",
       " 'http://ppgci.eci.ufmg.br/teses-defendidas/',\n",
       " 'http://ppgci.eci.ufmg.br/dissertacoes/',\n",
       " 'http://ppgci.eci.ufmg.br/monografias/',\n",
       " 'http://ppgci.eci.ufmg.br/regulamento-e-normas/',\n",
       " 'http://ppgci.eci.ufmg.br/regulamento/',\n",
       " 'http://ppgci.eci.ufmg.br/resolucoes/',\n",
       " 'http://ppgci.eci.ufmg.br/normas-gerais/',\n",
       " 'http://ppgci.eci.ufmg.br/regimento-da-ufmg/',\n",
       " 'http://ppgci.eci.ufmg.br/entidades-de-interesse/',\n",
       " 'http://ppgci.eci.ufmg.br/pro-reitoria-de-pos-graduacao/',\n",
       " 'http://ppgci.eci.ufmg.br/diretoria-de-relacoes-internacionais-dri/',\n",
       " 'http://ppgci.eci.ufmg.br/agencias-de-fomento/',\n",
       " 'http://ppgci.eci.ufmg.br/associacoes-cientificas/',\n",
       " 'http://ppgci.eci.ufmg.br/organizacoes-e-representacoes-estudantis/',\n",
       " 'http://ppgci.eci.ufmg.br/contato/',\n",
       " 'http://ppgci.eci.ufmg.br/calendario/',\n",
       " 'http://ppgci.eci.ufmg.br/submissao-de-defesa/',\n",
       " 'http://ppgci.eci.ufmg.br/formularios/',\n",
       " 'http://ppgci.eci.ufmg.br/linhas-de-pesquisa-2/',\n",
       " 'http://ppgci.eci.ufmg.br/corpo-docente/',\n",
       " 'http://ppgci.eci.ufmg.br/secretaria/',\n",
       " 'http://ppgci.eci.ufmg.br/editais/',\n",
       " 'http://ppgci.eci.ufmg.br/matricula/',\n",
       " 'http://ppgci.eci.ufmg.br/avaliacao-capes/',\n",
       " 'http://ppgci.eci.ufmg.br/mapa/',\n",
       " 'http://ppgci.eci.ufmg.br/mapa-do-site/',\n",
       " 'http://ppgci.eci.ufmg.br//?page_id=26',\n",
       " 'http://ppgci.eci.ufmg.br/noticia/foi-lancado-novo-edital-bolsa-capes-pnpd-bolsa-de-pos-doutorado-confira/',\n",
       " 'http://ppgci.eci.ufmg.br/noticia/funcionamento-da-secao-de-ensino-no-dia-31082018-sera-somente-a-tarde-de-1400-as-1630/',\n",
       " 'http://ppgci.eci.ufmg.br/noticia/programa-de-apoio-a-doutorandos-pado/',\n",
       " 'http://ppgci.eci.ufmg.br/noticia/resultado-da-analise-dos-requerimentos-de-matricula-em-disciplinas-isoladas/',\n",
       " 'http://ppgci.eci.ufmg.br/noticia/disciplinas-isoladas-20182/',\n",
       " 'http://ppgci.eci.ufmg.br/noticia/seminario-permanente-rariorum-estudos-em-cultura-material-arte-e-colecoes-acontece-no-periodo-de-27-a-30-de-junho-de-2018/',\n",
       " 'http://ppgci.eci.ufmg.br/noticias/',\n",
       " 'http://ppgci.eci.ufmg.br/calendario/',\n",
       " 'http://ppgci.eci.ufmg.br/submissao-de-defesa/',\n",
       " 'http://ppgci.eci.ufmg.br/formularios/',\n",
       " 'http://ppgci.eci.ufmg.br/linhas-de-pesquisa-2/',\n",
       " 'http://ppgci.eci.ufmg.br/corpo-docente/',\n",
       " 'http://ppgci.eci.ufmg.br/secretaria/',\n",
       " 'http://ppgci.eci.ufmg.br/editais/',\n",
       " 'http://ppgci.eci.ufmg.br/matricula/',\n",
       " 'http://ppgci.eci.ufmg.br/avaliacao-capes/',\n",
       " 'http://ppgci.eci.ufmg.br/mapa/',\n",
       " 'http://ppgci.eci.ufmg.br/mapa-do-site/',\n",
       " 'http://somos.ufmg.br',\n",
       " 'http://www.eci.ufmg.br',\n",
       " 'http://www.bibliotecadigital.ufmg.br',\n",
       " 'https://sistemas.ufmg.br/idp/login.js',\n",
       " 'https://www.ufmg.br/prpg',\n",
       " 'https://www.ufmg.br/periodicos',\n",
       " 'http://portaldeperiodicos.eci.ufmg.br/index.php/pc',\n",
       " 'http://www.periodicos.capes.gov.b',\n",
       " 'http://ppgci.eci.ufmg.br/wp-content/themes/wp-cedecom/assets/img/ppgci_rodape.jp',\n",
       " 'http://www.eci.ufmg.br',\n",
       " 'http://schema.org/PostalAddress',\n",
       " 'http://ppgci.eci.ufmg.br/wp-content/themes/wp-cedecom/assets/js/script.min.js',\n",
       " 'https://code.jquery.com/ui/1.12.1/jquery-ui.js',\n",
       " 'http://ppgci.eci.ufmg.br/wp-content/themes/wp-cedecom/assets/js/vendor/jquery-ui-1.12.1/i18n/jquery.ui.datepicker-pt-BR.js',\n",
       " 'http://ppgci.eci.ufmg.br/wp-includes/js/wp-embed.min.js?ver=4.7.11',\n",
       " 'http://ppgci.eci.ufmg.br/wp-content/plugins/sitepress-multilingual-cms/res/js/sitepress.js?ver=4.7.11']"
      ]
     },
     "execution_count": 104,
     "metadata": {},
     "output_type": "execute_result"
    }
   ],
   "source": [
    "links = [wrd for wrd in texto.split() if '://' in wrd]\n",
    "\n",
    "links = [wrd.replace('href=', '') for wrd in links]\n",
    "links = [wrd.replace('src=',  '') for wrd in links]\n",
    "links = [wrd.replace('\\'',  '\"') for wrd in links]\n",
    "\n",
    "links = [wrd[:wrd.find('>')] for wrd in links]\n",
    "links = [wrd[wrd.find('\"') + 1:] for wrd in links]\n",
    "links = [wrd[:wrd.find('\"') ] for wrd in links]\n",
    "\n",
    "links"
   ]
  },
  {
   "cell_type": "markdown",
   "metadata": {},
   "source": [
    "Partindo do código abaixo, escreva comandos para realizar as seguintes tarefas:\n",
    "- Identificar os candidatos a nomes próprios do texto e a frequência com que aparecem;\n",
    "- Identificar as 5 palavras mais comuns;\n",
    "- Identificar os tritongos;\n",
    "\n",
    "- Salvar os resultados em um arquivo chamado \"respostas.txt\" no computador"
   ]
  },
  {
   "cell_type": "code",
   "execution_count": 106,
   "metadata": {},
   "outputs": [],
   "source": [
    "from bs4.element import Comment\n",
    "\n",
    "#url = 'http://norvig.com/big.txt'\n",
    "url = 'http://ppgci.eci.ufmg.br/pessoas/professores/permanentes'\n",
    "\n",
    "def tag_visible(element):\n",
    "    if element.parent.name in ['style', 'script', 'head', 'title', 'meta', '[document]']:\n",
    "        return False\n",
    "    if isinstance(element, Comment):\n",
    "        return False\n",
    "    return True\n",
    "\n",
    "page = requests.get(url)\n",
    "html = page.text\n",
    "sopa = bs(html, \"lxml\")\n",
    "texts = sopa.findAll(text=True)\n",
    "visible_texts = list(filter(tag_visible, texts))\n",
    "#visible_texts"
   ]
  },
  {
   "cell_type": "code",
   "execution_count": 139,
   "metadata": {},
   "outputs": [],
   "source": [
    "import string\n",
    "\n",
    "# Nomes proprios\n",
    "nomes_proprios = [wrd for wrd in visible_texts if wrd.istitle()]\n",
    "\n",
    "# Palavras mais frequentes\n",
    "wrds = [wrd.lower() for wrd in visible_texts]\n",
    "wrds = [wrd for phrase in wrds for wrd in phrase.split()]\n",
    "wrds = [wrd.strip(string.punctuation) for wrd in wrds]\n",
    "wrds = [wrd for wrd in wrds if wrd not in ['', '–']]\n",
    "\n",
    "freqdist = {wrd:wrds.count(wrd) for wrd in wrds}\n",
    "freqdist = [(wrd,freq) for wrd,freq in sorted(freqdist.items(), key = lambda item: item[1])]\n",
    "\n",
    "mais_frequentes = freqdist [-1:-6:-1]\n",
    "\n",
    "# Os tritongos\n",
    "tritongos = []\n",
    "istritongo = lambda wrd: set(wrd).issubset({'a','e','i','o','u'})\n",
    "for wrd in wrds:\n",
    "    wrd += '  '\n",
    "    for i in range(len(wrd)):\n",
    "        if istritongo(wrd[i:i+3]):\n",
    "            tritongos.append(wrd[i:i+3])\n",
    "\n",
    "\n",
    "with  open('respostas.txt', 'a') as writer:\n",
    "    writer.write('\\n\\n\\tnomes_proprios: ' + str(nomes_proprios))\n",
    "    writer.write('\\n\\n\\tmais_frequentes: ' + str(mais_frequentes))\n",
    "    writer.write('\\n\\n\\ttritongos: ' + str(tritongos))"
   ]
  },
  {
   "cell_type": "markdown",
   "metadata": {},
   "source": [
    "Escreva um programa em Python que:\n",
    "+ Leia o arquivo em:  \n",
    "  https://raw.githubusercontent.com/rsouza/FGV_Programming_Languages/master/Python/Dados/numero_mil_digitos.txt\n",
    "+ Some 1 (um) a cada dígito do arquivo (se for 9, vira 0), e;\n",
    "+ Salve o arquivo novamente no seu disco rígido com o nome de “resultado.txt”.\n",
    "\n",
    "+ Lembre-se dos métodos de arquivo: read(), readline(), readlines() e write().\n",
    "\n",
    "Lembre-se, também, do caractere especial <newline> (\\n).\n",
    "Finalmente, lembre-se do pacote “requests”, se quiser automatizar a leitura do arquivo na web."
   ]
  },
  {
   "cell_type": "code",
   "execution_count": 140,
   "metadata": {},
   "outputs": [],
   "source": [
    "url = 'https://raw.githubusercontent.com/rsouza/FGV_Programming_Languages/master/Python/Dados/numero_mil_digitos.txt'\n",
    "pagina = requests.get(url)\n",
    "texto = pagina.text"
   ]
  },
  {
   "cell_type": "code",
   "execution_count": 152,
   "metadata": {},
   "outputs": [],
   "source": [
    "nwtxt = ''\n",
    "for c in texto:\n",
    "    if c.isnumeric():\n",
    "        c = int(c) + 1\n",
    "        if c == 10: c = 0\n",
    "    nwtxt += str(c)\n",
    "\n",
    "#print(texto + '\\n\\n' + nwtxt)\n",
    "with open('resultado.txt','w') as writer:\n",
    "      writer.write(nwtxt)"
   ]
  },
  {
   "cell_type": "markdown",
   "metadata": {},
   "source": [
    "Escreva uma função (ou conjunto de funções) que extraia(m) todos os endereços de e-mail de uma página web (passada como parâmetro) e os devolva em uma lista. Considere apenas e-mails:  \n",
    "- De domínios do Brasil ('.br') ou;  \n",
    "- De domínios de alto nível originais ('.com', '.org', '.net', '.int', '.edu', '.gov', '.mil')."
   ]
  },
  {
   "cell_type": "code",
   "execution_count": 203,
   "metadata": {},
   "outputs": [],
   "source": [
    "dominios = {'.br', '.com', '.org', '.net', '.int', '.edu', '.gov', '.mil'}\n",
    "\n",
    "emails = ''\n",
    "def findemails(texto):\n",
    "    emails = [wrd for wrd in texto.split() if '@' in wrd]\n",
    "    emails = [wrd[wrd.find('\"') + 1:] for wrd in emails]\n",
    "    emails = [wrd[:wrd.find('\"')] for wrd in emails]\n",
    "    \n",
    "    return emails"
   ]
  },
  {
   "cell_type": "code",
   "execution_count": 204,
   "metadata": {},
   "outputs": [
    {
     "name": "stdout",
     "output_type": "stream",
     "text": [
      "['mailto:vincent.guigues@fgv.br']\n"
     ]
    }
   ],
   "source": [
    "text = '</div></div></div><section class=\"field field-name-field-pessoa-lattes field-type-link-field field-label-inline clearfix view-mode-full\"><h2 class=\"field-label\">Lattes:&nbsp;</h2><div class=\"field-items\"><div class=\"field-item even\"><a href=\"http://lattes.cnpq.br/6539383780616623\">http://lattes.cnpq.br/6539383780616623</a></div></div></section><section class=\"field field-name-field-pessoa-email field-type-email field-label-inline clearfix view-mode-full\"><h2 class=\"field-label\">Email:&nbsp;</h2><div class=\"field-items\"><div class=\"field-item even\"><a href=\"mailto:vincent.guigues@fgv.br\">vincent.guigues@fgv.br</a></div></div></section><section class=\"field field-name-field-pessoa-interesse field-type-text field-label-above view-mode-full\"><h2 class=\"field-label\">Áreas de interesse:&nbsp;</h2><div class=\"field-items\"><div class=\"field-item even\">Otimização</div><div class=\"field-item odd\">Otimização estocástica</div><div class=\"field-item even\">Séries temporais</div><div class=\"field-item odd\">Inferência estatística</div><div class=\"field-item even\">Aplicações em finanças, logística e gestão de produção</div></div></section>  </div>'\n",
    "\n",
    "print(findemails(text))"
   ]
  },
  {
   "cell_type": "code",
   "execution_count": 158,
   "metadata": {},
   "outputs": [
    {
     "ename": "ConnectionError",
     "evalue": "HTTPConnectionPool(host='emap.fgv.br', port=80): Max retries exceeded with url: /corpo-docente/walter-wagner-carvalho-sande-professor-assistente (Caused by NewConnectionError('<urllib3.connection.HTTPConnection object at 0x7efe0179f4a8>: Failed to establish a new connection: [Errno 110] Connection timed out',))",
     "output_type": "error",
     "traceback": [
      "\u001b[0;31m---------------------------------------------------------------------------\u001b[0m",
      "\u001b[0;31mTimeoutError\u001b[0m                              Traceback (most recent call last)",
      "\u001b[0;32m/usr/local/lib/python3.5/dist-packages/urllib3/connection.py\u001b[0m in \u001b[0;36m_new_conn\u001b[0;34m(self)\u001b[0m\n\u001b[1;32m    140\u001b[0m             conn = connection.create_connection(\n\u001b[0;32m--> 141\u001b[0;31m                 (self.host, self.port), self.timeout, **extra_kw)\n\u001b[0m\u001b[1;32m    142\u001b[0m \u001b[0;34m\u001b[0m\u001b[0m\n",
      "\u001b[0;32m/usr/local/lib/python3.5/dist-packages/urllib3/util/connection.py\u001b[0m in \u001b[0;36mcreate_connection\u001b[0;34m(address, timeout, source_address, socket_options)\u001b[0m\n\u001b[1;32m     82\u001b[0m     \u001b[0;32mif\u001b[0m \u001b[0merr\u001b[0m \u001b[0;32mis\u001b[0m \u001b[0;32mnot\u001b[0m \u001b[0;32mNone\u001b[0m\u001b[0;34m:\u001b[0m\u001b[0;34m\u001b[0m\u001b[0m\n\u001b[0;32m---> 83\u001b[0;31m         \u001b[0;32mraise\u001b[0m \u001b[0merr\u001b[0m\u001b[0;34m\u001b[0m\u001b[0m\n\u001b[0m\u001b[1;32m     84\u001b[0m \u001b[0;34m\u001b[0m\u001b[0m\n",
      "\u001b[0;32m/usr/local/lib/python3.5/dist-packages/urllib3/util/connection.py\u001b[0m in \u001b[0;36mcreate_connection\u001b[0;34m(address, timeout, source_address, socket_options)\u001b[0m\n\u001b[1;32m     72\u001b[0m                 \u001b[0msock\u001b[0m\u001b[0;34m.\u001b[0m\u001b[0mbind\u001b[0m\u001b[0;34m(\u001b[0m\u001b[0msource_address\u001b[0m\u001b[0;34m)\u001b[0m\u001b[0;34m\u001b[0m\u001b[0m\n\u001b[0;32m---> 73\u001b[0;31m             \u001b[0msock\u001b[0m\u001b[0;34m.\u001b[0m\u001b[0mconnect\u001b[0m\u001b[0;34m(\u001b[0m\u001b[0msa\u001b[0m\u001b[0;34m)\u001b[0m\u001b[0;34m\u001b[0m\u001b[0m\n\u001b[0m\u001b[1;32m     74\u001b[0m             \u001b[0;32mreturn\u001b[0m \u001b[0msock\u001b[0m\u001b[0;34m\u001b[0m\u001b[0m\n",
      "\u001b[0;31mTimeoutError\u001b[0m: [Errno 110] Connection timed out",
      "\nDuring handling of the above exception, another exception occurred:\n",
      "\u001b[0;31mNewConnectionError\u001b[0m                        Traceback (most recent call last)",
      "\u001b[0;32m/usr/local/lib/python3.5/dist-packages/urllib3/connectionpool.py\u001b[0m in \u001b[0;36murlopen\u001b[0;34m(self, method, url, body, headers, retries, redirect, assert_same_host, timeout, pool_timeout, release_conn, chunked, body_pos, **response_kw)\u001b[0m\n\u001b[1;32m    600\u001b[0m                                                   \u001b[0mbody\u001b[0m\u001b[0;34m=\u001b[0m\u001b[0mbody\u001b[0m\u001b[0;34m,\u001b[0m \u001b[0mheaders\u001b[0m\u001b[0;34m=\u001b[0m\u001b[0mheaders\u001b[0m\u001b[0;34m,\u001b[0m\u001b[0;34m\u001b[0m\u001b[0m\n\u001b[0;32m--> 601\u001b[0;31m                                                   chunked=chunked)\n\u001b[0m\u001b[1;32m    602\u001b[0m \u001b[0;34m\u001b[0m\u001b[0m\n",
      "\u001b[0;32m/usr/local/lib/python3.5/dist-packages/urllib3/connectionpool.py\u001b[0m in \u001b[0;36m_make_request\u001b[0;34m(self, conn, method, url, timeout, chunked, **httplib_request_kw)\u001b[0m\n\u001b[1;32m    356\u001b[0m         \u001b[0;32melse\u001b[0m\u001b[0;34m:\u001b[0m\u001b[0;34m\u001b[0m\u001b[0m\n\u001b[0;32m--> 357\u001b[0;31m             \u001b[0mconn\u001b[0m\u001b[0;34m.\u001b[0m\u001b[0mrequest\u001b[0m\u001b[0;34m(\u001b[0m\u001b[0mmethod\u001b[0m\u001b[0;34m,\u001b[0m \u001b[0murl\u001b[0m\u001b[0;34m,\u001b[0m \u001b[0;34m**\u001b[0m\u001b[0mhttplib_request_kw\u001b[0m\u001b[0;34m)\u001b[0m\u001b[0;34m\u001b[0m\u001b[0m\n\u001b[0m\u001b[1;32m    358\u001b[0m \u001b[0;34m\u001b[0m\u001b[0m\n",
      "\u001b[0;32m/usr/lib/python3.5/http/client.py\u001b[0m in \u001b[0;36mrequest\u001b[0;34m(self, method, url, body, headers)\u001b[0m\n\u001b[1;32m   1105\u001b[0m         \u001b[0;34m\"\"\"Send a complete request to the server.\"\"\"\u001b[0m\u001b[0;34m\u001b[0m\u001b[0m\n\u001b[0;32m-> 1106\u001b[0;31m         \u001b[0mself\u001b[0m\u001b[0;34m.\u001b[0m\u001b[0m_send_request\u001b[0m\u001b[0;34m(\u001b[0m\u001b[0mmethod\u001b[0m\u001b[0;34m,\u001b[0m \u001b[0murl\u001b[0m\u001b[0;34m,\u001b[0m \u001b[0mbody\u001b[0m\u001b[0;34m,\u001b[0m \u001b[0mheaders\u001b[0m\u001b[0;34m)\u001b[0m\u001b[0;34m\u001b[0m\u001b[0m\n\u001b[0m\u001b[1;32m   1107\u001b[0m \u001b[0;34m\u001b[0m\u001b[0m\n",
      "\u001b[0;32m/usr/lib/python3.5/http/client.py\u001b[0m in \u001b[0;36m_send_request\u001b[0;34m(self, method, url, body, headers)\u001b[0m\n\u001b[1;32m   1150\u001b[0m             \u001b[0mbody\u001b[0m \u001b[0;34m=\u001b[0m \u001b[0m_encode\u001b[0m\u001b[0;34m(\u001b[0m\u001b[0mbody\u001b[0m\u001b[0;34m,\u001b[0m \u001b[0;34m'body'\u001b[0m\u001b[0;34m)\u001b[0m\u001b[0;34m\u001b[0m\u001b[0m\n\u001b[0;32m-> 1151\u001b[0;31m         \u001b[0mself\u001b[0m\u001b[0;34m.\u001b[0m\u001b[0mendheaders\u001b[0m\u001b[0;34m(\u001b[0m\u001b[0mbody\u001b[0m\u001b[0;34m)\u001b[0m\u001b[0;34m\u001b[0m\u001b[0m\n\u001b[0m\u001b[1;32m   1152\u001b[0m \u001b[0;34m\u001b[0m\u001b[0m\n",
      "\u001b[0;32m/usr/lib/python3.5/http/client.py\u001b[0m in \u001b[0;36mendheaders\u001b[0;34m(self, message_body)\u001b[0m\n\u001b[1;32m   1101\u001b[0m             \u001b[0;32mraise\u001b[0m \u001b[0mCannotSendHeader\u001b[0m\u001b[0;34m(\u001b[0m\u001b[0;34m)\u001b[0m\u001b[0;34m\u001b[0m\u001b[0m\n\u001b[0;32m-> 1102\u001b[0;31m         \u001b[0mself\u001b[0m\u001b[0;34m.\u001b[0m\u001b[0m_send_output\u001b[0m\u001b[0;34m(\u001b[0m\u001b[0mmessage_body\u001b[0m\u001b[0;34m)\u001b[0m\u001b[0;34m\u001b[0m\u001b[0m\n\u001b[0m\u001b[1;32m   1103\u001b[0m \u001b[0;34m\u001b[0m\u001b[0m\n",
      "\u001b[0;32m/usr/lib/python3.5/http/client.py\u001b[0m in \u001b[0;36m_send_output\u001b[0;34m(self, message_body)\u001b[0m\n\u001b[1;32m    933\u001b[0m \u001b[0;34m\u001b[0m\u001b[0m\n\u001b[0;32m--> 934\u001b[0;31m         \u001b[0mself\u001b[0m\u001b[0;34m.\u001b[0m\u001b[0msend\u001b[0m\u001b[0;34m(\u001b[0m\u001b[0mmsg\u001b[0m\u001b[0;34m)\u001b[0m\u001b[0;34m\u001b[0m\u001b[0m\n\u001b[0m\u001b[1;32m    935\u001b[0m         \u001b[0;32mif\u001b[0m \u001b[0mmessage_body\u001b[0m \u001b[0;32mis\u001b[0m \u001b[0;32mnot\u001b[0m \u001b[0;32mNone\u001b[0m\u001b[0;34m:\u001b[0m\u001b[0;34m\u001b[0m\u001b[0m\n",
      "\u001b[0;32m/usr/lib/python3.5/http/client.py\u001b[0m in \u001b[0;36msend\u001b[0;34m(self, data)\u001b[0m\n\u001b[1;32m    876\u001b[0m             \u001b[0;32mif\u001b[0m \u001b[0mself\u001b[0m\u001b[0;34m.\u001b[0m\u001b[0mauto_open\u001b[0m\u001b[0;34m:\u001b[0m\u001b[0;34m\u001b[0m\u001b[0m\n\u001b[0;32m--> 877\u001b[0;31m                 \u001b[0mself\u001b[0m\u001b[0;34m.\u001b[0m\u001b[0mconnect\u001b[0m\u001b[0;34m(\u001b[0m\u001b[0;34m)\u001b[0m\u001b[0;34m\u001b[0m\u001b[0m\n\u001b[0m\u001b[1;32m    878\u001b[0m             \u001b[0;32melse\u001b[0m\u001b[0;34m:\u001b[0m\u001b[0;34m\u001b[0m\u001b[0m\n",
      "\u001b[0;32m/usr/local/lib/python3.5/dist-packages/urllib3/connection.py\u001b[0m in \u001b[0;36mconnect\u001b[0;34m(self)\u001b[0m\n\u001b[1;32m    165\u001b[0m     \u001b[0;32mdef\u001b[0m \u001b[0mconnect\u001b[0m\u001b[0;34m(\u001b[0m\u001b[0mself\u001b[0m\u001b[0;34m)\u001b[0m\u001b[0;34m:\u001b[0m\u001b[0;34m\u001b[0m\u001b[0m\n\u001b[0;32m--> 166\u001b[0;31m         \u001b[0mconn\u001b[0m \u001b[0;34m=\u001b[0m \u001b[0mself\u001b[0m\u001b[0;34m.\u001b[0m\u001b[0m_new_conn\u001b[0m\u001b[0;34m(\u001b[0m\u001b[0;34m)\u001b[0m\u001b[0;34m\u001b[0m\u001b[0m\n\u001b[0m\u001b[1;32m    167\u001b[0m         \u001b[0mself\u001b[0m\u001b[0;34m.\u001b[0m\u001b[0m_prepare_conn\u001b[0m\u001b[0;34m(\u001b[0m\u001b[0mconn\u001b[0m\u001b[0;34m)\u001b[0m\u001b[0;34m\u001b[0m\u001b[0m\n",
      "\u001b[0;32m/usr/local/lib/python3.5/dist-packages/urllib3/connection.py\u001b[0m in \u001b[0;36m_new_conn\u001b[0;34m(self)\u001b[0m\n\u001b[1;32m    149\u001b[0m             raise NewConnectionError(\n\u001b[0;32m--> 150\u001b[0;31m                 self, \"Failed to establish a new connection: %s\" % e)\n\u001b[0m\u001b[1;32m    151\u001b[0m \u001b[0;34m\u001b[0m\u001b[0m\n",
      "\u001b[0;31mNewConnectionError\u001b[0m: <urllib3.connection.HTTPConnection object at 0x7efe0179f4a8>: Failed to establish a new connection: [Errno 110] Connection timed out",
      "\nDuring handling of the above exception, another exception occurred:\n",
      "\u001b[0;31mMaxRetryError\u001b[0m                             Traceback (most recent call last)",
      "\u001b[0;32m/usr/local/lib/python3.5/dist-packages/requests/adapters.py\u001b[0m in \u001b[0;36msend\u001b[0;34m(self, request, stream, timeout, verify, cert, proxies)\u001b[0m\n\u001b[1;32m    439\u001b[0m                     \u001b[0mretries\u001b[0m\u001b[0;34m=\u001b[0m\u001b[0mself\u001b[0m\u001b[0;34m.\u001b[0m\u001b[0mmax_retries\u001b[0m\u001b[0;34m,\u001b[0m\u001b[0;34m\u001b[0m\u001b[0m\n\u001b[0;32m--> 440\u001b[0;31m                     \u001b[0mtimeout\u001b[0m\u001b[0;34m=\u001b[0m\u001b[0mtimeout\u001b[0m\u001b[0;34m\u001b[0m\u001b[0m\n\u001b[0m\u001b[1;32m    441\u001b[0m                 )\n",
      "\u001b[0;32m/usr/local/lib/python3.5/dist-packages/urllib3/connectionpool.py\u001b[0m in \u001b[0;36murlopen\u001b[0;34m(self, method, url, body, headers, retries, redirect, assert_same_host, timeout, pool_timeout, release_conn, chunked, body_pos, **response_kw)\u001b[0m\n\u001b[1;32m    638\u001b[0m             retries = retries.increment(method, url, error=e, _pool=self,\n\u001b[0;32m--> 639\u001b[0;31m                                         _stacktrace=sys.exc_info()[2])\n\u001b[0m\u001b[1;32m    640\u001b[0m             \u001b[0mretries\u001b[0m\u001b[0;34m.\u001b[0m\u001b[0msleep\u001b[0m\u001b[0;34m(\u001b[0m\u001b[0;34m)\u001b[0m\u001b[0;34m\u001b[0m\u001b[0m\n",
      "\u001b[0;32m/usr/local/lib/python3.5/dist-packages/urllib3/util/retry.py\u001b[0m in \u001b[0;36mincrement\u001b[0;34m(self, method, url, response, error, _pool, _stacktrace)\u001b[0m\n\u001b[1;32m    387\u001b[0m         \u001b[0;32mif\u001b[0m \u001b[0mnew_retry\u001b[0m\u001b[0;34m.\u001b[0m\u001b[0mis_exhausted\u001b[0m\u001b[0;34m(\u001b[0m\u001b[0;34m)\u001b[0m\u001b[0;34m:\u001b[0m\u001b[0;34m\u001b[0m\u001b[0m\n\u001b[0;32m--> 388\u001b[0;31m             \u001b[0;32mraise\u001b[0m \u001b[0mMaxRetryError\u001b[0m\u001b[0;34m(\u001b[0m\u001b[0m_pool\u001b[0m\u001b[0;34m,\u001b[0m \u001b[0murl\u001b[0m\u001b[0;34m,\u001b[0m \u001b[0merror\u001b[0m \u001b[0;32mor\u001b[0m \u001b[0mResponseError\u001b[0m\u001b[0;34m(\u001b[0m\u001b[0mcause\u001b[0m\u001b[0;34m)\u001b[0m\u001b[0;34m)\u001b[0m\u001b[0;34m\u001b[0m\u001b[0m\n\u001b[0m\u001b[1;32m    389\u001b[0m \u001b[0;34m\u001b[0m\u001b[0m\n",
      "\u001b[0;31mMaxRetryError\u001b[0m: HTTPConnectionPool(host='emap.fgv.br', port=80): Max retries exceeded with url: /corpo-docente/walter-wagner-carvalho-sande-professor-assistente (Caused by NewConnectionError('<urllib3.connection.HTTPConnection object at 0x7efe0179f4a8>: Failed to establish a new connection: [Errno 110] Connection timed out',))",
      "\nDuring handling of the above exception, another exception occurred:\n",
      "\u001b[0;31mConnectionError\u001b[0m                           Traceback (most recent call last)",
      "\u001b[0;32m<ipython-input-158-a42a386e9f12>\u001b[0m in \u001b[0;36m<module>\u001b[0;34m()\u001b[0m\n\u001b[1;32m      1\u001b[0m \u001b[0murl\u001b[0m \u001b[0;34m=\u001b[0m \u001b[0;34m'http://emap.fgv.br/corpo-docente/walter-wagner-carvalho-sande-professor-assistente'\u001b[0m\u001b[0;34m\u001b[0m\u001b[0m\n\u001b[0;32m----> 2\u001b[0;31m \u001b[0mpagina\u001b[0m \u001b[0;34m=\u001b[0m \u001b[0mrequests\u001b[0m\u001b[0;34m.\u001b[0m\u001b[0mget\u001b[0m\u001b[0;34m(\u001b[0m\u001b[0murl\u001b[0m\u001b[0;34m)\u001b[0m\u001b[0;34m\u001b[0m\u001b[0m\n\u001b[0m\u001b[1;32m      3\u001b[0m \u001b[0mtexto\u001b[0m \u001b[0;34m=\u001b[0m \u001b[0mpagina\u001b[0m\u001b[0;34m.\u001b[0m\u001b[0mtext\u001b[0m\u001b[0;34m\u001b[0m\u001b[0m\n\u001b[1;32m      4\u001b[0m \u001b[0;34m\u001b[0m\u001b[0m\n\u001b[1;32m      5\u001b[0m \u001b[0msoup\u001b[0m \u001b[0;34m=\u001b[0m \u001b[0mbs\u001b[0m\u001b[0;34m(\u001b[0m\u001b[0mtexto\u001b[0m\u001b[0;34m,\u001b[0m \u001b[0;34m'lxml'\u001b[0m\u001b[0;34m)\u001b[0m\u001b[0;34m\u001b[0m\u001b[0m\n",
      "\u001b[0;32m/usr/local/lib/python3.5/dist-packages/requests/api.py\u001b[0m in \u001b[0;36mget\u001b[0;34m(url, params, **kwargs)\u001b[0m\n\u001b[1;32m     70\u001b[0m \u001b[0;34m\u001b[0m\u001b[0m\n\u001b[1;32m     71\u001b[0m     \u001b[0mkwargs\u001b[0m\u001b[0;34m.\u001b[0m\u001b[0msetdefault\u001b[0m\u001b[0;34m(\u001b[0m\u001b[0;34m'allow_redirects'\u001b[0m\u001b[0;34m,\u001b[0m \u001b[0;32mTrue\u001b[0m\u001b[0;34m)\u001b[0m\u001b[0;34m\u001b[0m\u001b[0m\n\u001b[0;32m---> 72\u001b[0;31m     \u001b[0;32mreturn\u001b[0m \u001b[0mrequest\u001b[0m\u001b[0;34m(\u001b[0m\u001b[0;34m'get'\u001b[0m\u001b[0;34m,\u001b[0m \u001b[0murl\u001b[0m\u001b[0;34m,\u001b[0m \u001b[0mparams\u001b[0m\u001b[0;34m=\u001b[0m\u001b[0mparams\u001b[0m\u001b[0;34m,\u001b[0m \u001b[0;34m**\u001b[0m\u001b[0mkwargs\u001b[0m\u001b[0;34m)\u001b[0m\u001b[0;34m\u001b[0m\u001b[0m\n\u001b[0m\u001b[1;32m     73\u001b[0m \u001b[0;34m\u001b[0m\u001b[0m\n\u001b[1;32m     74\u001b[0m \u001b[0;34m\u001b[0m\u001b[0m\n",
      "\u001b[0;32m/usr/local/lib/python3.5/dist-packages/requests/api.py\u001b[0m in \u001b[0;36mrequest\u001b[0;34m(method, url, **kwargs)\u001b[0m\n\u001b[1;32m     56\u001b[0m     \u001b[0;31m# cases, and look like a memory leak in others.\u001b[0m\u001b[0;34m\u001b[0m\u001b[0;34m\u001b[0m\u001b[0m\n\u001b[1;32m     57\u001b[0m     \u001b[0;32mwith\u001b[0m \u001b[0msessions\u001b[0m\u001b[0;34m.\u001b[0m\u001b[0mSession\u001b[0m\u001b[0;34m(\u001b[0m\u001b[0;34m)\u001b[0m \u001b[0;32mas\u001b[0m \u001b[0msession\u001b[0m\u001b[0;34m:\u001b[0m\u001b[0;34m\u001b[0m\u001b[0m\n\u001b[0;32m---> 58\u001b[0;31m         \u001b[0;32mreturn\u001b[0m \u001b[0msession\u001b[0m\u001b[0;34m.\u001b[0m\u001b[0mrequest\u001b[0m\u001b[0;34m(\u001b[0m\u001b[0mmethod\u001b[0m\u001b[0;34m=\u001b[0m\u001b[0mmethod\u001b[0m\u001b[0;34m,\u001b[0m \u001b[0murl\u001b[0m\u001b[0;34m=\u001b[0m\u001b[0murl\u001b[0m\u001b[0;34m,\u001b[0m \u001b[0;34m**\u001b[0m\u001b[0mkwargs\u001b[0m\u001b[0;34m)\u001b[0m\u001b[0;34m\u001b[0m\u001b[0m\n\u001b[0m\u001b[1;32m     59\u001b[0m \u001b[0;34m\u001b[0m\u001b[0m\n\u001b[1;32m     60\u001b[0m \u001b[0;34m\u001b[0m\u001b[0m\n",
      "\u001b[0;32m/usr/local/lib/python3.5/dist-packages/requests/sessions.py\u001b[0m in \u001b[0;36mrequest\u001b[0;34m(self, method, url, params, data, headers, cookies, files, auth, timeout, allow_redirects, proxies, hooks, stream, verify, cert, json)\u001b[0m\n\u001b[1;32m    506\u001b[0m         }\n\u001b[1;32m    507\u001b[0m         \u001b[0msend_kwargs\u001b[0m\u001b[0;34m.\u001b[0m\u001b[0mupdate\u001b[0m\u001b[0;34m(\u001b[0m\u001b[0msettings\u001b[0m\u001b[0;34m)\u001b[0m\u001b[0;34m\u001b[0m\u001b[0m\n\u001b[0;32m--> 508\u001b[0;31m         \u001b[0mresp\u001b[0m \u001b[0;34m=\u001b[0m \u001b[0mself\u001b[0m\u001b[0;34m.\u001b[0m\u001b[0msend\u001b[0m\u001b[0;34m(\u001b[0m\u001b[0mprep\u001b[0m\u001b[0;34m,\u001b[0m \u001b[0;34m**\u001b[0m\u001b[0msend_kwargs\u001b[0m\u001b[0;34m)\u001b[0m\u001b[0;34m\u001b[0m\u001b[0m\n\u001b[0m\u001b[1;32m    509\u001b[0m \u001b[0;34m\u001b[0m\u001b[0m\n\u001b[1;32m    510\u001b[0m         \u001b[0;32mreturn\u001b[0m \u001b[0mresp\u001b[0m\u001b[0;34m\u001b[0m\u001b[0m\n",
      "\u001b[0;32m/usr/local/lib/python3.5/dist-packages/requests/sessions.py\u001b[0m in \u001b[0;36msend\u001b[0;34m(self, request, **kwargs)\u001b[0m\n\u001b[1;32m    616\u001b[0m \u001b[0;34m\u001b[0m\u001b[0m\n\u001b[1;32m    617\u001b[0m         \u001b[0;31m# Send the request\u001b[0m\u001b[0;34m\u001b[0m\u001b[0;34m\u001b[0m\u001b[0m\n\u001b[0;32m--> 618\u001b[0;31m         \u001b[0mr\u001b[0m \u001b[0;34m=\u001b[0m \u001b[0madapter\u001b[0m\u001b[0;34m.\u001b[0m\u001b[0msend\u001b[0m\u001b[0;34m(\u001b[0m\u001b[0mrequest\u001b[0m\u001b[0;34m,\u001b[0m \u001b[0;34m**\u001b[0m\u001b[0mkwargs\u001b[0m\u001b[0;34m)\u001b[0m\u001b[0;34m\u001b[0m\u001b[0m\n\u001b[0m\u001b[1;32m    619\u001b[0m \u001b[0;34m\u001b[0m\u001b[0m\n\u001b[1;32m    620\u001b[0m         \u001b[0;31m# Total elapsed time of the request (approximately)\u001b[0m\u001b[0;34m\u001b[0m\u001b[0;34m\u001b[0m\u001b[0m\n",
      "\u001b[0;32m/usr/local/lib/python3.5/dist-packages/requests/adapters.py\u001b[0m in \u001b[0;36msend\u001b[0;34m(self, request, stream, timeout, verify, cert, proxies)\u001b[0m\n\u001b[1;32m    506\u001b[0m                 \u001b[0;32mraise\u001b[0m \u001b[0mSSLError\u001b[0m\u001b[0;34m(\u001b[0m\u001b[0me\u001b[0m\u001b[0;34m,\u001b[0m \u001b[0mrequest\u001b[0m\u001b[0;34m=\u001b[0m\u001b[0mrequest\u001b[0m\u001b[0;34m)\u001b[0m\u001b[0;34m\u001b[0m\u001b[0m\n\u001b[1;32m    507\u001b[0m \u001b[0;34m\u001b[0m\u001b[0m\n\u001b[0;32m--> 508\u001b[0;31m             \u001b[0;32mraise\u001b[0m \u001b[0mConnectionError\u001b[0m\u001b[0;34m(\u001b[0m\u001b[0me\u001b[0m\u001b[0;34m,\u001b[0m \u001b[0mrequest\u001b[0m\u001b[0;34m=\u001b[0m\u001b[0mrequest\u001b[0m\u001b[0;34m)\u001b[0m\u001b[0;34m\u001b[0m\u001b[0m\n\u001b[0m\u001b[1;32m    509\u001b[0m \u001b[0;34m\u001b[0m\u001b[0m\n\u001b[1;32m    510\u001b[0m         \u001b[0;32mexcept\u001b[0m \u001b[0mClosedPoolError\u001b[0m \u001b[0;32mas\u001b[0m \u001b[0me\u001b[0m\u001b[0;34m:\u001b[0m\u001b[0;34m\u001b[0m\u001b[0m\n",
      "\u001b[0;31mConnectionError\u001b[0m: HTTPConnectionPool(host='emap.fgv.br', port=80): Max retries exceeded with url: /corpo-docente/walter-wagner-carvalho-sande-professor-assistente (Caused by NewConnectionError('<urllib3.connection.HTTPConnection object at 0x7efe0179f4a8>: Failed to establish a new connection: [Errno 110] Connection timed out',))"
     ]
    }
   ],
   "source": [
    "url = 'http://emap.fgv.br/corpo-docente/walter-wagner-carvalho-sande-professor-assistente'\n",
    "pagina = requests.get(url)\n",
    "texto = pagina.text\n",
    "\n",
    "soup = bs(texto, 'lxml')\n",
    "emails = [a[\"href\"] for a in soup.select('a[href^=mailto:]')]"
   ]
  },
  {
   "cell_type": "code",
   "execution_count": null,
   "metadata": {},
   "outputs": [],
   "source": [
    "url = 'http://emap.fgv.br/corpo-docente/vincent-gerard-yannick-guigues'\n",
    "pagina = requests.get(url)\n",
    "texto = pagina.text"
   ]
  },
  {
   "cell_type": "code",
   "execution_count": null,
   "metadata": {},
   "outputs": [],
   "source": []
  },
  {
   "cell_type": "code",
   "execution_count": null,
   "metadata": {},
   "outputs": [],
   "source": []
  },
  {
   "cell_type": "code",
   "execution_count": 89,
   "metadata": {
    "collapsed": true
   },
   "outputs": [],
   "source": [
    "import re\n",
    "re1 = r'[a-zA-Z0-9-_.]+@[a-zA-Z0-9-_.]+[a-zA-Z]'\n",
    "re2 = r\"(^[a-zA-Z0-9_.+-]+@[a-zA-Z0-9-]+\\.[a-zA-Z0-9-.]+$)\""
   ]
  },
  {
   "cell_type": "code",
   "execution_count": 91,
   "metadata": {},
   "outputs": [
    {
     "data": {
      "text/plain": [
       "['vincent.guigues@fgv.br', 'vincent.guigues@fgv.br']"
      ]
     },
     "execution_count": 91,
     "metadata": {},
     "output_type": "execute_result"
    }
   ],
   "source": [
    "re.findall(re1, texto)"
   ]
  },
  {
   "cell_type": "markdown",
   "metadata": {},
   "source": [
    "Escreva uma função que possua o mesmo comportamento do gerador (x**2 for x in range(100))"
   ]
  },
  {
   "cell_type": "code",
   "execution_count": 205,
   "metadata": {},
   "outputs": [],
   "source": [
    "def gerador():\n",
    "    for x in range(100):\n",
    "        yield x**2"
   ]
  },
  {
   "cell_type": "markdown",
   "metadata": {},
   "source": [
    "Uma progressão aritmética (PA) é um sequência numérica em que cada termo, a partir do segundo, é igual à soma do termo anterior com uma constante R positiva (denominada razão).  \n",
    "\n",
    "A fórmula geral de uma PA é:  $an = a1 + (n - 1) * R$    \n",
    "\n",
    "Escreva uma função que receba uma lista com um conjunto de números inteiros positivos, identifique todos os subconjuntos de no mínimo 3 elementos desta lista onde os números formem uma progressão aritmética. Devem ser apresentados sempre os maiores subconjuntos que formem uma PA. Por exemplo, dado a lista [1,2,3,5,6,7,9] teríamos como resultado:  \n",
    "\n",
    "[[1,2,3], [5,6,7], [1,3,5,7,9], [3,6,9], [1,5,9]]  \n",
    "\n",
    "Note que, por exemplo, a sequência [1,3,5] não deve ser apresentada, porque já faz parte de [1,3,5,7,9].  "
   ]
  },
  {
   "cell_type": "code",
   "execution_count": null,
   "metadata": {
    "collapsed": true
   },
   "outputs": [],
   "source": []
  },
  {
   "cell_type": "markdown",
   "metadata": {},
   "source": [
    "Uma permutação é um arranjo ordenado de objetos. Por exemplo, $ 3124 \\ $ é uma das possíveis permutações dos dígitos $1, 2, 3$ e $4$. Se todas as permutações são ordenadas numericamente, chamamos a este arranjo de ordem lexicográfica. As permutações lexicográficas de $0, 1$ e $2$ são:  \n",
    "\n",
    "$012\\;021\\;102\\;120\\;201\\;210$    \n",
    "\n",
    "Qual o milionésimo elemento da ordenação lexicográfica dos dígitos $0, 1, 2, 3, 4, 5, 6, 7, 8$ e $9$?   "
   ]
  },
  {
   "cell_type": "code",
   "execution_count": 12,
   "metadata": {},
   "outputs": [
    {
     "data": {
      "text/plain": [
       "[(1, 2, 3), (1, 2, 4), (1, 3, 4), (2, 3, 4)]"
      ]
     },
     "execution_count": 12,
     "metadata": {},
     "output_type": "execute_result"
    }
   ],
   "source": [
    "from itertools import combinations\n",
    "lis = [1, 2, 3, 4]\n",
    "list(combinations(lis, 3))"
   ]
  },
  {
   "cell_type": "code",
   "execution_count": 16,
   "metadata": {
    "collapsed": true
   },
   "outputs": [],
   "source": [
    "#Código do Itertools\n",
    "\n",
    "def permutations(iterable, r=None):\n",
    "    # permutations('ABCD', 2) --> AB AC AD BA BC BD CA CB CD DA DB DC\n",
    "    # permutations(range(3)) --> 012 021 102 120 201 210\n",
    "    pool = tuple(iterable)\n",
    "    n = len(pool)\n",
    "    r = n if r is None else r\n",
    "    if r > n:\n",
    "        return\n",
    "    indices = list(range(n))\n",
    "    cycles = list(range(n, n-r, -1))\n",
    "    yield tuple(pool[i] for i in indices[:r])\n",
    "    while n:\n",
    "        for i in reversed(list(range(r))):\n",
    "            cycles[i] -= 1\n",
    "            if cycles[i] == 0:\n",
    "                indices[i:] = indices[i+1:] + indices[i:i+1]\n",
    "                cycles[i] = n - i\n",
    "            else:\n",
    "                j = cycles[i]\n",
    "                indices[i], indices[-j] = indices[-j], indices[i]\n",
    "                yield tuple(pool[i] for i in indices[:r])\n",
    "                break\n",
    "        else:\n",
    "            return"
   ]
  },
  {
   "cell_type": "code",
   "execution_count": 18,
   "metadata": {},
   "outputs": [
    {
     "data": {
      "text/plain": [
       "[('0', '1', '2'),\n",
       " ('0', '2', '1'),\n",
       " ('1', '0', '2'),\n",
       " ('1', '2', '0'),\n",
       " ('2', '0', '1'),\n",
       " ('2', '1', '0')]"
      ]
     },
     "execution_count": 18,
     "metadata": {},
     "output_type": "execute_result"
    }
   ],
   "source": [
    "list(permutations('012',3))"
   ]
  },
  {
   "cell_type": "code",
   "execution_count": 9,
   "metadata": {},
   "outputs": [
    {
     "name": "stdout",
     "output_type": "stream",
     "text": [
      "0139846572\n",
      "CPU times: user 42 s, sys: 0 ns, total: 42 s\n",
      "Wall time: 42.1 s\n"
     ]
    }
   ],
   "source": [
    "%%time\n",
    "\n",
    "#permutações mais simples\n",
    "from IPython.display import clear_output\n",
    "\n",
    "validos = []\n",
    "count = 0\n",
    "for i in range(123456789,9876543211):\n",
    "    if '0' not in str(i):\n",
    "        if len(set(list(str(i)))) == 9:\n",
    "            validos.append('0'+ str(i))\n",
    "            #print('0'+ str(i))\n",
    "            count += 1\n",
    "    else:\n",
    "        if len(set(list(str(i)))) == 10:\n",
    "            validos.append(str(i))\n",
    "            #print(str(i))\n",
    "            count += 1\n",
    "    #if count%100 == 1:\n",
    "    #    clear_output()\n",
    "    if count > 10000:\n",
    "        break\n",
    "print(validos[9999])"
   ]
  },
  {
   "cell_type": "markdown",
   "metadata": {},
   "source": [
    "No semestre passado manipulamos textos usando Shell do linux.  \n",
    "Implemente no Python funções para ler um arquivo e:  \n",
    "- Contar a quantidade de palavras que começam com letras maiúsculas;  \n",
    "- Contar quantas palavras contém sequências de três vogais (tritongos);  \n",
    "- Salvar no arquivo “resultados.txt” as linhas que começam e terminam com uma não vogal."
   ]
  },
  {
   "cell_type": "code",
   "execution_count": 209,
   "metadata": {},
   "outputs": [],
   "source": [
    "vogais = {'a','e','i','o','u'}\n",
    "istritongo = lambda arg: set(arg).issubset(vogais)\n",
    "\n",
    "def manipula(arquivo):\n",
    "    with open(arquivo, 'r') as reader:\n",
    "        texto = reader.read().split()\n",
    "        titulos = [wrd for wrd in texto if wrd.istitle()]\n",
    "        \n",
    "        tritong = []\n",
    "        for wrd in texto:\n",
    "            wrd = wrd.lower() + '  '\n",
    "            for i in range(len(wrd) - 2):\n",
    "                if istritongo(wrd[i:i+3]):\n",
    "                    tritong.append(wrd)\n",
    "                    continue\n",
    "                    \n",
    "        print('Titulos: {}'.format(len(titulos)))\n",
    "        print('tritongos: {}'.format(len(tritong)))\n",
    "        \n",
    "    with open(arquivo, 'r') as reader:\n",
    "        linhas = ''\n",
    "        writer = open('resultados.txt', 'a')\n",
    "        for linha in reader.readlines():\n",
    "            linha.strip('\\n')\n",
    "            \n",
    "            if linha[0] not in vogais and linha [-1] not in vogais:\n",
    "                writer.write(linha + '\\n')"
   ]
  },
  {
   "cell_type": "code",
   "execution_count": 210,
   "metadata": {
    "scrolled": true
   },
   "outputs": [
    {
     "name": "stdout",
     "output_type": "stream",
     "text": [
      "Titulos: 54\n",
      "tritongos: 2\n"
     ]
    }
   ],
   "source": [
    "manipula('respostas.txt')"
   ]
  },
  {
   "cell_type": "markdown",
   "metadata": {},
   "source": [
    "Implemente em Python uma classe chamada “Tamagotchi” com as seguintes propriedades:  \n",
    "- Tem métodos para dizer a idade, se está com fome e se está de bom humor  \n",
    "- Fica com fome após 5 minutos depois de comer, e fica de mau humor se não bricarem com ele em 10 minutos\n",
    "- Se comunica com um conjunto de mensagens predefinidas e aleatórias, dependendo do humor e da fome \n",
    "- \"Morre\" se ficar com fome por mais de 10 minutos (os métodos deixarão de funcionar)"
   ]
  },
  {
   "cell_type": "code",
   "execution_count": null,
   "metadata": {
    "collapsed": true
   },
   "outputs": [],
   "source": [
    "import time\n",
    "\n",
    "class Tamagotchi:\n",
    "    def __init__(self, idade):\n",
    "        self.fome = False\n",
    "        self.humor = True\n",
    "        self.idade = idade\n",
    "        \n",
    "        self.refei = time.time()\n",
    "        self.brinc = time.time()\n",
    "        \n",
    "    def estado(self):\n",
    "        print('Fome: {}'.format(self.fome))\n",
    "        print('Humor: {}'.format(self.humor))\n",
    "        print('Idade: {}'.format(self.idade))\n",
    "    \n",
    "    def alimenta(self):\n",
    "        self.refei = time.time()\n",
    "        \n",
    "    def brinca(self):\n",
    "        self.brinc = time.time()\n",
    "        \n",
    "    "
   ]
  },
  {
   "cell_type": "markdown",
   "metadata": {},
   "source": [
    "Implemente em Python a classe quadrilátero, que recebe o tamanho dos lados ao ser instanciada. Implemente as classes retângulo, quadrado, losango e trapézio, derivadas da classe quadrilátero, com os métodos para área e perímetro.\n"
   ]
  },
  {
   "cell_type": "code",
   "execution_count": null,
   "metadata": {
    "collapsed": true
   },
   "outputs": [],
   "source": []
  },
  {
   "cell_type": "markdown",
   "metadata": {},
   "source": [
    "Implemente em Python uma classe chamada “Navio” com as seguintes propriedades:  \n",
    "- Quando instanciado, tem o tanque cheio e está nas coordenadas 0,0.  \n",
    "- Possui um tanque de diesel com capacidade de 600.000 litros.  \n",
    "- Consome 13.700 litros por hora, numa velocidade de 37 Km/h.  \n",
    "- Possui o metodo “navegar”, que recebe as coordenadas de destino. Esse método calcula a distância a navegar e avalia se o navio possui combustível para chegar nestas coordenadas.  \n",
    "- Possui métodos para encher o tanque, dizer a autonomia, retornar o total de km navegados desde que encheu o tanque e desde que foi instanciado.  \n",
    "\n",
    "OBS: Considere que um grau de latitude sempre corresponde a uma distância de 111,12 Km. Embora não seja verdade, considere que um grau de longitude corresponde à mesma distância.  "
   ]
  },
  {
   "cell_type": "code",
   "execution_count": null,
   "metadata": {
    "collapsed": true
   },
   "outputs": [],
   "source": []
  },
  {
   "cell_type": "markdown",
   "metadata": {},
   "source": [
    "O problema de Monty Hall, também conhecido por paradoxo de Monty Hall é um problema matemático e paradoxo que surgiu a partir de um concurso televisivo dos Estados Unidos chamado \"Let’s Make a Deal\", exibido na década de 1970. O jogo consiste no seguinte: Monty Hall (o apresentador) apresentava 3 portas aos concorrentes, sabendo que atrás de uma delas está um carro (prêmio bom) e que as outras têm prêmios de pouco valor.\n",
    "\n",
    "- Na 1ª etapa o concorrente escolhe uma porta (que ainda não é aberta);  \n",
    "- Em seguida, Monty abre uma das outras duas portas que o concorrente não escolheu, sabendo de antemão que o carro não se encontra na porta que abrirá;  \n",
    "- Agora com duas portas apenas para escolher — pois uma delas já se viu, na 2ª etapa, que não tinha o prêmio — e sabendo que o carro está atrás de uma delas, o concorrente tem que se decidir se permanece com a porta que escolheu no início do jogo e abre-a ou se muda para a outra porta que ainda está fechada para então a abrir.  \n",
    "\n",
    "Demonstre graficamente que é mais provável ganhar o prêmio se trocar de porta do que se não o fizer. Quais as probabilidade de acertar, em ambos os casos?"
   ]
  },
  {
   "cell_type": "code",
   "execution_count": null,
   "metadata": {
    "collapsed": true
   },
   "outputs": [],
   "source": []
  },
  {
   "cell_type": "markdown",
   "metadata": {},
   "source": [
    "Você sabe jogar pôquer? Vamos criar um jogo virtual...  \n",
    "a) Crie uma classe chamada “Baralho”, com as cartas dos naipes de Paus, Copas, Ouros e Espadas, cada naipe possuindo cartas que variam de 1 a 13.  \n",
    "Esta classe deve possuir o método “embaralhar”. Quando instanciado, o baralho deve chamar este método, gerando uma uma ordem aleatória para estas 52 cartas.  \n",
    "\n",
    "Dica: gerar um baralho com o comando [str(x)+str(y) for x,y in list(itertools.product('PCOE',range(1,14)))]  \n",
    "\n",
    "b) Crie uma classe chamada “Jogador”, que seja iniciada com cinco cartas, e retorne o valor da “mão” (veja a primeira coluna da tabela a seguir)  \n",
    "\n",
    "c) Crie uma classe chamada “Jogo”, que recebe uma instância de Baralho e $n$ instâncias de jogador. Esta classe deve ser capaz de:  \n",
    "\n",
    "- Distribuir cartas de um baralho embaralhado para $n$ jogadores, 5 cartas para cada um e;  \n",
    "- Anunciar o ganhador da rodada (aquele com o maior número no valor da mão).  \n",
    "\n",
    "A hierarquia de “mãos” do pôquer é a seguinte (todos os naipes possuem o mesmo valor):"
   ]
  },
  {
   "cell_type": "code",
   "execution_count": 30,
   "metadata": {},
   "outputs": [
    {
     "data": {
      "text/html": [
       "<div>\n",
       "<style>\n",
       "    .dataframe thead tr:only-child th {\n",
       "        text-align: right;\n",
       "    }\n",
       "\n",
       "    .dataframe thead th {\n",
       "        text-align: left;\n",
       "    }\n",
       "\n",
       "    .dataframe tbody tr th {\n",
       "        vertical-align: top;\n",
       "    }\n",
       "</style>\n",
       "<table border=\"1\" class=\"dataframe\">\n",
       "  <thead>\n",
       "    <tr style=\"text-align: right;\">\n",
       "      <th></th>\n",
       "      <th>Nome da Jogada</th>\n",
       "      <th>Descrição</th>\n",
       "      <th>Combinações possíveis</th>\n",
       "    </tr>\n",
       "  </thead>\n",
       "  <tbody>\n",
       "    <tr>\n",
       "      <th>0</th>\n",
       "      <td>Royal Straight Flush</td>\n",
       "      <td>5 cartas seguidas do mesmo naipe até o Ás</td>\n",
       "      <td>4</td>\n",
       "    </tr>\n",
       "    <tr>\n",
       "      <th>1</th>\n",
       "      <td>Straight Flush</td>\n",
       "      <td>5 cartas seguidas do mesmo naipe que não seja ...</td>\n",
       "      <td>36</td>\n",
       "    </tr>\n",
       "    <tr>\n",
       "      <th>2</th>\n",
       "      <td>Four of a kind</td>\n",
       "      <td>Quatro cartas iguais</td>\n",
       "      <td>624</td>\n",
       "    </tr>\n",
       "    <tr>\n",
       "      <th>3</th>\n",
       "      <td>Full House</td>\n",
       "      <td>Uma trinca e um par</td>\n",
       "      <td>3744</td>\n",
       "    </tr>\n",
       "    <tr>\n",
       "      <th>4</th>\n",
       "      <td>Flush</td>\n",
       "      <td>5 cartas do mesmo naipe não seguidas</td>\n",
       "      <td>5108</td>\n",
       "    </tr>\n",
       "    <tr>\n",
       "      <th>5</th>\n",
       "      <td>Straight</td>\n",
       "      <td>5 cartas seguidas de naipes diferentes</td>\n",
       "      <td>10200</td>\n",
       "    </tr>\n",
       "    <tr>\n",
       "      <th>6</th>\n",
       "      <td>Three of a kind</td>\n",
       "      <td>3 cartas iguais</td>\n",
       "      <td>54912</td>\n",
       "    </tr>\n",
       "    <tr>\n",
       "      <th>7</th>\n",
       "      <td>Two Pairs</td>\n",
       "      <td>2 pares de cartas</td>\n",
       "      <td>123552</td>\n",
       "    </tr>\n",
       "    <tr>\n",
       "      <th>8</th>\n",
       "      <td>One Pair</td>\n",
       "      <td>2 cartas iguais</td>\n",
       "      <td>1098240</td>\n",
       "    </tr>\n",
       "    <tr>\n",
       "      <th>9</th>\n",
       "      <td>High Card</td>\n",
       "      <td>Ganha quem tiver a carta mais alta</td>\n",
       "      <td>1302540</td>\n",
       "    </tr>\n",
       "  </tbody>\n",
       "</table>\n",
       "</div>"
      ],
      "text/plain": [
       "         Nome da Jogada                                          Descrição  \\\n",
       "0  Royal Straight Flush          5 cartas seguidas do mesmo naipe até o Ás   \n",
       "1        Straight Flush  5 cartas seguidas do mesmo naipe que não seja ...   \n",
       "2        Four of a kind                               Quatro cartas iguais   \n",
       "3            Full House                                Uma trinca e um par   \n",
       "4                 Flush               5 cartas do mesmo naipe não seguidas   \n",
       "5              Straight             5 cartas seguidas de naipes diferentes   \n",
       "6       Three of a kind                                    3 cartas iguais   \n",
       "7             Two Pairs                                  2 pares de cartas   \n",
       "8              One Pair                                    2 cartas iguais   \n",
       "9             High Card                 Ganha quem tiver a carta mais alta   \n",
       "\n",
       "   Combinações possíveis  \n",
       "0                      4  \n",
       "1                     36  \n",
       "2                    624  \n",
       "3                   3744  \n",
       "4                   5108  \n",
       "5                  10200  \n",
       "6                  54912  \n",
       "7                 123552  \n",
       "8                1098240  \n",
       "9                1302540  "
      ]
     },
     "execution_count": 30,
     "metadata": {},
     "output_type": "execute_result"
    }
   ],
   "source": [
    "nomes = {'Nome da Jogada':['Royal Straight Flush',\n",
    "                           'Straight Flush',\n",
    "                           'Four of a kind',\n",
    "                           'Full House',\n",
    "                           'Flush',\n",
    "                           'Straight',\n",
    "                           'Three of a kind',\n",
    "                           'Two Pairs',\n",
    "                           'One Pair',\n",
    "                           'High Card'],\n",
    "         'Descrição':['5 cartas seguidas do mesmo naipe até o Ás', \n",
    "                      '5 cartas seguidas do mesmo naipe que não seja até ao Ás',\n",
    "                      'Quatro cartas iguais',\n",
    "                      'Uma trinca e um par',\n",
    "                      '5 cartas do mesmo naipe não seguidas',\n",
    "                      '5 cartas seguidas de naipes diferentes',\n",
    "                      '3 cartas iguais',\n",
    "                      '2 pares de cartas',\n",
    "                      '2 cartas iguais',\n",
    "                      'Ganha quem tiver a carta mais alta'],\n",
    "         'Combinações possíveis':[4,36,624,3744,5108,10200,54912,123552,1098240,1302540]}\n",
    "\n",
    "df = pd.DataFrame(nomes, columns=['Nome da Jogada','Descrição','Combinações possíveis'])\n",
    "df"
   ]
  },
  {
   "cell_type": "code",
   "execution_count": 10,
   "metadata": {},
   "outputs": [],
   "source": [
    "from random import shuffle\n",
    "\n",
    "class Baralho:\n",
    "    def embaralha(self):\n",
    "        self.baralho = [str(x)+str(y) for x,y in list(itertools.product('PCOE',range(1,14)))]\n",
    "        random.shuffle(self.baralho)\n",
    "        \n",
    "    def __init__(self):\n",
    "        self.embaralha()\n",
    "        \n",
    "    def show(self):\n",
    "        print(self.baralho)\n",
    "        \n",
    "    def da_cartas(self,num):\n",
    "        if num <= len(self.baralho):\n",
    "            cartas = []\n",
    "            for i in range(num):\n",
    "                cartas.append(self.baralho.pop())\n",
    "            return cartas\n",
    "        else:\n",
    "            print('Não há cartas suficientes')"
   ]
  },
  {
   "cell_type": "code",
   "execution_count": 24,
   "metadata": {},
   "outputs": [
    {
     "name": "stdout",
     "output_type": "stream",
     "text": [
      "['C12', 'C5', 'O12', 'E8', 'P11', 'O2', 'C2', 'C13', 'P5', 'E4', 'P12', 'C9', 'O8', 'E10', 'P3', 'O1', 'C6', 'C10', 'P1', 'O7', 'O10', 'C4', 'P2', 'O3', 'O5', 'P4', 'C8', 'P13', 'O11', 'E13', 'C7', 'C1', 'O9', 'O4', 'E12', 'P6', 'E3', 'P9', 'O13', 'E9', 'P8', 'P7', 'E6', 'P10', 'E7', 'E2', 'E11', 'E5', 'E1', 'O6', 'C3', 'C11']\n"
     ]
    }
   ],
   "source": [
    "b1 = Baralho()\n",
    "b1.show()"
   ]
  },
  {
   "cell_type": "code",
   "execution_count": 25,
   "metadata": {},
   "outputs": [
    {
     "data": {
      "text/plain": [
       "['C11', 'C3', 'O6', 'E1', 'E5', 'E11', 'E2', 'E7', 'P10', 'E6']"
      ]
     },
     "execution_count": 25,
     "metadata": {},
     "output_type": "execute_result"
    }
   ],
   "source": [
    "b1.da_cartas(10)"
   ]
  },
  {
   "cell_type": "code",
   "execution_count": 26,
   "metadata": {},
   "outputs": [
    {
     "name": "stdout",
     "output_type": "stream",
     "text": [
      "['C12', 'C5', 'O12', 'E8', 'P11', 'O2', 'C2', 'C13', 'P5', 'E4', 'P12', 'C9', 'O8', 'E10', 'P3', 'O1', 'C6', 'C10', 'P1', 'O7', 'O10', 'C4', 'P2', 'O3', 'O5', 'P4', 'C8', 'P13', 'O11', 'E13', 'C7', 'C1', 'O9', 'O4', 'E12', 'P6', 'E3', 'P9', 'O13', 'E9', 'P8', 'P7']\n"
     ]
    }
   ],
   "source": [
    "b1.show()"
   ]
  },
  {
   "cell_type": "code",
   "execution_count": 27,
   "metadata": {
    "collapsed": true
   },
   "outputs": [],
   "source": [
    "b1.embaralha()"
   ]
  },
  {
   "cell_type": "code",
   "execution_count": 28,
   "metadata": {},
   "outputs": [
    {
     "name": "stdout",
     "output_type": "stream",
     "text": [
      "['C8', 'P6', 'P7', 'E13', 'C1', 'C6', 'P13', 'E5', 'E1', 'P4', 'O10', 'O8', 'E9', 'P9', 'P8', 'C11', 'O12', 'O4', 'O5', 'E2', 'P12', 'O3', 'P2', 'C9', 'C4', 'E10', 'E4', 'C10', 'O11', 'C12', 'P11', 'P3', 'O9', 'C3', 'P5', 'C7', 'C2', 'O6', 'O1', 'E3', 'P1', 'E8', 'E6', 'O2', 'P10', 'O7', 'E12', 'O13', 'E7', 'C5', 'E11', 'C13']\n"
     ]
    }
   ],
   "source": [
    "b1.show()"
   ]
  },
  {
   "cell_type": "code",
   "execution_count": 31,
   "metadata": {
    "collapsed": true
   },
   "outputs": [],
   "source": [
    "class Jogador:\n",
    "    def __init__(self,name):\n",
    "        self.cartas = []\n",
    "        self.name = name\n",
    "        \n",
    "    def recebe_cartas(self, cartas):\n",
    "        self.cartas = cartas\n",
    "        \n",
    "    def mostra_cartas(self):\n",
    "        return self.cartas\n",
    "    \n",
    "    def valor_mao(self):\n",
    "        return max([int(c[1:]) for c in self.cartas])  #implementar função de valor da mão"
   ]
  },
  {
   "cell_type": "code",
   "execution_count": 36,
   "metadata": {
    "collapsed": true
   },
   "outputs": [],
   "source": [
    "class Jogo:\n",
    "    def __init__(self, baralho, *jogadores):\n",
    "        self.jogadores = [j for j in jogadores]\n",
    "        self.baralho = baralho\n",
    "        \n",
    "    def jogada(self):\n",
    "        self.baralho.embaralha()\n",
    "        for jogador in self.jogadores:\n",
    "            jogador.recebe_cartas(self.baralho.da_cartas(5))\n",
    "            print('Jogador {} possui cartas {}'.format(jogador.name, jogador.mostra_cartas()))\n",
    "            print('Valor da mão: {}\\n'.format(jogador.valor_mao()))"
   ]
  },
  {
   "cell_type": "code",
   "execution_count": 37,
   "metadata": {},
   "outputs": [],
   "source": [
    "jogador1 = Jogador('Renato')\n",
    "jogador2 = Jogador('Matheus')\n",
    "jogador3 = Jogador('Breno')\n",
    "jogador4 = Jogador('Lucas')\n",
    "banca = Jogador('Banca')\n",
    "b2 = Baralho()\n",
    "jogo1 = Jogo(b2, jogador1, jogador2, jogador3, jogador4, banca,)"
   ]
  },
  {
   "cell_type": "code",
   "execution_count": 121,
   "metadata": {},
   "outputs": [
    {
     "name": "stdout",
     "output_type": "stream",
     "text": [
      "Jogador Renato possui cartas ['E11', 'C10', 'E7', 'O13', 'O9']\n",
      "Valor da mão: 13\n",
      "\n",
      "Jogador Matheus possui cartas ['P7', 'P3', 'E2', 'O7', 'O8']\n",
      "Valor da mão: 8\n",
      "\n",
      "Jogador Breno possui cartas ['C1', 'O10', 'P10', 'P4', 'E4']\n",
      "Valor da mão: 10\n",
      "\n",
      "Jogador Lucas possui cartas ['E13', 'C5', 'O11', 'E12', 'P9']\n",
      "Valor da mão: 13\n",
      "\n",
      "Jogador Banca possui cartas ['C6', 'C4', 'P2', 'O4', 'P13']\n",
      "Valor da mão: 13\n",
      "\n"
     ]
    }
   ],
   "source": [
    "jogo1.jogada()"
   ]
  },
  {
   "cell_type": "code",
   "execution_count": 122,
   "metadata": {},
   "outputs": [
    {
     "name": "stdout",
     "output_type": "stream",
     "text": [
      "Jogador Renato possui cartas ['O7', 'O6', 'O10', 'C5', 'E13']\n",
      "Valor da mão: 13\n",
      "\n",
      "Jogador Matheus possui cartas ['E9', 'O4', 'O12', 'E2', 'O2']\n",
      "Valor da mão: 12\n",
      "\n",
      "Jogador Breno possui cartas ['C10', 'C7', 'P1', 'E8', 'E6']\n",
      "Valor da mão: 10\n",
      "\n",
      "Jogador Lucas possui cartas ['E10', 'P10', 'C9', 'C13', 'C1']\n",
      "Valor da mão: 13\n",
      "\n",
      "Jogador Banca possui cartas ['P12', 'C8', 'E1', 'O8', 'P5']\n",
      "Valor da mão: 12\n",
      "\n"
     ]
    }
   ],
   "source": [
    "jogo1.jogada()"
   ]
  },
  {
   "cell_type": "markdown",
   "metadata": {
    "collapsed": true
   },
   "source": [
    "## Mega Sena\n",
    "\n",
    "### Como Jogar\n",
    "\n",
    "A Mega-Sena paga milhões para o acertador dos 6 números sorteados. Ainda é possível ganhar prêmios ao acertar 4 ou 5 números dentre os 60 disponíveis no volante de apostas. Para realizar o sonho de ser o próximo milionário, você deve marcar de 6 a 15 números do volante.\n",
    "\n",
    "#### Apostas\n",
    "\n",
    "A aposta mínima é de 6 números e a máxima é de 15 números.\n",
    "\n",
    "#### Premiação\n",
    "\n",
    "São premiados os:\n",
    "\n",
    "- acertadores dos 6 números sorteados (Sena);\n",
    "\n",
    "- acertadores de 5 números (Quina);\n",
    "\n",
    "- acertadores de 4 números (Quadra);"
   ]
  },
  {
   "cell_type": "code",
   "execution_count": null,
   "metadata": {
    "collapsed": true
   },
   "outputs": [],
   "source": []
  },
  {
   "cell_type": "markdown",
   "metadata": {},
   "source": [
    "Crie uma função **apostar** que receba números de 6 a 15 números diferentes entre 1 e 60. Caso a aposta seja válida, sua função deve adicionar a aposta à um container (lista, tupla, ...) **apostas**. Caso contrário, indique qual foi o erro."
   ]
  },
  {
   "cell_type": "code",
   "execution_count": null,
   "metadata": {
    "collapsed": true
   },
   "outputs": [],
   "source": []
  },
  {
   "cell_type": "markdown",
   "metadata": {},
   "source": [
    "Crie uma função **megasena** que não receba argumentos. Ela deve realizar o sorteio de 6 números diferentes entre 1 e 60 e indicar quantas apostas foram vencedoras da sena, da quina e da quadra. \n",
    "\n",
    "Lembre-se que o vencedor da sena não é considerado vencedor da quina e assim por diante. \n",
    "\n",
    "Dica: O **randrange** da biblioteca **random** pode ser útil."
   ]
  },
  {
   "cell_type": "code",
   "execution_count": null,
   "metadata": {
    "collapsed": true
   },
   "outputs": [],
   "source": []
  },
  {
   "cell_type": "markdown",
   "metadata": {},
   "source": [
    "Crie uma função **apostador** que recebe um argumento **num_apostas**. A função deve retornar um *container* contendo **num_apostas** apostas.\n",
    "\n",
    "Por exemplo: Ao chamar a função **apostador(10)**, deve ser retornado uma container com 10 apostas.\n",
    "\n",
    "Cada aposta pode conter a quantidade de números que você desejar, desde que seja entre 6 e 15 números."
   ]
  },
  {
   "cell_type": "code",
   "execution_count": null,
   "metadata": {
    "collapsed": true
   },
   "outputs": [],
   "source": []
  }
 ],
 "metadata": {
  "kernelspec": {
   "display_name": "Python 3",
   "language": "python",
   "name": "python3"
  },
  "language_info": {
   "codemirror_mode": {
    "name": "ipython",
    "version": 3
   },
   "file_extension": ".py",
   "mimetype": "text/x-python",
   "name": "python",
   "nbconvert_exporter": "python",
   "pygments_lexer": "ipython3",
   "version": "3.5.2"
  }
 },
 "nbformat": 4,
 "nbformat_minor": 1
}
