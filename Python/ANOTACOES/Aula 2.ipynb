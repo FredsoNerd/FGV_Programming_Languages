{
 "cells": [
  {
   "cell_type": "markdown",
   "metadata": {},
   "source": [
    "# Anotacao do Dia 2018.08.13"
   ]
  },
  {
   "cell_type": "markdown",
   "metadata": {},
   "source": [
    "## Conclusão sobre tipos de dados\n",
    "\n",
    "* Usamos o comando $\\text{git revert [commit]}$ para reverter os commits errados  \n",
    "* Conhecemos o site de apoio $\\text{Python Tutor}$: o site permite ver as alocações de memória do sistema durante as execussões \n",
    "* Concluindo a discussão sbre tipos ed dados com as $Tuplas$  \n",
    "  \n",
    "  \n",
    "* E o que são Tipos Mutaveis? Tipos que só podem ser mudados atribuindo novamente o valor a variavel\n",
    " * o String é IMUTAVEL\n",
    " * os numéricos são IMUTAVEIS\n",
    " * a Listas são tipos MUTAVEIS\n",
    " * os Didionarios e Conjuntos são MUTAVEIS\n",
    " * o Booleano é IMUTAVEL\n",
    " * a Tupla é semelhante à lista, mas IMUTAVEL \n"
   ]
  },
  {
   "cell_type": "markdown",
   "metadata": {},
   "source": [
    "## Introdução sobre pacotes\n",
    "\n",
    "* Os modulos padrão do python são poucos, o $biltin's$.\n",
    "* Às vezes precisamos de pacotes adicionais aos módulos padrão.\n",
    "* Vamos importar módulos.\n",
    "\n",
    "\n",
    "* O Anaconda, por exemplo, escolheu os módulos fundamentais para cientistas\n",
    "\n",
    "* fazemos importação com $\\text{import [pacote]}$\n",
    "* Note que a importacão é necessaria para os pacotes, pois não são $biltin's$\n",
    "\n",
    "\n",
    "* Podemos importar determinados pacotes $\\text{import numpy}$\n",
    "* Podemos importar tudo sobrescrevendo $\\text{from numpy import *}$\n",
    "* Podemos ainda importar determinadas propriedades $\\text{from numpy import pi,e}$\n",
    "* E finalmente, por conveniencia, podemos importar com apelido $\\text{import numpy as np}$"
   ]
  },
  {
   "cell_type": "code",
   "execution_count": null,
   "metadata": {},
   "outputs": [],
   "source": []
  }
 ],
 "metadata": {
  "kernelspec": {
   "display_name": "Python 3",
   "language": "python",
   "name": "python3"
  },
  "language_info": {
   "codemirror_mode": {
    "name": "ipython",
    "version": 3
   },
   "file_extension": ".py",
   "mimetype": "text/x-python",
   "name": "python",
   "nbconvert_exporter": "python",
   "pygments_lexer": "ipython3",
   "version": "3.5.2"
  }
 },
 "nbformat": 4,
 "nbformat_minor": 2
}
