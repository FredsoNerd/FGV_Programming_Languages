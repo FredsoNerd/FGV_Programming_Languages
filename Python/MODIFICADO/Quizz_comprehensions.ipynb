{
 "cells": [
  {
   "cell_type": "markdown",
   "metadata": {},
   "source": [
    "1 - Dada a string abaixo:"
   ]
  },
  {
   "cell_type": "code",
   "execution_count": 1,
   "metadata": {},
   "outputs": [],
   "source": [
    "jgr = 'Só se pode viver perto de outro, e conhecer outra pessoa, \\\n",
    "sem perigo de ódio, se a gente tem amor. Qualquer amor já é um pouquinho \\\n",
    "de saúde, um descanso na loucura.'"
   ]
  },
  {
   "cell_type": "markdown",
   "metadata": {},
   "source": [
    "Use uma list comprehension para criar uma lista de tuplas na forma:\n",
    "(palavra em maiúscula, palavra em minúscula, tamanho da palavra)"
   ]
  },
  {
   "cell_type": "code",
   "execution_count": 4,
   "metadata": {},
   "outputs": [
    {
     "data": {
      "text/plain": [
       "[('SÓ', 'só', 2),\n",
       " ('SE', 'se', 2),\n",
       " ('PODE', 'pode', 4),\n",
       " ('VIVER', 'viver', 5),\n",
       " ('PERTO', 'perto', 5),\n",
       " ('DE', 'de', 2),\n",
       " ('OUTRO,', 'outro,', 6),\n",
       " ('E', 'e', 1),\n",
       " ('CONHECER', 'conhecer', 8),\n",
       " ('OUTRA', 'outra', 5),\n",
       " ('PESSOA,', 'pessoa,', 7),\n",
       " ('SEM', 'sem', 3),\n",
       " ('PERIGO', 'perigo', 6),\n",
       " ('DE', 'de', 2),\n",
       " ('ÓDIO,', 'ódio,', 5),\n",
       " ('SE', 'se', 2),\n",
       " ('A', 'a', 1),\n",
       " ('GENTE', 'gente', 5),\n",
       " ('TEM', 'tem', 3),\n",
       " ('AMOR.', 'amor.', 5),\n",
       " ('QUALQUER', 'qualquer', 8),\n",
       " ('AMOR', 'amor', 4),\n",
       " ('JÁ', 'já', 2),\n",
       " ('É', 'é', 1),\n",
       " ('UM', 'um', 2),\n",
       " ('POUQUINHO', 'pouquinho', 9),\n",
       " ('DE', 'de', 2),\n",
       " ('SAÚDE,', 'saúde,', 6),\n",
       " ('UM', 'um', 2),\n",
       " ('DESCANSO', 'descanso', 8),\n",
       " ('NA', 'na', 2),\n",
       " ('LOUCURA.', 'loucura.', 8)]"
      ]
     },
     "execution_count": 4,
     "metadata": {},
     "output_type": "execute_result"
    }
   ],
   "source": [
    "lista = [(x.upper(), x.lower(), len(x)) for x in jgr.split()]\n",
    "lista"
   ]
  },
  {
   "cell_type": "markdown",
   "metadata": {},
   "source": [
    "2 - Extraia, do texto abaixo, um dicionário de frequências de palavras na forma {palavra: frequência}. Limpe as palavras no quanto for possível."
   ]
  },
  {
   "cell_type": "code",
   "execution_count": 102,
   "metadata": {},
   "outputs": [],
   "source": [
    "texto = '''\n",
    "Cansaço\n",
    "O que há em mim é sobretudo cansaço —\n",
    "Não disto nem daquilo,\n",
    "Nem sequer de tudo ou de nada:\n",
    "Cansaço assim mesmo, ele mesmo,\n",
    "Cansaço.\n",
    "\n",
    "A subtileza das sensações inúteis,\n",
    "As paixões violentas por coisa nenhuma,\n",
    "Os amores intensos por o suposto em alguém,\n",
    "Essas coisas todas —\n",
    "Essas e o que falta nelas eternamente —;\n",
    "Tudo isso faz um cansaço,\n",
    "Este cansaço,\n",
    "Cansaço. \n",
    "\n",
    "'''"
   ]
  },
  {
   "cell_type": "code",
   "execution_count": 103,
   "metadata": {},
   "outputs": [
    {
     "data": {
      "text/plain": [
       "{'a': 1,\n",
       " 'alguém': 1,\n",
       " 'amores': 1,\n",
       " 'as': 1,\n",
       " 'assim': 1,\n",
       " 'cansaço': 7,\n",
       " 'coisa': 1,\n",
       " 'coisas': 1,\n",
       " 'daquilo': 1,\n",
       " 'das': 1,\n",
       " 'de': 2,\n",
       " 'disto': 1,\n",
       " 'e': 1,\n",
       " 'ele': 1,\n",
       " 'em': 2,\n",
       " 'essas': 2,\n",
       " 'este': 1,\n",
       " 'eternamente': 1,\n",
       " 'falta': 1,\n",
       " 'faz': 1,\n",
       " 'há': 1,\n",
       " 'intensos': 1,\n",
       " 'inúteis': 1,\n",
       " 'isso': 1,\n",
       " 'mesmo': 2,\n",
       " 'mim': 1,\n",
       " 'nada': 1,\n",
       " 'nelas': 1,\n",
       " 'nem': 2,\n",
       " 'nenhuma': 1,\n",
       " 'não': 1,\n",
       " 'o': 3,\n",
       " 'os': 1,\n",
       " 'ou': 1,\n",
       " 'paixões': 1,\n",
       " 'por': 2,\n",
       " 'que': 2,\n",
       " 'sensações': 1,\n",
       " 'sequer': 1,\n",
       " 'sobretudo': 1,\n",
       " 'subtileza': 1,\n",
       " 'suposto': 1,\n",
       " 'todas': 1,\n",
       " 'tudo': 2,\n",
       " 'um': 1,\n",
       " 'violentas': 1,\n",
       " 'é': 1}"
      ]
     },
     "execution_count": 103,
     "metadata": {},
     "output_type": "execute_result"
    }
   ],
   "source": [
    "import string\n",
    "\n",
    "texto = texto.lower().replace('—', '').split()\n",
    "texto = [x.strip(string.punctuation) for x in texto]\n",
    "palav = {x for x in texto}\n",
    "\n",
    "dictt = {x:texto.count(x) for x in palav if not x == ''}\n",
    "\n",
    "dictt"
   ]
  },
  {
   "cell_type": "markdown",
   "metadata": {},
   "source": [
    "3- Dadas as características do Calendário Gregoriano:  \n",
    "\n",
    " + Janeiro, Março, Maio, Julho, Agosto, Outubro e Dezembro têm trinta e um dias;\n",
    " + Abril, Junho, Setembro e Novembro têm trinta dias;\n",
    " + Fevereiro tem 28 dias, exceto em anos bissextos, quando tem 29.\n",
    " + Anos bissextos ocorrem quando o ano for divisível por 4, mas não quando for divisível por 100, exceto quando for divisível também por 400.\n",
    " \n",
    " + 1o de Janeiro de 1900 caiu em uma segunda-feira.\n",
    "\n",
    "Responda: Quantos sábados cairam no dia primeiro do mês durante o século XX? (1o de Janeiro de 1901 até 31 Dezembro de 2000)?\n"
   ]
  },
  {
   "cell_type": "code",
   "execution_count": 112,
   "metadata": {},
   "outputs": [
    {
     "name": "stdout",
     "output_type": "stream",
     "text": [
      "172\n"
     ]
    }
   ],
   "source": [
    "meses = [31, 28, 31, 30, 31, 30, 31, 31, 30, 31, 30, 31]\n",
    "\n",
    "def bissex(ano):\n",
    "    '''if dia%4 == 0:\n",
    "        if dia%100 == 0:\n",
    "            if dia%400 == 0:\n",
    "                return 1\n",
    "            return 0\n",
    "        return 1\n",
    "    return 0'''\n",
    "    if (ano%4 == 0 and not (ano%100 == 0)) or ano%400 == 0:\n",
    "        return 1\n",
    "    return 0\n",
    "\n",
    "def semana(dia, mes):\n",
    "    return (dia + mes)%7\n",
    "\n",
    "# itero sobre os anos\n",
    "# dom = 0, sab = 6\n",
    "cont = 0\n",
    "dia = 1\n",
    "for ano in range(1900, 2000):\n",
    "    aux = meses.copy()\n",
    "    aux[2] += bissex(ano) # caso bissesto\n",
    "    \n",
    "    for mes in aux:\n",
    "        dia = semana(dia, mes)\n",
    "        if dia == 6:\n",
    "            cont += 1\n",
    "            \n",
    "print(cont)"
   ]
  },
  {
   "cell_type": "markdown",
   "metadata": {},
   "source": [
    "4- Procure gerar um número (pseudo-)aleatório entre 0 e 9 de forma criativa, usando funções geradoras e o módulo time. \n",
    "Não utilize o módulo random."
   ]
  },
  {
   "cell_type": "code",
   "execution_count": 37,
   "metadata": {},
   "outputs": [],
   "source": [
    "## exemplo para inspirar vocês. Há que se verificar se os números gerados parecem ser aleatórios.\n",
    "import time\n",
    "\n",
    "def numero_aleatorio():\n",
    "    x = time.time()\n",
    "    while True:\n",
    "        num = time.time() - x\n",
    "        #print(num)\n",
    "        num = [n for n in str(num) if n.isdigit()]\n",
    "        num = num[6]\n",
    "        yield int(num)\n",
    "\n",
    "gen = numero_aleatorio()"
   ]
  },
  {
   "cell_type": "code",
   "execution_count": 95,
   "metadata": {},
   "outputs": [
    {
     "name": "stdout",
     "output_type": "stream",
     "text": [
      "6\n"
     ]
    }
   ],
   "source": [
    "print(next(gen))"
   ]
  },
  {
   "cell_type": "code",
   "execution_count": 94,
   "metadata": {},
   "outputs": [
    {
     "data": {
      "text/plain": [
       "4"
      ]
     },
     "execution_count": 94,
     "metadata": {},
     "output_type": "execute_result"
    }
   ],
   "source": [
    "import time\n",
    "\n",
    "def aleatorio():\n",
    "    chave = 'fredson'\n",
    "    tempo = time.time()\n",
    "\n",
    "    numero  = chave.__hash__()\n",
    "    numero *= tempo\n",
    "    numero = str(numero)\n",
    "    \n",
    "    return int(numero[-1::-1][4])\n",
    "\n",
    "aleatorio()"
   ]
  },
  {
   "cell_type": "code",
   "execution_count": null,
   "metadata": {},
   "outputs": [],
   "source": []
  },
  {
   "cell_type": "code",
   "execution_count": null,
   "metadata": {},
   "outputs": [],
   "source": []
  }
 ],
 "metadata": {
  "kernelspec": {
   "display_name": "Python 3",
   "language": "python",
   "name": "python3"
  },
  "language_info": {
   "codemirror_mode": {
    "name": "ipython",
    "version": 3
   },
   "file_extension": ".py",
   "mimetype": "text/x-python",
   "name": "python",
   "nbconvert_exporter": "python",
   "pygments_lexer": "ipython3",
   "version": "3.5.2"
  }
 },
 "nbformat": 4,
 "nbformat_minor": 2
}
