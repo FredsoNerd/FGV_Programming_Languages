{
 "cells": [
  {
   "cell_type": "markdown",
   "metadata": {},
   "source": [
    "FGV - Escola de Matemática Aplicada\n",
    "==\n",
    "Curso de Verão - Introdução à Programação com a Linguagem Python\n",
    "--"
   ]
  },
  {
   "cell_type": "markdown",
   "metadata": {},
   "source": [
    "#### Classes"
   ]
  },
  {
   "cell_type": "code",
   "execution_count": null,
   "metadata": {},
   "outputs": [],
   "source": [
    "class Inutil:\n",
    "    pass"
   ]
  },
  {
   "cell_type": "code",
   "execution_count": null,
   "metadata": {},
   "outputs": [],
   "source": [
    "Inutil"
   ]
  },
  {
   "cell_type": "code",
   "execution_count": null,
   "metadata": {},
   "outputs": [],
   "source": [
    "alguma_instancia = Inutil()"
   ]
  },
  {
   "cell_type": "code",
   "execution_count": null,
   "metadata": {},
   "outputs": [],
   "source": [
    "type(alguma_instancia)"
   ]
  },
  {
   "cell_type": "code",
   "execution_count": null,
   "metadata": {},
   "outputs": [],
   "source": [
    "alguma_instancia"
   ]
  },
  {
   "cell_type": "code",
   "execution_count": null,
   "metadata": {},
   "outputs": [],
   "source": [
    "class MyClass:    \n",
    "    \"\"\"\n",
    "    Aqui eu vou colocar\n",
    "    uma string que define as\n",
    "    principais informações sobre\n",
    "    a classe que estou criando\n",
    "    \"\"\"\n",
    "    \n",
    "    atributo_da_classe = 1234\n",
    "    outro_atributo = 5678\n",
    "    \n",
    "    def metodo_da_classe(self):\n",
    "        return 'Olá povo!'"
   ]
  },
  {
   "cell_type": "code",
   "execution_count": null,
   "metadata": {},
   "outputs": [],
   "source": [
    "x = MyClass()\n",
    "y = MyClass()"
   ]
  },
  {
   "cell_type": "code",
   "execution_count": null,
   "metadata": {},
   "outputs": [],
   "source": [
    "x."
   ]
  },
  {
   "cell_type": "code",
   "execution_count": null,
   "metadata": {},
   "outputs": [],
   "source": [
    "x.atributo_da_classe"
   ]
  },
  {
   "cell_type": "code",
   "execution_count": null,
   "metadata": {},
   "outputs": [],
   "source": [
    "x.outro_atributo"
   ]
  },
  {
   "cell_type": "code",
   "execution_count": null,
   "metadata": {},
   "outputs": [],
   "source": [
    "x.metodo_da_classe"
   ]
  },
  {
   "cell_type": "code",
   "execution_count": null,
   "metadata": {},
   "outputs": [],
   "source": [
    "x.metodo_da_classe()"
   ]
  },
  {
   "cell_type": "code",
   "execution_count": null,
   "metadata": {},
   "outputs": [],
   "source": [
    "x.atributo_da_classe"
   ]
  },
  {
   "cell_type": "code",
   "execution_count": null,
   "metadata": {},
   "outputs": [],
   "source": [
    "x.atributo_da_classe = 4321"
   ]
  },
  {
   "cell_type": "code",
   "execution_count": null,
   "metadata": {},
   "outputs": [],
   "source": [
    "x.atributo_da_classe"
   ]
  },
  {
   "cell_type": "code",
   "execution_count": null,
   "metadata": {},
   "outputs": [],
   "source": [
    "y.atributo_da_classe"
   ]
  },
  {
   "cell_type": "code",
   "execution_count": null,
   "metadata": {},
   "outputs": [],
   "source": [
    "x.atributo_da_classe"
   ]
  },
  {
   "cell_type": "code",
   "execution_count": null,
   "metadata": {},
   "outputs": [],
   "source": [
    "x.novo_atributo = \"qualquer coisa nova\""
   ]
  },
  {
   "cell_type": "code",
   "execution_count": null,
   "metadata": {},
   "outputs": [],
   "source": [
    "type(x)"
   ]
  },
  {
   "cell_type": "code",
   "execution_count": null,
   "metadata": {},
   "outputs": [],
   "source": [
    "z = MyClass()"
   ]
  },
  {
   "cell_type": "code",
   "execution_count": null,
   "metadata": {},
   "outputs": [],
   "source": [
    "z."
   ]
  },
  {
   "cell_type": "code",
   "execution_count": null,
   "metadata": {},
   "outputs": [],
   "source": [
    "class MyComplex:\n",
    "    \n",
    "    def __init__(self, realpart, imagpart):\n",
    "        self.r = realpart\n",
    "        self.i = imagpart"
   ]
  },
  {
   "cell_type": "code",
   "execution_count": null,
   "metadata": {},
   "outputs": [],
   "source": [
    "z = MyComplex(2,-4)\n",
    "j = MyComplex(13,12)"
   ]
  },
  {
   "cell_type": "code",
   "execution_count": null,
   "metadata": {},
   "outputs": [],
   "source": [
    "z.r"
   ]
  },
  {
   "cell_type": "code",
   "execution_count": null,
   "metadata": {},
   "outputs": [],
   "source": [
    "z.i"
   ]
  },
  {
   "cell_type": "code",
   "execution_count": null,
   "metadata": {},
   "outputs": [],
   "source": [
    "z.novo_atributo = 'uma nova coisa'"
   ]
  },
  {
   "cell_type": "code",
   "execution_count": null,
   "metadata": {},
   "outputs": [],
   "source": [
    "z.novo_atributo"
   ]
  },
  {
   "cell_type": "code",
   "execution_count": null,
   "metadata": {},
   "outputs": [],
   "source": []
  },
  {
   "cell_type": "code",
   "execution_count": null,
   "metadata": {},
   "outputs": [],
   "source": [
    "class Retangulo:\n",
    "    cont = 1\n",
    "    \n",
    "    def inverte(self):\n",
    "        self.largura, self.comprimento = self.comprimento, self.largura\n",
    "    \n",
    "    def __init__(self, ladoa, ladob):\n",
    "        self.comprimento = ladoa\n",
    "        self.largura = ladob\n",
    "        self.area = ladoa * ladob\n",
    "        self.perimetro = 2 * (ladoa+ladob)\n",
    "        if self.largura > self.comprimento:\n",
    "            self.inverte()\n",
    "        \n",
    "        Retangulo.cont += 1"
   ]
  },
  {
   "cell_type": "code",
   "execution_count": null,
   "metadata": {},
   "outputs": [],
   "source": [
    "meu_retangulo = Retangulo(10,50)\n",
    "Retangulo.cont"
   ]
  },
  {
   "cell_type": "code",
   "execution_count": null,
   "metadata": {},
   "outputs": [],
   "source": [
    "meu_retangulo.area"
   ]
  },
  {
   "cell_type": "code",
   "execution_count": null,
   "metadata": {},
   "outputs": [],
   "source": [
    "meu_retangulo.largura"
   ]
  },
  {
   "cell_type": "code",
   "execution_count": null,
   "metadata": {},
   "outputs": [],
   "source": [
    "meu_retangulo.inverte()"
   ]
  },
  {
   "cell_type": "code",
   "execution_count": null,
   "metadata": {},
   "outputs": [],
   "source": [
    "meu_retangulo.comprimento"
   ]
  },
  {
   "cell_type": "code",
   "execution_count": null,
   "metadata": {},
   "outputs": [],
   "source": [
    "dir(meu_retangulo)"
   ]
  },
  {
   "cell_type": "code",
   "execution_count": null,
   "metadata": {},
   "outputs": [],
   "source": [
    "meu_retangulo.__repr__"
   ]
  },
  {
   "cell_type": "code",
   "execution_count": null,
   "metadata": {},
   "outputs": [],
   "source": [
    "print(meu_retangulo)"
   ]
  },
  {
   "cell_type": "code",
   "execution_count": null,
   "metadata": {},
   "outputs": [],
   "source": [
    "class NovaClasse:\n",
    "    prop1 = 'texto'"
   ]
  },
  {
   "cell_type": "code",
   "execution_count": null,
   "metadata": {},
   "outputs": [],
   "source": [
    "x = NovaClasse()\n",
    "y = NovaClasse\n",
    "print(type(x))\n",
    "print(type(y))"
   ]
  },
  {
   "cell_type": "code",
   "execution_count": null,
   "metadata": {},
   "outputs": [],
   "source": [
    "print(x.prop1)\n",
    "x.prop1 = 'Mudei'\n",
    "print(x.prop1)"
   ]
  },
  {
   "cell_type": "code",
   "execution_count": null,
   "metadata": {},
   "outputs": [],
   "source": [
    "a = NovaClasse()\n",
    "a.prop1"
   ]
  },
  {
   "cell_type": "code",
   "execution_count": null,
   "metadata": {},
   "outputs": [],
   "source": [
    "y.prop1 = 'mudei definitivamente'"
   ]
  },
  {
   "cell_type": "code",
   "execution_count": null,
   "metadata": {},
   "outputs": [],
   "source": [
    "b = NovaClasse()\n",
    "b.prop1"
   ]
  },
  {
   "cell_type": "code",
   "execution_count": null,
   "metadata": {},
   "outputs": [],
   "source": [
    "x.prop1"
   ]
  },
  {
   "cell_type": "code",
   "execution_count": null,
   "metadata": {},
   "outputs": [],
   "source": [
    "NovaClasse.prop1"
   ]
  },
  {
   "cell_type": "code",
   "execution_count": null,
   "metadata": {},
   "outputs": [],
   "source": [
    "x.prop1"
   ]
  },
  {
   "cell_type": "code",
   "execution_count": null,
   "metadata": {},
   "outputs": [],
   "source": [
    "a.prop1"
   ]
  },
  {
   "cell_type": "code",
   "execution_count": null,
   "metadata": {},
   "outputs": [],
   "source": [
    "c = y()"
   ]
  },
  {
   "cell_type": "code",
   "execution_count": null,
   "metadata": {},
   "outputs": [],
   "source": [
    "c.prop1"
   ]
  },
  {
   "cell_type": "code",
   "execution_count": null,
   "metadata": {},
   "outputs": [],
   "source": [
    "dir(NovaClasse)"
   ]
  },
  {
   "cell_type": "code",
   "execution_count": null,
   "metadata": {},
   "outputs": [],
   "source": [
    "class Dog:\n",
    "    def __init__(self, name, raca='vira lata'):\n",
    "        self.name = name\n",
    "        self.raca = raca\n",
    "        self.tricks = []\n",
    "\n",
    "    def add_trick(self, trick):\n",
    "        if not trick in self.tricks:\n",
    "            self.tricks.append(trick)"
   ]
  },
  {
   "cell_type": "code",
   "execution_count": null,
   "metadata": {},
   "outputs": [],
   "source": [
    "d = Dog('Fido','Pastor Alemao')\n",
    "e = Dog('Buddy','Cocker')\n",
    "f = Dog('Rex')"
   ]
  },
  {
   "cell_type": "code",
   "execution_count": null,
   "metadata": {},
   "outputs": [],
   "source": [
    "d.name"
   ]
  },
  {
   "cell_type": "code",
   "execution_count": null,
   "metadata": {},
   "outputs": [],
   "source": [
    "f.raca"
   ]
  },
  {
   "cell_type": "code",
   "execution_count": null,
   "metadata": {},
   "outputs": [],
   "source": [
    "d.add_trick('Rolar')\n",
    "e.add_trick('Fingir-se de morto')"
   ]
  },
  {
   "cell_type": "code",
   "execution_count": null,
   "metadata": {},
   "outputs": [],
   "source": [
    "d.tricks"
   ]
  },
  {
   "cell_type": "code",
   "execution_count": null,
   "metadata": {},
   "outputs": [],
   "source": [
    "d.add_trick('Pedir Comida')"
   ]
  },
  {
   "cell_type": "code",
   "execution_count": null,
   "metadata": {},
   "outputs": [],
   "source": [
    "d.name"
   ]
  },
  {
   "cell_type": "code",
   "execution_count": null,
   "metadata": {},
   "outputs": [],
   "source": [
    "d.raca"
   ]
  },
  {
   "cell_type": "code",
   "execution_count": null,
   "metadata": {},
   "outputs": [],
   "source": [
    "d.tricks"
   ]
  },
  {
   "cell_type": "code",
   "execution_count": null,
   "metadata": {},
   "outputs": [],
   "source": [
    "e.tricks"
   ]
  },
  {
   "cell_type": "code",
   "execution_count": null,
   "metadata": {},
   "outputs": [],
   "source": [
    "f = Dog('Rex','Doberman')"
   ]
  },
  {
   "cell_type": "code",
   "execution_count": null,
   "metadata": {},
   "outputs": [],
   "source": [
    "f.name"
   ]
  },
  {
   "cell_type": "code",
   "execution_count": null,
   "metadata": {},
   "outputs": [],
   "source": [
    "f.raca"
   ]
  },
  {
   "cell_type": "code",
   "execution_count": null,
   "metadata": {},
   "outputs": [],
   "source": [
    "f.add_trick('Latir para ladroes')\n",
    "f.tricks"
   ]
  },
  {
   "cell_type": "code",
   "execution_count": null,
   "metadata": {},
   "outputs": [],
   "source": [
    "import time\n",
    "class SuperDog(Dog):\n",
    "    \n",
    "    def __init__(self, name, raca):\n",
    "        Dog.__init__(self,name, raca)\n",
    "        self.comida = False\n",
    "        self.adestrado = False\n",
    "        self.ultima_refeicao = time.time()\n",
    "        \n",
    "        \n",
    "    def esta_com_fome(self):\n",
    "        if time.time() - self.ultima_refeicao < 5:\n",
    "            print('Não')\n",
    "        else:\n",
    "            print('Sim, a última refeição foi')\n",
    "            print('há {:.2f} min'.format((time.time() - self.ultima_refeicao)/60))\n",
    "    \n",
    "    def adestra(self):\n",
    "        self.adestrado = True\n",
    "    \n",
    "    def alimenta(self):\n",
    "        self.ultima_refeicao = time.time()"
   ]
  },
  {
   "cell_type": "code",
   "execution_count": null,
   "metadata": {},
   "outputs": [],
   "source": [
    "f = SuperDog('Raghu','Labrador')"
   ]
  },
  {
   "cell_type": "code",
   "execution_count": null,
   "metadata": {},
   "outputs": [],
   "source": [
    "f.esta_com_fome()"
   ]
  },
  {
   "cell_type": "code",
   "execution_count": null,
   "metadata": {},
   "outputs": [],
   "source": [
    "f.esta_com_fome()"
   ]
  },
  {
   "cell_type": "code",
   "execution_count": null,
   "metadata": {},
   "outputs": [],
   "source": [
    "f.alimenta()"
   ]
  },
  {
   "cell_type": "code",
   "execution_count": null,
   "metadata": {},
   "outputs": [],
   "source": [
    "f.esta_com_fome()"
   ]
  },
  {
   "cell_type": "code",
   "execution_count": null,
   "metadata": {},
   "outputs": [],
   "source": [
    "f.tricks"
   ]
  },
  {
   "cell_type": "code",
   "execution_count": null,
   "metadata": {},
   "outputs": [],
   "source": [
    "f.adestrado"
   ]
  },
  {
   "cell_type": "code",
   "execution_count": null,
   "metadata": {},
   "outputs": [],
   "source": [
    "f.adestra()"
   ]
  },
  {
   "cell_type": "code",
   "execution_count": null,
   "metadata": {},
   "outputs": [],
   "source": [
    "f.adestrado"
   ]
  },
  {
   "cell_type": "code",
   "execution_count": null,
   "metadata": {},
   "outputs": [],
   "source": [
    "class Fib:\n",
    "    def __init__(self, maximun):\n",
    "        self.maximun = maximun\n",
    "        \n",
    "    def __iter__(self):\n",
    "        self.a = 0\n",
    "        self.b = 1\n",
    "        return self\n",
    "        \n",
    "    def __next__(self):\n",
    "        res = self.a\n",
    "        if res > self.maximun:\n",
    "            raise StopIteration\n",
    "        \n",
    "        (self.a, self.b) = (self.b, self.a + self.b)\n",
    "        return res"
   ]
  },
  {
   "cell_type": "code",
   "execution_count": null,
   "metadata": {},
   "outputs": [],
   "source": [
    "fibon = Fib(100)\n",
    "for i in fibon:\n",
    "    print(i)"
   ]
  },
  {
   "cell_type": "code",
   "execution_count": null,
   "metadata": {},
   "outputs": [],
   "source": [
    "import random\n",
    "class aleatorio:\n",
    "    def __init__(self, maximo):\n",
    "        self.maximo = maximo\n",
    "        \n",
    "    def __iter__(self):\n",
    "        self.cont = 0\n",
    "        return self\n",
    "    \n",
    "    def __next__(self):\n",
    "        self.cont += 1\n",
    "        \n",
    "        valor = random.random()\n",
    "        if self.cont > self.maximo:\n",
    "            raise StopIteration\n",
    "            \n",
    "        return valor"
   ]
  },
  {
   "cell_type": "code",
   "execution_count": null,
   "metadata": {},
   "outputs": [],
   "source": [
    "rand = aleatorio(10)\n",
    "for i in rand:\n",
    "    print(i)"
   ]
  },
  {
   "cell_type": "code",
   "execution_count": null,
   "metadata": {},
   "outputs": [],
   "source": [
    "dado = []\n",
    "for i in range(1, 20):\n",
    "    dado.append(i)\n",
    "    dado.append(20)\n",
    "    \n",
    "cont = 0\n",
    "for i in range(1000):\n",
    "    num = random.choice(dado)\n",
    "    if num == 20: cont += 1\n",
    "        \n",
    "print(cont)"
   ]
  },
  {
   "cell_type": "code",
   "execution_count": null,
   "metadata": {},
   "outputs": [],
   "source": [
    "cores = ['azul', 'azul', 'vermelho', 'preto']\n",
    "    \n",
    "cont = 0\n",
    "for i in range(1000):\n",
    "    cor = random.choice(cores)\n",
    "    if cor == 'azul': cont += 1\n",
    "        \n",
    "print(cont)"
   ]
  },
  {
   "cell_type": "markdown",
   "metadata": {},
   "source": [
    "Exercício com Classes:  \n",
    "Crie uma classe \"Automovel\", com propriedades:  \n",
    "- Modelo (atributo) --> O modelo do Automovel  \n",
    "- Autonomia (método)  --> Deve retornar quantos km ele pode andar  \n",
    "- Nível do tanque (método e atributo) --> Deve retornar o número de litros do tanque  \n",
    "- Capacidade do tanque (Atributo) --> Quantidade de litros do tanque \"cheio\", capacidade máxima    \n",
    "- Consumo (atributo) --> Um valor representando o consumo em km por litro  \n",
    "- Abastece (método) --> Acrescenta um numero de litros de combustível ao tanque, até, no máximo, sua capacidade  \n",
    "- Anda (método) --> Faz o automóvel andar um número específico de km  \n",
    "- Odometro --> (atributo) Retorna o número total de km andados  \n",
    "- Odometro parcial (atributo) --> Retorna o número de km andados desde o ultimo abastecimento  "
   ]
  },
  {
   "cell_type": "code",
   "execution_count": null,
   "metadata": {},
   "outputs": [],
   "source": [
    "class Auto:\n",
    "    def __init__(self, modelo, consumo, capacidade_tanque):\n",
    "        self.modelo = modelo\n",
    "        self.consumo = consumo\n",
    "        self.capacidade_tanque = capacidade_tanque\n",
    "        self.odometro = 0\n",
    "        self.odometro_parcial = 0\n",
    "        self.combustivel = 0\n",
    "        \n",
    "    def anda(self,km):\n",
    "        if km/self.consumo < self.combustivel:\n",
    "            self.combustivel -= (km/self.consumo)\n",
    "            self.odometro += km\n",
    "            self.odometro_parcial += km\n",
    "        else:\n",
    "            print('Você só pode andar {0:.2f} Km'.format(self.autonomia()))\n",
    "\n",
    "    def abastece(self, litros):\n",
    "        self.falta = self.capacidade_tanque - self.combustivel\n",
    "        if litros > self.falta:\n",
    "            print('Você só pode abastecer {0:.2f} litros'.format(self.falta))\n",
    "        else:\n",
    "            self.odometro_parcial = 0\n",
    "            self.combustivel += litros\n",
    "            print('Abastecemos {0:.2f} litros'.format(litros))\n",
    "            print('Tanque possui {0:.2f} litros'.format(self.combustivel))\n",
    "\n",
    "    def autonomia(self):\n",
    "        self.atnm = self.combustivel*self.consumo\n",
    "        print('A autonomia é de {0:.2f} Km'.format(self.atnm))\n",
    "        return self.atnm\n",
    "    \n",
    "    def nivel_tanque(self):\n",
    "        print('O tanque contém {0:.2f} litros'.format(self.combustivel))\n",
    "    \n",
    "    def mostra_odometro(self):\n",
    "        print('Odômetro parcial: {0:.2f}'.format(self.odometro_parcial))\n",
    "        print('Odômetro total: {0:.2f}'.format(self.odometro))"
   ]
  },
  {
   "cell_type": "code",
   "execution_count": null,
   "metadata": {},
   "outputs": [],
   "source": [
    "meucarro = Auto('Nissam',9,40)"
   ]
  },
  {
   "cell_type": "code",
   "execution_count": null,
   "metadata": {},
   "outputs": [],
   "source": [
    "meucarro.anda(240)"
   ]
  },
  {
   "cell_type": "code",
   "execution_count": null,
   "metadata": {},
   "outputs": [],
   "source": [
    "meucarro.abastece(20)"
   ]
  },
  {
   "cell_type": "code",
   "execution_count": null,
   "metadata": {},
   "outputs": [],
   "source": [
    "meucarro.autonomia()"
   ]
  },
  {
   "cell_type": "code",
   "execution_count": null,
   "metadata": {},
   "outputs": [],
   "source": [
    "meucarro.anda(240)"
   ]
  },
  {
   "cell_type": "code",
   "execution_count": null,
   "metadata": {},
   "outputs": [],
   "source": [
    "meucarro.anda(100)"
   ]
  },
  {
   "cell_type": "code",
   "execution_count": null,
   "metadata": {},
   "outputs": [],
   "source": [
    "meucarro.mostra_odometro()"
   ]
  },
  {
   "cell_type": "code",
   "execution_count": null,
   "metadata": {},
   "outputs": [],
   "source": [
    "meucarro.abastece(20)"
   ]
  },
  {
   "cell_type": "code",
   "execution_count": null,
   "metadata": {},
   "outputs": [],
   "source": [
    "meucarro.autonomia()"
   ]
  },
  {
   "cell_type": "code",
   "execution_count": null,
   "metadata": {},
   "outputs": [],
   "source": [
    "meucarro.mostra_odometro()"
   ]
  },
  {
   "cell_type": "code",
   "execution_count": null,
   "metadata": {},
   "outputs": [],
   "source": [
    "class triangulo():\n",
    "    def __init__(self, side1, side2, side3):\n",
    "        self.side1 = side1\n",
    "        self.side2 = side2\n",
    "        self.side3 = side3\n",
    "        \n",
    "    def tipo(self):\n",
    "        if   self.side1 == self.side2 and \\\n",
    "             self.side2 == self.side3:\n",
    "            return 'equilatero'\n",
    "        \n",
    "        elif self.side1 != self.side2 and \\\n",
    "             self.side1 != self.side3 and \\\n",
    "             self.side3 != self.side2:\n",
    "            return 'escaleno'\n",
    "        \n",
    "        else:\n",
    "            return 'isosceles'"
   ]
  },
  {
   "cell_type": "code",
   "execution_count": null,
   "metadata": {},
   "outputs": [],
   "source": []
  },
  {
   "cell_type": "code",
   "execution_count": 7,
   "metadata": {},
   "outputs": [],
   "source": [
    "class Automovel():\n",
    "    def __init__(self, modelo, autonomia, tanquecapac, consumo, cor = 'preto'):\n",
    "        self.modelo = modelo\n",
    "        self.autonomia = autonomia\n",
    "        self.cor = cor\n",
    "        \n",
    "        self.tanquenivel = tanquecapac\n",
    "        self.tanquecapac = tanquecapac\n",
    "        \n",
    "        self.odometro = 0\n",
    "        self.odometrop = 0\n",
    "        \n",
    "    def autonomia(self):\n",
    "        return self.autonomia\n",
    "    \n",
    "    def tanquenivel(self):\n",
    "        return self.tanque\n",
    "    \n",
    "    def tanquecapac(self):\n",
    "        return self.tanquecapac\n",
    "    \n",
    "    def abastece(self):\n",
    "        self.odometrop = 0\n",
    "        self.tanquenivel = self.tanquecapac\n",
    "        \n",
    "    def andar(self, lenght):\n",
    "        self.odometro  += lenght\n",
    "        self.odometrop += lenght\n",
    "        \n",
    "        self.tanquenivel -= self.consumo*self.lenght\n",
    "        \n",
    "    def pinta(self, cor = 'preto'):\n",
    "        self.cor = cor"
   ]
  },
  {
   "cell_type": "code",
   "execution_count": 16,
   "metadata": {},
   "outputs": [],
   "source": [
    "class Tanque(Automovel):\n",
    "    def __init__(self, autonomia, tanquecapac, consumo):\n",
    "        Automovel.__init__(self, 'tanque', autonomia, tanquecapac, consumo, cor = 'camuflado')\n",
    "        \n",
    "    def atira(self):\n",
    "        print('Boom!!')    "
   ]
  },
  {
   "cell_type": "code",
   "execution_count": 17,
   "metadata": {},
   "outputs": [],
   "source": [
    "tan = Tanque(10000, 1000, 1)"
   ]
  },
  {
   "cell_type": "code",
   "execution_count": 18,
   "metadata": {},
   "outputs": [
    {
     "name": "stdout",
     "output_type": "stream",
     "text": [
      "Boom!!\n"
     ]
    }
   ],
   "source": [
    "tan.atira()"
   ]
  },
  {
   "cell_type": "code",
   "execution_count": null,
   "metadata": {},
   "outputs": [],
   "source": []
  },
  {
   "cell_type": "code",
   "execution_count": null,
   "metadata": {},
   "outputs": [],
   "source": []
  },
  {
   "cell_type": "code",
   "execution_count": null,
   "metadata": {},
   "outputs": [],
   "source": []
  },
  {
   "cell_type": "code",
   "execution_count": null,
   "metadata": {},
   "outputs": [],
   "source": []
  }
 ],
 "metadata": {
  "kernelspec": {
   "display_name": "Python 3",
   "language": "python",
   "name": "python3"
  },
  "language_info": {
   "codemirror_mode": {
    "name": "ipython",
    "version": 3
   },
   "file_extension": ".py",
   "mimetype": "text/x-python",
   "name": "python",
   "nbconvert_exporter": "python",
   "pygments_lexer": "ipython3",
   "version": "3.5.2"
  }
 },
 "nbformat": 4,
 "nbformat_minor": 1
}
