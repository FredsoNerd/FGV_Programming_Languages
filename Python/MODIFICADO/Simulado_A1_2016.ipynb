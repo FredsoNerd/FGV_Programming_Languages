{
 "cells": [
  {
   "cell_type": "markdown",
   "metadata": {},
   "source": [
    "Introdução à computação – 13/06/2016\n",
    "--\n",
    "Professor: Renato Rocha Souza  \n",
    "--"
   ]
  },
  {
   "cell_type": "markdown",
   "metadata": {},
   "source": [
    "Nome do Aluno(a):"
   ]
  },
  {
   "cell_type": "code",
   "execution_count": null,
   "metadata": {},
   "outputs": [],
   "source": [
    "meu_nome = input('Entre com o seu nome completo: ')\n",
    "print('Olá, {}!'.format(meu_nome))\n",
    "print('Bom trabalho!')"
   ]
  },
  {
   "cell_type": "code",
   "execution_count": 40,
   "metadata": {},
   "outputs": [],
   "source": [
    "# Somente estes módulos podem ser importados para a realização das questões\n",
    "import numpy as np\n",
    "import matplotlib.pyplot as plt\n",
    "import requests\n",
    "from bs4 import BeautifulSoup as bs\n",
    "%matplotlib inline"
   ]
  },
  {
   "cell_type": "markdown",
   "metadata": {},
   "source": [
    "Questão 1 (1,5 pontos)  \n",
    "\n",
    "Mostre graficamente que $ \\sin ^2 x + \\cos^2 x = 1. $  \n",
    "\n",
    "Dica: para melhor visualização do gráfico, mude a escala dos eixos com $plt.axis([x_{min},x_{max},y_{min},y_{max}])$"
   ]
  },
  {
   "cell_type": "code",
   "execution_count": null,
   "metadata": {},
   "outputs": [],
   "source": [
    "x = np.linspace(0, 4*np.pi)\n",
    "\n",
    "plt.plot(np.sin(x))\n",
    "plt.plot(np.cos(x))\n",
    "plt.plot(np.sin(x)**2 + np.cos(x)**2)"
   ]
  },
  {
   "cell_type": "markdown",
   "metadata": {},
   "source": [
    "Questão 2 (2.5 pontos)  \n",
    "\n",
    "Partindo do código abaixo, escreva comandos para realizar as seguintes tarefas:\n",
    "- Identificar os candidatos a nomes próprios do texto e a frequência com que aparecem;\n",
    "- Identificar as 5 palavras mais comuns;\n",
    "- Identificar os tritongos;\n",
    "- Salvar os resultados em um arquivo chamado \"respostas_q2.txt\" no computador"
   ]
  },
  {
   "cell_type": "code",
   "execution_count": null,
   "metadata": {},
   "outputs": [],
   "source": [
    "'''url = 'http://norvig.com/big.txt'\n",
    "page = requests.get(url)\n",
    "html = page.text\n",
    "sopa = bs(html, \"lxml\")\n",
    "texto = sopa.text'''\n",
    "\n",
    "texto  = 'Lorem ipsum dolor sit amet, aei consectetur adipiscing elit. Pellentesque eleifend laoreet viverra. Suspendisse hendrerit ex et fringilla lobortis. Maecenas ac condimentum massa, ut semper massa. Vivamus pellentesque tortor vel libero pulvinar, eget convallis urna aliquam. Praesent ut augue urna. Vestibulum quis sodales lectus. Nam posuere odio quis tellus hendrerit, id vestibulum lectus lacinia. Cras ultricies semper laoreet. Integer sit amet diam sed erat tincidunt blandit. Donec tincidunt dictum arcu, eget lacinia arcu ornare a. Duis ornare quis nulla vitae venenatis. Vestibulum ac erat mauris. Aenean eget hendrerit felis.'\n",
    "texto += 'Vestibulum risus massa, mollis eu cursus non, suscipit sit amet metus. Suspendisse accumsan ex eget dapibus mollis. Praesent et euismod lorem. Fusce eget lacinia dui. Morbi euismod metus enim, non commodo tellus viverra id. Vestibulum non nulla diam. Duis malesuada congue viverra. Vestibulum sed malesuada erat. Curabitur est tellus, molestie non risus id, porttitor varius elit. Curabitur a facilisis ex. Integer sed sem fermentum risus luctus facilisis vitae eget odio. Nulla consequat erat ac eros dapibus facilisis. Donec eu maximus orci, a lobortis quam. Sed convallis magna eu augue sodales, quis suscipit justo ultrices. Etiam vehicula tempus arcu, eget rhoncus urna iaculis sed.'"
   ]
  },
  {
   "cell_type": "code",
   "execution_count": null,
   "metadata": {},
   "outputs": [],
   "source": [
    "textolim = texto.replace(string.punctuation, '')\n",
    "textocor = textolim.split()\n",
    "textolow = textolim.lower().split()\n",
    "palavras = set(textolow)\n",
    "\n",
    "# CANDIDATOS A NOMES\n",
    "nomes = {wrd for wrd in textocor if wrd[0].isupper()}\n",
    "\n",
    "# PALAVRAS MAIS COMUNS\n",
    "dicfr = {wrd:textolow.count(wrd) for wrd in palavras}\n",
    "ordem = list(palavras)\n",
    "\n",
    "teste = 1\n",
    "heigh = len(ordem)\n",
    "while teste:\n",
    "    teste = 0\n",
    "    for i in range(1, heigh):\n",
    "        freqpal  = dicfr[ordem[i]]\n",
    "        freqant = dicfr[ordem[i - 1]]\n",
    "        \n",
    "        if freqpal > freqant:\n",
    "            aux = ordem[i]\n",
    "            ordem[i] = ordem[i-1]\n",
    "            ordem[i-1] = aux\n",
    "            \n",
    "            teste = 1\n",
    "    heigh -= 1\n",
    "freq5 = ordem[0:5]\n",
    "\n",
    "# TRITONGOS\n",
    "vogais = {'a', 'e', 'i', 'o', 'u'}\n",
    "istri = lambda lista: (lista.issubset(vogais))\n",
    "trito = {textolim[i:i+3] for i in range(len(textolimpo)-2) if istri(set(textolim[i:i+3]))}\n",
    "\n",
    "\n",
    "\n",
    "# salva em arquivo\n",
    "writer = open('respostas_q2.txt', 'a')\n",
    "              \n",
    "writer.write('Nomes: ' + str(nomes) + '\\n')\n",
    "writer.write('Frequentes: ' + str(freq5) + '\\n')\n",
    "writer.write('Tritongos: ' + str(trito) + '\\n')\n",
    "writer.close()"
   ]
  },
  {
   "cell_type": "markdown",
   "metadata": {},
   "source": [
    "Questão 3 (3 pontos)  \n",
    "\n",
    "Uma permutação é um arranjo ordenado de objetos. Por exemplo, $ 3124 \\ $ é uma das possíveis permutações dos dígitos $1, 2, 3$ e $4$. Se todas as permutações são ordenadas numericamente, chamamos a este arranjo de ordem lexicográfica. As permutações lexicográficas de $0, 1$ e $2$ são:  \n",
    "\n",
    "$012\\;021\\;102\\;120\\;201\\;210$    \n",
    "\n",
    "Qual o milionésimo elemento da ordenação lexicográfica dos dígitos $0, 1, 2, 3, 4, 5, 6, 7, 8$ e $9$?   "
   ]
  },
  {
   "cell_type": "code",
   "execution_count": 42,
   "metadata": {},
   "outputs": [
    {
     "name": "stdout",
     "output_type": "stream",
     "text": [
      "2783915460\n"
     ]
    }
   ],
   "source": [
    "#seu código aqui\n",
    "\n",
    "valores = list(range(10))\n",
    "\n",
    "def gerador(lista):\n",
    "    if len(lista) == 0: yield ''\n",
    "    else:\n",
    "        for i in lista:\n",
    "            listac = lista.copy()\n",
    "            listac.remove(i)\n",
    "            listac.sort()\n",
    "                 \n",
    "            gen = gerador(listac)\n",
    "            for u in gen:\n",
    "                yield str(i) + u\n",
    "\n",
    "cont = 1000000\n",
    "aux = '0'\n",
    "gen = gerador(valores)\n",
    "while cont > 0:\n",
    "    aux = next(gen)\n",
    "    # print(aux)\n",
    "    \n",
    "    cont -= 1\n",
    "    \n",
    "print(aux)"
   ]
  },
  {
   "cell_type": "code",
   "execution_count": null,
   "metadata": {},
   "outputs": [],
   "source": []
  },
  {
   "cell_type": "markdown",
   "metadata": {
    "collapsed": true
   },
   "source": [
    "Questão 4 (3 pontos) \n",
    "\n",
    "Implemente em Python uma classe chamada “Drone” com as seguintes propriedades:  \n",
    "- Quando instanciado, tem bateria carregada e está na posição $(x=0,y=0,z=0)$ metros;  \n",
    "- Possui bateria para duração 20 minutos;  \n",
    "- Consegue andar 1 m/s na vertical e 2 m/s na horizontal;  \n",
    "- Possui o metodo “voar”, que recebe uma coordenada de destino $(x_1,y_1)$. Esse método calcula a distância a navegar e avalia se o drone possui energia para chegar nestas coordenadas.  \n",
    "- Possui métodos para carregar a bateria, dizer a autonomia da bateria (em segundos), dizer a distância percorrida desde a última carga e a distância total percorrida desde que foi instanciado.  \n",
    "- Possui um método para dizer a coordenada atual\n",
    "\n",
    "OBS: Considere que o drone sempre ascende verticalmente até 20m antes de se deslocar horizontalmente, e percorre a mesma distância verticalmente. A distância percorrida na horizontal é o menor caminho entre as coordenadas de origem e destino. Use a fórmula: $$distância = \\sqrt{(x_1-x_0)^2 + (y_1-y_0)^2}$$"
   ]
  },
  {
   "cell_type": "code",
   "execution_count": null,
   "metadata": {},
   "outputs": [],
   "source": [
    "class Drone:\n",
    "    def __init__(self):\n",
    "        self.x = 0\n",
    "        self.y = 0\n",
    "        self.z = 0\n",
    "        self.bateria = 20 * 60\n",
    "        self.odometro_total = 0 \n",
    "        self.odometro_parcial = 0\n",
    "        \n",
    "    def mostra_carga(self):\n",
    "        print('A Carga da bateria atual é de {:.3f} segundos de vôo'.format(self.bateria))\n",
    "        \n",
    "    def carrega_bateria(self):\n",
    "        self.mostra_carga()\n",
    "        print('Bateria sendo carregada...')\n",
    "        self.bateria = 20 * 60\n",
    "        self.odometro_parcial = 0\n",
    "    \n",
    "    def mostra_coordenada(self):\n",
    "        print('O Drone se encontra em: \\nX:\\t{}\\nY:\\t{}\\nZ:\\t{}'.format(self.x, self.y, self.z))\n",
    "        print('O Drone andou {:.3f} metros no total'.format(self.odometro_total))\n",
    "        print('O Drone andou {:.3f} mestros desde a última carga'.format(self.odometro_parcial))\n",
    "    \n",
    "    def voar_para(self,x,y):\n",
    "        distancia = ((x-self.x)**2 + (y-self.y)**2)**0.5\n",
    "        tempo_de_voo = 20 + distancia/2 + 20\n",
    "        print('O tempo de vôo estimado é de {:.3f} segundos'.format(tempo_de_voo))\n",
    "        if self.bateria >= tempo_de_voo:\n",
    "            print('Voando...')\n",
    "            self.x = x\n",
    "            self.y = y\n",
    "            self.bateria -= tempo_de_voo\n",
    "            self.odometro_total += distancia\n",
    "            self.odometro_parcial += distancia\n",
    "            self.mostra_coordenada()\n",
    "        else:\n",
    "            print('A bateria só tem autonomia para {:.3f} segundos de vôo'.format(self.bateria))\n"
   ]
  },
  {
   "cell_type": "code",
   "execution_count": 63,
   "metadata": {},
   "outputs": [],
   "source": [
    "class Drone:\n",
    "    \n",
    "    \n",
    "    def __init__(self):\n",
    "        self.axis = [0, 0, 0]\n",
    "        self.btry = 20 * 60\n",
    "        \n",
    "        self.dist = 0\n",
    "        self.disc = 0\n",
    "    \n",
    "    def carrega_bateria(self):\n",
    "        self.btry = 20 * 60\n",
    "        self.disc = 0\n",
    "        \n",
    "    def mostra_carga(self):\n",
    "        print('o Drone tem {}s de autonomia'.format(self.btry))\n",
    "        \n",
    "    def distancia_total(self):\n",
    "        print('A distancia total percorrida é {}m'.format(self.dist))\n",
    "        \n",
    "    def distancia_parcial(self):\n",
    "        print('A distancia percorrida desde o abastecimento é {}m'.format(self.dist))\n",
    "        \n",
    "    def mostra_coordenada(self):\n",
    "        print('O drone se encontra em {}'.format(self.axis))\n",
    "        \n",
    "    def voar_para(self, x, y):\n",
    "        distance = ((self.axis[0] - x)**2 + (self.axis[1] - y)**2)**(1/2)\n",
    "        \n",
    "        # considero o tempo de subida e descida\n",
    "        tempo = distance/2 + 20 + 20\n",
    "        \n",
    "        if tempo > self.btry:\n",
    "            print('O drone não possui a autonomia necessaria.')\n",
    "            \n",
    "        else:\n",
    "            print('O tempo de viagem será de {}s'.format(tempo))\n",
    "            self.btry -= tempo\n",
    "            self.dist += distance\n",
    "            self.disc += distance\n",
    "            axis = [x, y, 0]"
   ]
  },
  {
   "cell_type": "code",
   "execution_count": 64,
   "metadata": {},
   "outputs": [],
   "source": [
    "my_drone = Drone()"
   ]
  },
  {
   "cell_type": "code",
   "execution_count": 65,
   "metadata": {},
   "outputs": [
    {
     "name": "stdout",
     "output_type": "stream",
     "text": [
      "O drone se encontra em [0, 0, 0]\n"
     ]
    }
   ],
   "source": [
    "my_drone.mostra_coordenada()"
   ]
  },
  {
   "cell_type": "code",
   "execution_count": 66,
   "metadata": {},
   "outputs": [
    {
     "name": "stdout",
     "output_type": "stream",
     "text": [
      "O tempo de viagem será de 67.04163456597992s\n"
     ]
    }
   ],
   "source": [
    "my_drone.voar_para(30,45)"
   ]
  },
  {
   "cell_type": "code",
   "execution_count": 67,
   "metadata": {},
   "outputs": [
    {
     "name": "stdout",
     "output_type": "stream",
     "text": [
      "o Drone tem 1132.9583654340202s de autonomia\n"
     ]
    }
   ],
   "source": [
    "my_drone.mostra_carga()"
   ]
  },
  {
   "cell_type": "code",
   "execution_count": 68,
   "metadata": {},
   "outputs": [
    {
     "name": "stdout",
     "output_type": "stream",
     "text": [
      "O tempo de viagem será de 1040.012499921876s\n"
     ]
    }
   ],
   "source": [
    "my_drone.voar_para(10,2000)"
   ]
  },
  {
   "cell_type": "code",
   "execution_count": 69,
   "metadata": {},
   "outputs": [],
   "source": [
    "my_drone.carrega_bateria()"
   ]
  },
  {
   "cell_type": "markdown",
   "metadata": {
    "collapsed": true
   },
   "source": [
    "Questão Bônus (0,5 pontos)  \n",
    "\n",
    "O problema de Monty Hall, também conhecido por paradoxo de Monty Hall é um problema matemático e paradoxo que surgiu a partir de um concurso televisivo dos Estados Unidos chamado \"Let’s Make a Deal\", exibido na década de 1970. O jogo consiste no seguinte: Monty Hall (o apresentador) apresentava 3 portas aos concorrentes, sabendo que atrás de uma delas está um carro (prêmio bom) e que as outras têm prêmios de pouco valor.\n",
    "\n",
    "- Na 1ª etapa o concorrente escolhe uma porta (que ainda não é aberta);  \n",
    "- Em seguida, Monty abre uma das outras duas portas que o concorrente não escolheu, sabendo de antemão que o carro não se encontra na porta que abrirá;  \n",
    "- Agora com duas portas apenas para escolher — pois uma delas já se viu, na 2ª etapa, que não tinha o prêmio — e sabendo que o carro está atrás de uma delas, o concorrente tem que se decidir se permanece com a porta que escolheu no início do jogo e abre-a ou se muda para a outra porta que ainda está fechada para então a abrir.  \n",
    "\n",
    "Demonstre graficamente que é mais provável ganhar o prêmio se trocar de porta do que se não o fizer. Quais as probabilidade de acertar, em ambos os casos?"
   ]
  },
  {
   "cell_type": "code",
   "execution_count": null,
   "metadata": {},
   "outputs": [],
   "source": [
    "#seu código aqui\n",
    "\n"
   ]
  },
  {
   "cell_type": "markdown",
   "metadata": {},
   "source": [
    "Auto-avaliação (0,5 pontos)  \n",
    "Escreva sua auto-avaliação (mínimo de 3 linhas) e atribua a esta um valor entre 0 e 0,5, levando em consideração o aproveitamento na disciplina.  "
   ]
  },
  {
   "cell_type": "code",
   "execution_count": null,
   "metadata": {},
   "outputs": [],
   "source": []
  }
 ],
 "metadata": {
  "kernelspec": {
   "display_name": "Python 3",
   "language": "python",
   "name": "python3"
  },
  "language_info": {
   "codemirror_mode": {
    "name": "ipython",
    "version": 3
   },
   "file_extension": ".py",
   "mimetype": "text/x-python",
   "name": "python",
   "nbconvert_exporter": "python",
   "pygments_lexer": "ipython3",
   "version": "3.5.2"
  }
 },
 "nbformat": 4,
 "nbformat_minor": 1
}
