{
 "cells": [
  {
   "cell_type": "markdown",
   "metadata": {},
   "source": [
    "A1 de Linguagens de Programação – 28/09/2017\n",
    "--\n",
    "Professor: Renato Rocha Souza  \n",
    "--"
   ]
  },
  {
   "cell_type": "markdown",
   "metadata": {},
   "source": [
    "Nome do Aluno(a):"
   ]
  },
  {
   "cell_type": "code",
   "execution_count": 2,
   "metadata": {},
   "outputs": [
    {
     "name": "stdout",
     "output_type": "stream",
     "text": [
      "Entre com o seu nome completo: Fredson Silva de Souza Aguiar\n",
      "Olá, Fredson Silva de Souza Aguiar!\n",
      "Bom trabalho!\n"
     ]
    }
   ],
   "source": [
    "meu_nome = input('Entre com o seu nome completo: ')\n",
    "print('Olá, {}!'.format(meu_nome))\n",
    "print('Bom trabalho!')"
   ]
  },
  {
   "cell_type": "code",
   "execution_count": 3,
   "metadata": {},
   "outputs": [],
   "source": [
    "# Somente estes módulos podem ser importados para a realização das questões\n",
    "import numpy as np\n",
    "import matplotlib.pyplot as plt\n",
    "import requests\n",
    "import random\n",
    "import re\n",
    "import string\n",
    "import time\n",
    "from bs4 import BeautifulSoup as bs\n",
    "from IPython.display import clear_output\n",
    "%matplotlib inline"
   ]
  },
  {
   "cell_type": "markdown",
   "metadata": {},
   "source": [
    "Questão 1 (1,5 pontos)  \n",
    "\n",
    "\n",
    "Mostre graficamente (usando matplotlib) que as funções:  \n",
    "$ y = 2x^2 - 10x -32$  \n",
    "e  \n",
    "$ y = 2x^3 - 12x^2 +4x +2$  \n",
    "possuem, respectivamente, 2 e 3 raízes reais e distintas.  "
   ]
  },
  {
   "cell_type": "code",
   "execution_count": 11,
   "metadata": {},
   "outputs": [
    {
     "data": {
      "image/png": "[encoded data removed]",
      "text/plain": [
       "<Figure size 432x288 with 1 Axes>"
      ]
     },
     "metadata": {},
     "output_type": "display_data"
    },
    {
     "data": {
      "image/png": "[encoded data removed]",
      "text/plain": [
       "<Figure size 432x288 with 1 Axes>"
      ]
     },
     "metadata": {},
     "output_type": "display_data"
    }
   ],
   "source": [
    "x = np.linspace(-10, 10)\n",
    "\n",
    "func_a = 2*x**2 - 10*x - 32\n",
    "func_b = 2*x**3 - 12*x + 4*x + 2\n",
    "x_axis = 0*x\n",
    "\n",
    "plt.plot(x,func_a)\n",
    "plt.plot(x,x_axis)\n",
    "#plt.axis([-5,10,-50,50])\n",
    "plt.show()\n",
    "\n",
    "plt.plot(x,func_b)\n",
    "plt.plot(x,x_axis)\n",
    "plt.axis([-5,5,-50,50])\n",
    "plt.show()"
   ]
  },
  {
   "cell_type": "code",
   "execution_count": null,
   "metadata": {},
   "outputs": [],
   "source": []
  },
  {
   "cell_type": "markdown",
   "metadata": {},
   "source": [
    "Questão 2 (2.5 pontos)  \n",
    "\n",
    "Partindo do código abaixo, escreva comandos para realizar as seguintes tarefas:\n",
    "- Identificar as 10 palavras mais frequentes, independente de possuírem letras maiúsculas ou minúsculas;\n",
    "- Identificar os trechos em que há uma citação de fala de personagens (entre aspas);\n",
    "- Identificar as 5 letras mais comuns no final de palavras;\n",
    "- Salvar os resultados em um arquivo chamado \"respostas_q2.txt\" no computador"
   ]
  },
  {
   "cell_type": "code",
   "execution_count": 14,
   "metadata": {},
   "outputs": [],
   "source": [
    "url = 'http://www.releituras.com/guimarosa_margem.asp'\n",
    "page = requests.get(url)\n",
    "html = page.text\n",
    "sopa = bs(html, \"lxml\")\n",
    "texto = sopa.text"
   ]
  },
  {
   "cell_type": "code",
   "execution_count": 51,
   "metadata": {},
   "outputs": [],
   "source": [
    "import string\n",
    "\n",
    "texto = '''\n",
    "\"Nosso pai era homem cumpridor, ordeiro, positivo\"; e sido assim desde mocinho e menino, pelo que testemunharam as diversas sensatas pessoas, quando indaguei a informação. Do que eu mesmo me alembro, ele não figurava mais estúrdio nem mais triste do que os outros, conhecidos nossos. Só quieto. Nossa mãe era quem regia, e que ralhava no diário com a gente — minha irmã, meu irmão e eu. Mas se deu que, certo dia, nosso pai mandou fazer para si uma canoa.\n",
    "\n",
    "Era a sério. Encomendou a canoa especial, de pau de vinhático, pequena, mal com a tabuinha da popa, como para caber justo o remador. Mas teve de ser toda fabricada, escolhida forte e arqueada em rijo, própria para dever durar na água por uns vinte ou trinta anos. Nossa mãe jurou muito contra a idéia. Seria que, ele, que nessas artes não vadiava, se ia propor agora para pescarias e caçadas? Nosso pai nada não dizia. Nossa casa, no tempo, ainda era mais próxima do rio, obra de nem quarto de légua: o rio por aí se estendendo grande, fundo, calado que sempre. Largo, de não se poder ver a forma da outra beira. E esquecer não posso, do dia em que a canoa ficou pronta.\n",
    "\n",
    "Sem alegria nem cuidado, nosso pai encalcou o chapéu e decidiu um adeus para a gente. Nem falou outras palavras, não pegou matula e trouxa, não fez a alguma recomendação. Nossa mãe, a gente achou que ela ia esbravejar, mas persistiu somente alva de pálida, mascou o beiço e bramou: — “Cê vai, ocê fique, você nunca volte!” Nosso pai suspendeu a resposta. Espiou manso para mim, me acenando de vir também, por uns passos. Temi a ira de nossa mãe, mas obedeci, de vez de jeito. O rumo daquilo me animava, chega que um propósito perguntei: — “Pai, o senhor me leva junto, nessa sua canoa?” Ele só retornou o olhar em mim, e me botou a bênção, com gesto me mandando para trás. Fiz que vim, mas ainda virei, na grota do mato, para saber. Nosso pai entrou na canoa e desamarrou, pelo remar. E a canoa saiu se indo — a sombra dela por igual, feito um jacaré, comprida longa.\n",
    "\n",
    "Nosso pai não voltou. Ele não tinha ido a nenhuma parte. Só executava a invenção de se permanecer naqueles espaços do rio, de meio a meio, sempre dentro da canoa, para dela não saltar, nunca mais. A estranheza dessa verdade deu para. estarrecer de todo a gente. Aquilo que não havia, acontecia. Os parentes, vizinhos e conhecidos nossos, se reuniram, tomaram juntamente conselho.\n",
    "\n",
    "Nossa mãe, vergonhosa, se portou com muita cordura; por isso, todos pensaram de nosso pai a razão em que não queriam falar: doideira. Só uns achavam o entanto de poder também ser pagamento de promessa; ou que, nosso pai, quem sabe, por escrúpulo de estar com alguma feia doença, que seja, a lepra, se desertava para outra sina de existir, perto e longe de sua família dele. As vozes das notícias se dando pelas certas pessoas — passadores, moradores das beiras, até do afastado da outra banda — descrevendo que nosso pai nunca se surgia a tomar terra, em ponto nem canto, de dia nem de noite, da forma como cursava no rio, solto solitariamente. Então, pois, nossa mãe e os aparentados nossos, assentaram: que o mantimento que tivesse, ocultado na canoa, se gastava; e, ele, ou desembarcava e viajava s’embora, para jamais, o que ao menos se condizia mais correto, ou se arrependia, por uma vez, para casa.\n",
    "\n",
    "No que num engano. Eu mesmo cumpria de trazer para ele, cada dia, um tanto de comida furtada: a idéia que senti, logo na primeira noite, quando o pessoal nosso experimentou de acender fogueiras em beirada do rio, enquanto que, no alumiado delas, se rezava e se chamava. Depois, no seguinte, apareci, com rapadura, broa de pão, cacho de bananas. Enxerguei nosso pai, no enfim de uma hora, tão custosa para sobrevir: só assim, ele no ao-longe, sentado no fundo da canoa, suspendida no liso do rio. Me viu, não remou para cá, não fez sinal. Mostrei o de comer, depositei num oco de pedra do barranco, a salvo de bicho mexer e a seco de chuva e orvalho. Isso, que fiz, e refiz, sempre, tempos a fora. Surpresa que mais tarde tive: que nossa mãe sabia desse meu encargo, só se encobrindo de não saber; ela mesma deixava, facilitado, sobra de coisas, para o meu conseguir. Nossa mãe muito não se demonstrava.\n",
    "\n",
    "Mandou vir o tio nosso, irmão dela, para auxiliar na fazenda e nos negócios. Mandou vir o mestre, para nós, os meninos. Incumbiu ao padre que um dia se revestisse, em praia de margem, para esconjurar e clamar a nosso pai o ‘dever de desistir da tristonha teima. De outra, por arranjo dela, para medo, vieram os dois soldados. Tudo o que não valeu de nada. Nosso pai passava ao largo, avistado ou diluso, cruzando na canoa, sem deixar ninguém se chegar à pega ou à fala. Mesmo quando foi, não faz muito, dos homens do jornal, que trouxeram a lancha e tencionavam tirar retrato dele, não venceram: nosso pai se desaparecia para a outra banda, aproava a canoa no brejão, de léguas, que há, por entre juncos e mato, e só ele conhecesse, a palmos, a escuridão, daquele.\n",
    "\n",
    "A gente teve de se acostumar com aquilo. Às penas, que, com aquilo, a gente mesmo nunca se acostumou, em si, na verdade. Tiro por mim, que, no que queria, e no que não queria, só com nosso pai me achava: assunto que jogava para trás meus pensamentos. O severo que era, de não se entender, de maneira nenhuma, como ele agüentava. De dia e de noite, com sol ou aguaceiros, calor, sereno, e nas friagens terríveis de meio-do-ano, sem arrumo, só com o chapéu velho na cabeça, por todas as semanas, e meses, e os anos — sem fazer conta do se-ir do viver. Não pojava em nenhuma das duas beiras, nem nas ilhas e croas do rio, não pisou mais em chão nem capim. Por certo, ao menos, que, para dormir seu tanto, ele fizesse amarração da canoa, em alguma ponta-de-ilha, no esconso. Mas não armava um foguinho em praia, nem dispunha de sua luz feita, nunca mais riscou um fósforo. O que consumia de comer, era só um quase; mesmo do que a gente depositava, no entre as raízes da gameleira, ou na lapinha de pedra do barranco, ele recolhia pouco, nem o bastável. Não adoecia? E a constante força dos braços, para ter tento na canoa, resistido, mesmo na demasia das enchentes, no subimento, aí quando no lanço da correnteza enorme do rio tudo rola o perigoso, aqueles corpos de bichos mortos e paus-de-árvore descendo — de espanto de esbarro. E nunca falou mais palavra, com pessoa alguma. Nós, também, não falávamos mais nele. Só se pensava. Não, de nosso pai não se podia ter esquecimento; e, se, por um pouco, a gente fazia que esquecia, era só para se despertar de novo, de repente, com a memória, no passo de outros sobressaltos.\n",
    "\n",
    "Minha irmã se casou; \"nossa mãe não quis festa\". A gente imaginava nele, quando se comia uma comida mais gostosa; assim como, no gasalhado da noite, no desamparo dessas noites de muita chuva, fria, forte, nosso pai só com a mão e uma cabaça para ir esvaziando a canoa da água do temporal. Às vezes, algum conhecido nosso achava que eu ia ficando mais parecido com nosso pai. Mas eu sabia que ele agora virara cabeludo, barbudo, de unhas grandes, mal e magro, ficado preto de sol e dos pêlos, com o aspecto de bicho, conforme quase nu, mesmo dispondo das peças de roupas que a gente de tempos em tempos fornecia.\n",
    "\n",
    "Nem queria saber de nós; não tinha afeto? Mas, por afeto mesmo, de respeito, sempre que às vezes me louvavam, por causa de algum meu bom procedimento, eu falava: — “Foi pai que um dia me ensinou a fazer assim…”; o que não era o certo, exato; mas, que era mentira por verdade. Sendo que, se ele não se lembrava mais, nem queria saber da gente, por que, então, não subia ou descia o rio, para outras paragens, longe, no não-encontrável? Só ele soubesse. Mas minha irmã teve menino, ela mesma entestou que queria mostrar para ele o neto. Viemos, todos, no barranco, foi num dia bonito, minha irmã de vestido branco, que tinha sido o do casamento, ela erguia nos braços a criancinha, o marido dela segurou, para defender os dois, o guarda-sol. A gente chamou, esperou. Nosso pai não apareceu. Minha irmã chorou, nós todos aí choramos, abraçados.\n",
    "\n",
    "Minha irmã se mudou, com o marido, para longe daqui. \"Meu irmão resolveu e se foi, para uma cidade\". Os tempos mudavam, no devagar depressa dos tempos. Nossa mãe terminou indo também, de uma vez, residir com minha irmã, ela estava envelhecida. Eu fiquei aqui, de resto. Eu nunca podia querer me casar. Eu permaneci, com as bagagens da vida. Nosso pai carecia de mim, eu sei — na vagação, no rio no ermo — sem dar razão de seu feito. Seja que, quando eu quis mesmo saber, e firme indaguei, me diz-que-disseram: que constava que nosso pai, alguma vez, tivesse revelado a explicação, ao homem que para ele aprontara a canoa. Mas, agora, esse homem já tinha morrido, ninguém soubesse, fizesse recordação, de nada mais. Só as falsas conversas, sem senso, como por ocasião, no começo, na vinda das primeiras cheias do rio, com chuvas que não estiavam, todos temeram o fim-do-mundo, diziam: que nosso pai fosse o avisado que nem Noé, que, por tanto, a canoa ele tinha antecipado; pois agora me entrelembro. Meu pai, eu não podia malsinar. E apontavam já em mim uns primeiros cabelos brancos.\n",
    "\n",
    "Sou homem de tristes palavras. De que era que eu tinha tanta, tanta culpa? Se o meu pai, sempre fazendo ausência: e o rio-rio-rio, o rio — pondo perpétuo. Eu sofria já o começo de velhice — esta vida era só o demoramento. Eu mesmo tinha achaques, ânsias, cá de baixo, cansaços, perrenguice de reumatismo. E ele? Por quê? Devia de padecer demais. De tão idoso, não ia, mais dia menos dia, fraquejar do vigor, deixar que a canoa emborcasse, ou que bubuiasse sem pulso, na levada do rio, para se despenhar horas abaixo, em tororoma e no tombo da cachoeira, brava, com o fervimento e morte. Apertava o coração. Ele estava lá, sem a minha tranqüilidade. Sou o culpado do que nem sei, de dor em aberto, no meu foro. Soubesse — se as coisas fossem outras. E fui tomando idéia.\n",
    "\n",
    "Sem fazer véspera. Sou doido? Não. Na nossa casa, a palavra doido não se falava, nunca mais se falou, os anos todos, não se condenava ninguém de doido. Ninguém é doido. Ou, então, todos. Só fiz, que fui lá. Com um lenço, para o aceno ser mais. Eu estava muito no meu sentido. Esperei. Ao por fim, ele apareceu, aí e lá, o vulto. Estava ali, sentado à popa. Estava ali, de grito. Chamei, umas quantas vezes. E falei, o que me urgia, jurado e declarado, tive que reforçar a voz: — “Pai, o senhor está velho, já fez o seu tanto… Agora, o senhor vem, não carece mais… O senhor vem, e eu, agora mesmo, quando que seja, a ambas vontades, eu tomo o seu lugar, do senhor, na canoa!…” E, assim dizendo, meu coração bateu no compasso do mais certo.\n",
    "\n",
    "Ele me escutou. Ficou em pé. \"Manejou remo n’água, proava para cá, concordado\". E eu tremi, profundo, de repente: porque, antes, ele tinha levantado o braço e feito um saudar de gesto — o primeiro, depois de tamanhos anos decorridos! E eu não podia… Por pavor, arrepiados os cabelos, corri, fugi, me tirei de lá, num procedimento desatinado. Porquanto que ele me pareceu vir: da parte de além. E estou pedindo, pedindo, pedindo um perdão.\n",
    "\n",
    "Sofri o grave frio dos medos, adoeci. Sei que ninguém soube mais dele. Sou homem, depois desse falimento? Sou o que não foi, o que vai ficar calado. Sei que agora é tarde, e temo abreviar com a vida, nos rasos do mundo. Mas, então, ao menos, que, no artigo da morte, peguem em mim, e me depositem também numa canoinha de nada, nessa água que não pára, de longas beiras: e, eu, rio abaixo, rio a fora, rio a dentro — o rio.\n",
    "\n",
    "'''"
   ]
  },
  {
   "cell_type": "code",
   "execution_count": 56,
   "metadata": {},
   "outputs": [],
   "source": [
    "# RESOLUCAO DO ITEM I\n",
    "palavras = texto.lower().split()\n",
    "palavras = [wrd.strip(string.punctuation) for wrd in palavras]\n",
    "palavras = [wrd.strip('—“…‘') for wrd in palavras]\n",
    "\n",
    "freqdist = {wrd:palavras.count(wrd) for wrd in palavras}\n",
    "sort_frq = [(wrd, freq) for (wrd,freq) in sorted(freqdist.items(), key=lambda item: item[1])]\n",
    "mais_frq_wrd = sort_frq[-1:-11:-1]\n",
    "\n",
    "# RESOLUCAO ITEM II\n",
    "citacoes = []\n",
    "\n",
    "citacao = texto\n",
    "while '\"' in citacao:\n",
    "    i_ini = citacao.find('\"') + 1\n",
    "    citacao = citacao[i_ini:]\n",
    "    \n",
    "    i_end = citacao.find('\"')\n",
    "    citacoes.append(citacao[:i_end])\n",
    "    \n",
    "    citacao = citacao[i_end + 1:]\n",
    "    \n",
    "# RESOLUCAO UTEM III\n",
    "final_lt = [wrd[-1] for wrd in palavras if not wrd == '']\n",
    "freqdist = {ltr:final_lt.count(ltr) for ltr in final_lt}\n",
    "sort_frq = [(ltr,frq) for (ltr,frq) in sorted(freqdist.items(), key=lambda item:item[1])]\n",
    "mais_frq_ltr = sort_frq[-1:-6:-1]\n",
    "\n",
    "# RESOLUCAO ITEM IV\n",
    "with open('respostas_q2.txt', 'a') as writer:\n",
    "    writer.write('\\n\\tmais_frq_wrd: ' + str(mais_frq_wrd))\n",
    "    writer.write('\\n\\tcitacoes: ' + str(citacoes))\n",
    "    writer.write('\\n\\tmais_frq_ltr: ' + str(mais_frq_ltr))"
   ]
  },
  {
   "cell_type": "code",
   "execution_count": null,
   "metadata": {},
   "outputs": [],
   "source": []
  },
  {
   "cell_type": "markdown",
   "metadata": {},
   "source": [
    "Questão 3 (3 pontos)  \n",
    "\n",
    "Christian Goldbach propos que qualquer número ímpar não primo pode ser formado pela soma de um número primo e duas vezes o quadrado de outro número.\n",
    "\n",
    "$9 = 7 + 2×1^2$  \n",
    "$15 = 7 + 2×2^2$  \n",
    "$21 = 3 + 2×3^2$  \n",
    "$25 = 7 + 2×3^2$  \n",
    "$27 = 19 + 2×2^2$  \n",
    "$33 = 31 + 2×1^2$  \n",
    "\n",
    "A conjectura se mostrou falsa. \n",
    "\n",
    "Crie um programa para mostrar qual o primeiro número ímpar não primo que não pode ser escrito pela soma de um primo e duas vezes o quadrado de outro número."
   ]
  },
  {
   "cell_type": "code",
   "execution_count": 75,
   "metadata": {},
   "outputs": [
    {
     "name": "stdout",
     "output_type": "stream",
     "text": [
      "O Numero: 5777\n"
     ]
    }
   ],
   "source": [
    "primos = [2]\n",
    "\n",
    "def isprime(num):\n",
    "    is_primo = 1\n",
    "    for primo in primos:\n",
    "        if num%primo == 0: is_primo = 0\n",
    "    \n",
    "    if is_primo: primos.append(num)\n",
    "    return is_primo\n",
    "\n",
    "def conje(num):\n",
    "    teste = 0\n",
    "    numero = num\n",
    "    for primo in primos:\n",
    "        num = numero\n",
    "        num -= primo\n",
    "        for i in range(1,int(num**(1/2))):\n",
    "            if 2*i**2 == num: teste = 1\n",
    "                \n",
    "    return teste\n",
    "    \n",
    "def find():\n",
    "    num = 9\n",
    "    while 1:\n",
    "        num += 2\n",
    "        if isprime(num): continue\n",
    "        if not conje(num):\n",
    "            return num\n",
    "        # print(num)\n",
    "    return 0\n",
    "        \n",
    "print('O Numero: {}'.format(find()))"
   ]
  },
  {
   "cell_type": "code",
   "execution_count": 60,
   "metadata": {},
   "outputs": [
    {
     "name": "stdout",
     "output_type": "stream",
     "text": [
      "5777\n",
      "CPU times: user 2.82 s, sys: 0 ns, total: 2.82 s\n",
      "Wall time: 2.82 s\n"
     ]
    }
   ],
   "source": []
  },
  {
   "cell_type": "markdown",
   "metadata": {
    "collapsed": true
   },
   "source": [
    "Questão 4 (3 pontos) \n",
    "\n",
    "Vamos ajudar uma tartaruga a sair de um labirinto?  \n",
    "\n",
    "Implemente em Python uma classe chamada “Tartaruga” com as seguintes propriedades:  \n",
    "\n",
    "- Recebe um labirinto (array do numpy) com 0s nas células desocupadas e 1s nas células ocupadas;\n",
    "- Sorteia, ao iniciar, uma posição aleatória para si neste array (representada por 2) dentre as células com 0 (não ocupadas);  \n",
    "- Possui um método \"andar\", que recebe as ordens:\n",
    "    - Norte, na qual tenta diminuir o índice da linha, mantendo o da coluna;\n",
    "    - Sul, na qual tenta aumentar o índice da linha, mantendo o da coluna;\n",
    "    - Leste, na qual tenta aumentar o índice da coluna, mantendo o da linha;\n",
    "    - Oeste, na qual tenta diminuir o índice da coluna, mantendo o da linha;\n",
    "    - Só pode andar para posições que estão ocupadas com '0'.\n",
    "- Possui um método para mostrar a sua posição no labirinto;\n",
    "- Deve guardar as posições que já visitou e a quantidade de vezes (com método para mostrar este array);\n",
    "- Possui um método \"tenta_sair\" com uma estratégia:  \n",
    "    - Anda para o norte, enquanto for possível; \n",
    "    - Quando não for possível andar para o norte, anda para o sul;\n",
    "    - Quando não for possível andar para o norte ou o sul, anda para o leste;\n",
    "    - Quando não for possível andar para o norte ou o sul ou o leste, anda para oeste;\n",
    "    - Quando passar por uma célula já visitada, deve mudar a sequência de \"tenta_sair\" na forma:  \n",
    "        NSLO -> SLON -> LONS -> ONSL -> ...  \n",
    "- Deve saber a cada passo se saiu do labirinto, mostrando uma mensagem e interrompendo o processo de tentar sair;\n",
    "- Caso não consiga sair em 1000 iterações, deve declarar que é impossível sair.  "
   ]
  },
  {
   "cell_type": "code",
   "execution_count": null,
   "metadata": {},
   "outputs": [],
   "source": [
    "#exemplo de labirinto\n",
    "\n",
    "labirinto = np.array([[1,1,1,1,1,1,1,1,1,1,1,1,1,1,1,1,1,1,1,1,1,1],\n",
    "                      [1,0,0,0,1,0,0,0,1,1,0,1,1,0,0,0,0,0,1,0,0,0],\n",
    "                      [1,0,1,0,0,0,0,0,0,0,0,0,0,0,1,1,1,0,1,0,1,1],\n",
    "                      [1,0,1,0,1,0,1,1,1,0,0,1,0,1,1,0,0,0,1,0,1,1],\n",
    "                      [1,0,0,0,1,0,0,1,1,0,0,1,1,1,1,0,0,0,1,0,1,1],\n",
    "                      [1,0,1,0,1,0,0,0,1,0,0,1,0,0,1,0,0,1,1,0,1,1],\n",
    "                      [1,0,1,0,1,0,0,1,0,0,0,1,0,1,1,1,0,0,1,0,1,1],\n",
    "                      [1,0,0,0,1,0,0,1,1,0,0,0,0,1,1,0,1,0,1,0,1,1],\n",
    "                      [1,0,1,0,1,0,0,1,1,0,0,1,1,1,1,0,0,0,1,0,1,1],\n",
    "                      [1,1,1,0,1,1,1,1,1,1,0,0,0,0,1,1,1,0,1,0,0,1],\n",
    "                      [1,0,0,0,0,0,0,0,0,0,0,1,1,0,0,1,1,0,0,0,0,1],\n",
    "                      [1,0,1,1,1,0,1,1,1,1,1,1,0,0,0,1,1,1,1,1,0,1],\n",
    "                      [1,0,1,0,0,0,1,1,0,1,0,1,0,0,0,1,1,1,1,1,0,1],\n",
    "                      [1,0,1,0,1,1,1,1,0,1,0,1,1,1,0,0,0,0,1,1,0,1],\n",
    "                      [1,0,1,0,0,0,0,0,0,1,0,1,0,1,0,1,1,0,1,1,0,1],\n",
    "                      [1,0,1,1,0,1,1,1,1,1,0,1,0,0,0,1,1,0,1,1,0,1],\n",
    "                      [1,0,1,1,0,0,1,1,1,0,0,1,0,0,1,1,1,0,1,1,0,1],\n",
    "                      [1,1,1,1,1,0,1,1,1,0,1,1,0,0,0,1,1,1,1,1,0,1],\n",
    "                      [1,0,0,0,0,0,1,0,0,0,1,1,1,1,0,1,1,0,0,1,0,1],\n",
    "                      [1,0,1,1,1,1,1,1,1,0,0,0,0,0,0,0,0,1,0,0,0,1],\n",
    "                      [1,0,0,0,0,0,0,0,0,0,0,0,0,0,0,0,0,1,0,1,1,1],\n",
    "                      [1,1,1,1,1,1,1,1,1,1,1,1,1,1,1,1,1,1,0,1,1,1]], dtype=int)\n",
    "\n",
    "labirinto.shape"
   ]
  },
  {
   "cell_type": "code",
   "execution_count": null,
   "metadata": {},
   "outputs": [],
   "source": [
    "class Tartaruga:\n",
    "    def __init__(self, labirinto):\n",
    "        self.labirinto = labirinto.copy()\n",
    "        self.rastro = np.zeros([labirinto.shape[0], labirinto.shape[1]])\n",
    "        \n",
    "        x_, y_ = self.posicao_init()\n",
    "        while labirinto[x_, y_] == 1:\n",
    "            x_, y_ = self.posicao_init()\n",
    "        \n",
    "        self.posicao = [x_, y_]\n",
    "        self.rastro[x_, y_] += 1\n",
    "        self.labirinto[x_, y_] = 2\n",
    "        self.metodo = ['N', 'S', 'L', 'O']\n",
    "        \n",
    "    def posicao_init(self):\n",
    "        x_ = np.random.randint(self.labirinto.shape[0])\n",
    "        y_ = np.random.randint(self.labirinto.shape[1])\n",
    "        \n",
    "        return (x_, y_)\n",
    "        \n",
    "    def andar(self, op):\n",
    "        way = [0, 0]\n",
    "        if op == 'N': way = [-1, 0]\n",
    "        if op == 'S': way = [ 1, 0]\n",
    "        if op == 'L': way = [ 0, 1]\n",
    "        if op == 'O': way = [ 0,-1]\n",
    "        \n",
    "        x_ = self.posicao[0] + way[0]\n",
    "        y_ = self.posicao[1] + way[1]\n",
    "        \n",
    "       \n",
    "        if self.labirinto[x_, y_] == 0:\n",
    "            [x, y] = self.posicao\n",
    "            self.posicao = [x_, y_]\n",
    "            self.labirinto[x , y ] = 0\n",
    "            self.labirinto[x_, y_] = 2\n",
    "            self.rastro[x_, y_] += 1\n",
    "            \n",
    "            if self.rastro[x_, y_] > 0:\n",
    "                aux = self.metodo[0]\n",
    "                self.metodo[0] = self.metodo[1]\n",
    "                self.metodo[1] = self.metodo[2]\n",
    "                self.metodo[2] = self.metodo[3]\n",
    "                self.metodo[3] = aux\n",
    "            \n",
    "            return True\n",
    "        return False\n",
    "        \n",
    "    def mostra_posicao(self):\n",
    "        print(self.posicao)\n",
    "        print(self.labirinto)\n",
    "        \n",
    "    def mostra_rastro(self):\n",
    "        print(self.posicao)\n",
    "        print(self.rastro)\n",
    "    \n",
    "    def tenta_sair(self):\n",
    "        for i in range(1000):\n",
    "            try:\n",
    "                while andar(self.metodo[0]): pass\n",
    "                while andar(self.metodo[1]): pass\n",
    "                while andar(self.metodo[2]): pass\n",
    "                while andar(self.metodo[3]): pass\n",
    "            except:\n",
    "                return 'SAIU!! UUU'\n",
    "                    \n",
    "            \n",
    "        return 'Não Deu...'"
   ]
  },
  {
   "cell_type": "code",
   "execution_count": null,
   "metadata": {},
   "outputs": [],
   "source": [
    "maria = Tartaruga(labirinto)"
   ]
  },
  {
   "cell_type": "code",
   "execution_count": null,
   "metadata": {},
   "outputs": [],
   "source": [
    "maria.tenta_sair()\n",
    "maria.mostra_posicao()"
   ]
  },
  {
   "cell_type": "code",
   "execution_count": 220,
   "metadata": {},
   "outputs": [],
   "source": [
    "#fig, ax = plt.subplots(figsize = (8,8))\n",
    "#ax.matshow(labirinto, cmap=plt.cm.Blues)"
   ]
  },
  {
   "cell_type": "code",
   "execution_count": 83,
   "metadata": {},
   "outputs": [],
   "source": []
  },
  {
   "cell_type": "code",
   "execution_count": 84,
   "metadata": {},
   "outputs": [
    {
     "name": "stdout",
     "output_type": "stream",
     "text": [
      "Tartaruga Saiu!!\n"
     ]
    },
    {
     "data": {
      "image/png": "[encoded data removed]",
      "text/plain": [
       "<matplotlib.figure.Figure at 0x7ff0b5632e10>"
      ]
     },
     "metadata": {},
     "output_type": "display_data"
    },
    {
     "data": {
      "image/png": "[encoded data removed]",
      "text/plain": [
       "<matplotlib.figure.Figure at 0x7ff0b647def0>"
      ]
     },
     "metadata": {},
     "output_type": "display_data"
    },
    {
     "data": {
      "image/png": "[encoded data removed]",
      "text/plain": [
       "<matplotlib.figure.Figure at 0x7ff0b5a572e8>"
      ]
     },
     "metadata": {},
     "output_type": "display_data"
    }
   ],
   "source": [
    "turtle = Tartaruga(labirinto)\n",
    "turtle.mostra_posicao()\n",
    "turtle.tenta_sair(10000)\n",
    "turtle.mostra_posicao()\n",
    "turtle.mostra_visitas()"
   ]
  },
  {
   "cell_type": "markdown",
   "metadata": {
    "collapsed": true
   },
   "source": [
    "Questão Bônus (0,5 pontos)  \n",
    "\n",
    "O problema de Monty Hall, também conhecido por paradoxo de Monty Hall é um problema matemático e paradoxo que surgiu a partir de um concurso televisivo dos Estados Unidos chamado \"Let’s Make a Deal\", exibido na década de 1970. O jogo consiste no seguinte: Monty Hall (o apresentador) apresentava 3 portas aos concorrentes, sabendo que atrás de uma delas está um carro (prêmio bom) e que as outras têm prêmios de pouco valor.\n",
    "\n",
    "- Na 1ª etapa o concorrente escolhe uma porta (que ainda não é aberta);  \n",
    "- Em seguida, Monty abre uma das outras duas portas que o concorrente não escolheu, sabendo de antemão que o carro não se encontra na porta que abrirá;  \n",
    "- Agora com duas portas apenas para escolher — pois uma delas já se viu, na 2ª etapa, que não tinha o prêmio — e sabendo que o carro está atrás de uma delas, o concorrente tem que se decidir se permanece com a porta que escolheu no início do jogo e abre-a ou se muda para a outra porta que ainda está fechada para então a abrir.  \n",
    "\n",
    "Demonstre graficamente que é mais provável ganhar o prêmio se trocar de porta do que se não o fizer. Quais as probabilidade de acertar, em ambos os casos?"
   ]
  },
  {
   "cell_type": "code",
   "execution_count": null,
   "metadata": {
    "collapsed": true
   },
   "outputs": [],
   "source": [
    "#seu código aqui"
   ]
  },
  {
   "cell_type": "code",
   "execution_count": null,
   "metadata": {
    "collapsed": true
   },
   "outputs": [],
   "source": []
  }
 ],
 "metadata": {
  "kernelspec": {
   "display_name": "Python 3",
   "language": "python",
   "name": "python3"
  },
  "language_info": {
   "codemirror_mode": {
    "name": "ipython",
    "version": 3
   },
   "file_extension": ".py",
   "mimetype": "text/x-python",
   "name": "python",
   "nbconvert_exporter": "python",
   "pygments_lexer": "ipython3",
   "version": "3.5.2"
  }
 },
 "nbformat": 4,
 "nbformat_minor": 1
}
